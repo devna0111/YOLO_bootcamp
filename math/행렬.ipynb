{
 "cells": [
  {
   "cell_type": "markdown",
   "id": "4e77716c",
   "metadata": {},
   "source": [
    "# 행렬곱\n",
    "- i x j @ j x k = i x k"
   ]
  },
  {
   "cell_type": "code",
   "execution_count": 3,
   "id": "daf0d114",
   "metadata": {},
   "outputs": [
    {
     "data": {
      "text/plain": [
       "(array([[14,  5, 20],\n",
       "        [13, 10, 25]]),\n",
       " array([[14,  5, 20],\n",
       "        [13, 10, 25]]),\n",
       " array([[14,  5, 20],\n",
       "        [13, 10, 25]]))"
      ]
     },
     "execution_count": 3,
     "metadata": {},
     "output_type": "execute_result"
    }
   ],
   "source": [
    "import numpy as np\n",
    "A = np.array([[3,4,1],[0,5,2]])\n",
    "B = np.array([[2,0,0],[1,0,5],[4,5,0]])\n",
    "A@B, np.dot(A,B), np.matmul(A,B)"
   ]
  },
  {
   "cell_type": "markdown",
   "id": "64d036f7",
   "metadata": {},
   "source": [
    "# 역행렬\n",
    "- 행렬곱을 통해 단위행렬을 만드는 행렬을 의미\n",
    "- 행렬식 ad-bc의 결과에 따라 여부 결정\n",
    "```\n",
    "([a b],\n",
    "[c, d])\n",
    "=> 역행렬\n",
    "1/(ad-bc) * ([d -b],\n",
    "              [-c a])\n",
    "```"
   ]
  },
  {
   "cell_type": "code",
   "execution_count": 7,
   "id": "d99e78b7",
   "metadata": {},
   "outputs": [
    {
     "data": {
      "text/plain": [
       "array([[ 5.00000000e-01,  0.00000000e+00, -1.38777878e-17],\n",
       "       [-4.00000000e-01, -0.00000000e+00,  2.00000000e-01],\n",
       "       [-1.00000000e-01,  2.00000000e-01,  0.00000000e+00]])"
      ]
     },
     "execution_count": 7,
     "metadata": {},
     "output_type": "execute_result"
    }
   ],
   "source": [
    "np.linalg.inv(B)"
   ]
  },
  {
   "cell_type": "code",
   "execution_count": 16,
   "id": "be53c492",
   "metadata": {},
   "outputs": [
    {
     "data": {
      "text/plain": [
       "array([[-2. ,  1. ],\n",
       "       [ 1.5, -0.5]])"
      ]
     },
     "execution_count": 16,
     "metadata": {},
     "output_type": "execute_result"
    }
   ],
   "source": [
    "C = np.array([[1,2],[3,4]])\n",
    "C_inverse = np.linalg.inv(C)\n",
    "C_inverse"
   ]
  },
  {
   "cell_type": "code",
   "execution_count": 17,
   "id": "0e165730",
   "metadata": {},
   "outputs": [
    {
     "data": {
      "text/plain": [
       "array([[1.00000000e+00, 1.11022302e-16],\n",
       "       [0.00000000e+00, 1.00000000e+00]])"
      ]
     },
     "execution_count": 17,
     "metadata": {},
     "output_type": "execute_result"
    }
   ],
   "source": [
    "# 행렬곱에 따른 결과 점검\n",
    "C@C_inverse"
   ]
  },
  {
   "cell_type": "code",
   "execution_count": 20,
   "id": "b8332d9d",
   "metadata": {},
   "outputs": [
    {
     "data": {
      "text/plain": [
       "np.float64(-2.0000000000000004)"
      ]
     },
     "execution_count": 20,
     "metadata": {},
     "output_type": "execute_result"
    }
   ],
   "source": [
    "# 행렬식 or determinate / 결정식\n",
    "# 해당 값이 0이라면 역행렬을 구성할 수 없음\n",
    "np.linalg.det(C)"
   ]
  },
  {
   "cell_type": "code",
   "execution_count": null,
   "id": "8f5b1de5",
   "metadata": {},
   "outputs": [],
   "source": [
    "D = np.array([[2,3],[4,6]])\n",
    "# np.linalg.det(D) # 0\n",
    "# np.linalg.inv(D) # Singular matrix Error => 납작하게 눌린 행렬은 역행렬이 존재하지 않는다"
   ]
  },
  {
   "cell_type": "code",
   "execution_count": 24,
   "id": "fc728541",
   "metadata": {},
   "outputs": [
    {
     "data": {
      "text/plain": [
       "array([[3, 4, 1],\n",
       "       [0, 5, 2]])"
      ]
     },
     "execution_count": 24,
     "metadata": {},
     "output_type": "execute_result"
    }
   ],
   "source": [
    "A"
   ]
  },
  {
   "cell_type": "code",
   "execution_count": 25,
   "id": "e631d195",
   "metadata": {},
   "outputs": [
    {
     "data": {
      "text/plain": [
       "array([[2, 0, 0],\n",
       "       [1, 0, 5],\n",
       "       [4, 5, 0]])"
      ]
     },
     "execution_count": 25,
     "metadata": {},
     "output_type": "execute_result"
    }
   ],
   "source": [
    "B"
   ]
  },
  {
   "cell_type": "code",
   "execution_count": null,
   "id": "913965cb",
   "metadata": {},
   "outputs": [],
   "source": []
  }
 ],
 "metadata": {
  "kernelspec": {
   "display_name": "base",
   "language": "python",
   "name": "python3"
  },
  "language_info": {
   "codemirror_mode": {
    "name": "ipython",
    "version": 3
   },
   "file_extension": ".py",
   "mimetype": "text/x-python",
   "name": "python",
   "nbconvert_exporter": "python",
   "pygments_lexer": "ipython3",
   "version": "3.13.5"
  }
 },
 "nbformat": 4,
 "nbformat_minor": 5
}
