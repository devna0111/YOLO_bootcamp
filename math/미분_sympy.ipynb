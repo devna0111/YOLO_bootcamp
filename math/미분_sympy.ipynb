{
 "cells": [
  {
   "cell_type": "code",
   "execution_count": 1,
   "id": "9d457ce5",
   "metadata": {},
   "outputs": [],
   "source": [
    "import sympy as sp"
   ]
  },
  {
   "cell_type": "code",
   "execution_count": 11,
   "id": "54d74eb8",
   "metadata": {},
   "outputs": [
    {
     "data": {
      "text/latex": [
       "$\\displaystyle x^{2020} + 3 x^{3} - 1$"
      ],
      "text/plain": [
       "x**2020 + 3*x**3 - 1"
      ]
     },
     "execution_count": 11,
     "metadata": {},
     "output_type": "execute_result"
    }
   ],
   "source": [
    "x = sp.Symbol('x')\n",
    "y = x**2020 + 3*x**3 -1\n",
    "y"
   ]
  },
  {
   "cell_type": "code",
   "execution_count": 13,
   "id": "042f005a",
   "metadata": {},
   "outputs": [
    {
     "data": {
      "text/latex": [
       "$\\displaystyle 2020 x^{2019} + 9 x^{2}$"
      ],
      "text/plain": [
       "2020*x**2019 + 9*x**2"
      ]
     },
     "execution_count": 13,
     "metadata": {},
     "output_type": "execute_result"
    }
   ],
   "source": [
    "sp.diff(y)"
   ]
  },
  {
   "cell_type": "code",
   "execution_count": 14,
   "id": "1447c6a3",
   "metadata": {},
   "outputs": [
    {
     "data": {
      "text/latex": [
       "$\\displaystyle \\left(x^{2020} + 3 x^{3} - 1\\right)^{2}$"
      ],
      "text/plain": [
       "(x**2020 + 3*x**3 - 1)**2"
      ]
     },
     "execution_count": 14,
     "metadata": {},
     "output_type": "execute_result"
    }
   ],
   "source": [
    "y**2"
   ]
  },
  {
   "cell_type": "code",
   "execution_count": 16,
   "id": "04646844",
   "metadata": {},
   "outputs": [
    {
     "data": {
      "text/latex": [
       "$\\displaystyle \\left(4040 x^{2019} + 18 x^{2}\\right) \\left(x^{2020} + 3 x^{3} - 1\\right) + \\left(10100 x^{2019} + 45 x^{2}\\right) \\left(x^{2020} + 3 x^{3} - 1\\right)^{4}$"
      ],
      "text/plain": [
       "(4040*x**2019 + 18*x**2)*(x**2020 + 3*x**3 - 1) + (10100*x**2019 + 45*x**2)*(x**2020 + 3*x**3 - 1)**4"
      ]
     },
     "execution_count": 16,
     "metadata": {},
     "output_type": "execute_result"
    }
   ],
   "source": [
    "sp.diff(y**2+y**5)"
   ]
  },
  {
   "cell_type": "code",
   "execution_count": 17,
   "id": "3a162592",
   "metadata": {},
   "outputs": [
    {
     "data": {
      "text/latex": [
       "$\\displaystyle - \\frac{x}{\\left(x + 1\\right)^{2}} + \\frac{1}{x + 1}$"
      ],
      "text/plain": [
       "-x/(x + 1)**2 + 1/(x + 1)"
      ]
     },
     "execution_count": 17,
     "metadata": {},
     "output_type": "execute_result"
    }
   ],
   "source": [
    "sp.diff(x/(x+1))"
   ]
  },
  {
   "cell_type": "code",
   "execution_count": 18,
   "id": "be6e6b84",
   "metadata": {},
   "outputs": [
    {
     "data": {
      "text/latex": [
       "$\\displaystyle \\frac{x}{x + 1}$"
      ],
      "text/plain": [
       "x/(x + 1)"
      ]
     },
     "execution_count": 18,
     "metadata": {},
     "output_type": "execute_result"
    }
   ],
   "source": [
    "x/(x+1)"
   ]
  },
  {
   "cell_type": "code",
   "execution_count": 28,
   "id": "d5f027c5",
   "metadata": {},
   "outputs": [
    {
     "data": {
      "text/latex": [
       "$\\displaystyle \\frac{1}{1 + e^{- x}}$"
      ],
      "text/plain": [
       "1/(1 + exp(-x))"
      ]
     },
     "execution_count": 28,
     "metadata": {},
     "output_type": "execute_result"
    }
   ],
   "source": [
    "# sigmoid\n",
    "sig = 1/(1+sp.E**-x)\n",
    "sig"
   ]
  },
  {
   "cell_type": "code",
   "execution_count": 29,
   "id": "38d5b81d",
   "metadata": {},
   "outputs": [
    {
     "data": {
      "text/latex": [
       "$\\displaystyle \\frac{e^{- x}}{\\left(1 + e^{- x}\\right)^{2}}$"
      ],
      "text/plain": [
       "exp(-x)/(1 + exp(-x))**2"
      ]
     },
     "execution_count": 29,
     "metadata": {},
     "output_type": "execute_result"
    }
   ],
   "source": [
    "sp.diff(sig)"
   ]
  }
 ],
 "metadata": {
  "kernelspec": {
   "display_name": "base",
   "language": "python",
   "name": "python3"
  },
  "language_info": {
   "codemirror_mode": {
    "name": "ipython",
    "version": 3
   },
   "file_extension": ".py",
   "mimetype": "text/x-python",
   "name": "python",
   "nbconvert_exporter": "python",
   "pygments_lexer": "ipython3",
   "version": "3.13.5"
  }
 },
 "nbformat": 4,
 "nbformat_minor": 5
}
