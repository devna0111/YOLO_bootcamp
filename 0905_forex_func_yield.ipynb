{
 "cells": [
  {
   "cell_type": "code",
   "execution_count": null,
   "id": "e3b779c3",
   "metadata": {},
   "outputs": [
    {
     "name": "stdout",
     "output_type": "stream",
     "text": [
      "2 x 1 = 2\t3 x 1 = 3\t4 x 1 = 4\t5 x 1 = 5\t6 x 1 = 6\t7 x 1 = 7\t8 x 1 = 8\t9 x 1 = 9\t\n",
      "2 x 2 = 4\t3 x 2 = 6\t4 x 2 = 8\t5 x 2 = 10\t6 x 2 = 12\t7 x 2 = 14\t8 x 2 = 16\t9 x 2 = 18\t\n",
      "2 x 3 = 6\t3 x 3 = 9\t4 x 3 = 12\t5 x 3 = 15\t6 x 3 = 18\t7 x 3 = 21\t8 x 3 = 24\t9 x 3 = 27\t\n",
      "2 x 4 = 8\t3 x 4 = 12\t4 x 4 = 16\t5 x 4 = 20\t6 x 4 = 24\t7 x 4 = 28\t8 x 4 = 32\t9 x 4 = 36\t\n",
      "2 x 5 = 10\t3 x 5 = 15\t4 x 5 = 20\t5 x 5 = 25\t6 x 5 = 30\t7 x 5 = 35\t8 x 5 = 40\t9 x 5 = 45\t\n",
      "2 x 6 = 12\t3 x 6 = 18\t4 x 6 = 24\t5 x 6 = 30\t6 x 6 = 36\t7 x 6 = 42\t8 x 6 = 48\t9 x 6 = 54\t\n",
      "2 x 7 = 14\t3 x 7 = 21\t4 x 7 = 28\t5 x 7 = 35\t6 x 7 = 42\t7 x 7 = 49\t8 x 7 = 56\t9 x 7 = 63\t\n",
      "2 x 8 = 16\t3 x 8 = 24\t4 x 8 = 32\t5 x 8 = 40\t6 x 8 = 48\t7 x 8 = 56\t8 x 8 = 64\t9 x 8 = 72\t\n",
      "2 x 9 = 18\t3 x 9 = 27\t4 x 9 = 36\t5 x 9 = 45\t6 x 9 = 54\t7 x 9 = 63\t8 x 9 = 72\t9 x 9 = 81\t\n"
     ]
    }
   ],
   "source": [
    "for i in range(1,10) : # 행\n",
    "    for j in range(2,10) : # 열\n",
    "        print(f\"{j} x {i} = {i*j}\", end=\"\\t\")\n",
    "    print(\"\")"
   ]
  },
  {
   "cell_type": "code",
   "execution_count": 21,
   "id": "45cd13fc",
   "metadata": {},
   "outputs": [
    {
     "name": "stdout",
     "output_type": "stream",
     "text": [
      "None\n",
      "사탕 감사해요\n",
      "None\n",
      "저랑 데이트 하실래요?\n",
      "샤넬 받았습니다\n",
      "거지랑은 안놀아요!\n",
      "샤넬 받았습니다\n",
      "거지랑은 안놀아요!\n"
     ]
    }
   ],
   "source": [
    "def first() :\n",
    "    pass\n",
    "\n",
    "def second(gift) :\n",
    "    print(f\"{gift} 감사해요\")\n",
    "    pass\n",
    "\n",
    "def third() :\n",
    "    return \"저랑 데이트 하실래요?\"\n",
    "\n",
    "def fourth(gift) :\n",
    "    print(f'{gift} 받았습니다')\n",
    "    return \"저와 데이트 하실래요?\" if gift == \"사넬\" else \"거지랑은 안놀아요!\"\n",
    "\n",
    "first_one = first()\n",
    "print(first_one)\n",
    "sec = second('사탕')\n",
    "print(sec)\n",
    "third_one = third()\n",
    "print(third_one)\n",
    "four_one = fourth(\"샤넬\")\n",
    "print(four_one)\n",
    "four_two = fourth(\"샤넬\")\n",
    "print(four_two)"
   ]
  },
  {
   "cell_type": "code",
   "execution_count": null,
   "id": "72eefa93",
   "metadata": {},
   "outputs": [],
   "source": [
    "def lunch() :\n",
    "    restaurant_list = [\"밥상\",'북촌손만두','버거킹','마라탕','간짬뽕','샐러디',]\n",
    "    import random\n",
    "    restaurant = random.choice(restaurant_list)\n",
    "    return restaurant"
   ]
  },
  {
   "cell_type": "code",
   "execution_count": 25,
   "id": "be655438",
   "metadata": {},
   "outputs": [
    {
     "data": {
      "text/plain": [
       "'김밥'"
      ]
     },
     "execution_count": 25,
     "metadata": {},
     "output_type": "execute_result"
    }
   ],
   "source": [
    "lunch()"
   ]
  },
  {
   "cell_type": "code",
   "execution_count": 2,
   "id": "82b77b2e",
   "metadata": {},
   "outputs": [
    {
     "data": {
      "text/plain": [
       "'x'"
      ]
     },
     "execution_count": 2,
     "metadata": {},
     "output_type": "execute_result"
    }
   ],
   "source": [
    "def return_func(x) : \n",
    "    return x\n",
    "    return \"hi\"\n",
    "\n",
    "return_func('x')"
   ]
  },
  {
   "cell_type": "code",
   "execution_count": null,
   "id": "75676403",
   "metadata": {},
   "outputs": [
    {
     "data": {
      "text/plain": [
       "<generator object gen_func at 0x0000023C82E7CF40>"
      ]
     },
     "execution_count": 31,
     "metadata": {},
     "output_type": "execute_result"
    }
   ],
   "source": [
    "def gen_func(x : str) :\n",
    "    '''generator 공부'''\n",
    "    print('입력값')\n",
    "    yield x\n",
    "\n",
    "    print('입력값 + 가')\n",
    "    x = x + '가'\n",
    "    yield x\n",
    "\n",
    "    print('입력값 + 나')\n",
    "    x = x + '나'\n",
    "    yield x\n",
    "\n",
    "data = gen_func('악')\n",
    "data # 제너레이터 객체 생성"
   ]
  },
  {
   "cell_type": "code",
   "execution_count": 25,
   "id": "75ddf9fd",
   "metadata": {},
   "outputs": [
    {
     "name": "stdout",
     "output_type": "stream",
     "text": [
      "입력값\n",
      "한글 시작 : \n",
      "입력값 + 가\n",
      "한글 시작 : 가\n",
      "입력값 + 나\n",
      "한글 시작 : 가나\n"
     ]
    }
   ],
   "source": [
    "for i in gen_func('한글 시작 : ') :\n",
    "     print(i)"
   ]
  },
  {
   "cell_type": "code",
   "execution_count": 5,
   "id": "9cbda661",
   "metadata": {},
   "outputs": [
    {
     "data": {
      "text/plain": [
       "['1번',\n",
       " '2번',\n",
       " '3번',\n",
       " '4번',\n",
       " '5번',\n",
       " '6번',\n",
       " '7번',\n",
       " '8번',\n",
       " '9번',\n",
       " '10번',\n",
       " '11번',\n",
       " '12번',\n",
       " '13번',\n",
       " '14번',\n",
       " '15번',\n",
       " '16번',\n",
       " '17번',\n",
       " '18번',\n",
       " '19번',\n",
       " '20번']"
      ]
     },
     "execution_count": 5,
     "metadata": {},
     "output_type": "execute_result"
    }
   ],
   "source": [
    "[f\"{i+1}번\" for i in range(20)]"
   ]
  },
  {
   "cell_type": "code",
   "execution_count": null,
   "id": "d249780f",
   "metadata": {},
   "outputs": [
    {
     "data": {
      "text/plain": [
       "range(0, 5)"
      ]
     },
     "execution_count": 12,
     "metadata": {},
     "output_type": "execute_result"
    }
   ],
   "source": []
  },
  {
   "cell_type": "code",
   "execution_count": null,
   "id": "604877f1",
   "metadata": {},
   "outputs": [],
   "source": []
  }
 ],
 "metadata": {
  "kernelspec": {
   "display_name": "base",
   "language": "python",
   "name": "python3"
  },
  "language_info": {
   "codemirror_mode": {
    "name": "ipython",
    "version": 3
   },
   "file_extension": ".py",
   "mimetype": "text/x-python",
   "name": "python",
   "nbconvert_exporter": "python",
   "pygments_lexer": "ipython3",
   "version": "3.13.5"
  }
 },
 "nbformat": 4,
 "nbformat_minor": 5
}
