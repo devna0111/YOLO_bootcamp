{
 "cells": [
  {
   "cell_type": "code",
   "execution_count": null,
   "id": "27771edc",
   "metadata": {},
   "outputs": [],
   "source": [
    "import numpy as np\n",
    "import cv2\n",
    "\n",
    "\n",
    "def affine_transform():\n",
    "    src = cv2.imread('tekapo.bmp')\n",
    "\n",
    "    if src is None:\n",
    "        print('Image load failed!')\n",
    "        return\n",
    "\n",
    "    rows = src.shape[0]\n",
    "    cols = src.shape[1]\n",
    "\n",
    "    src_pts = np.array([[0, 0],\n",
    "                        [cols - 1, 0],\n",
    "                        [cols - 1, rows - 1]]).astype(np.float32)\n",
    "    dst_pts = np.array([[50, 50],\n",
    "                        [cols - 100, 100],\n",
    "                        [cols - 50, rows - 50]]).astype(np.float32)\n",
    "\n",
    "    affine_mat = cv2.getAffineTransform(src_pts, dst_pts)\n",
    "\n",
    "    dst = cv2.warpAffine(src, affine_mat, (0, 0))\n",
    "\n",
    "    cv2.imshow('src', src)\n",
    "    cv2.imshow('dst', dst)\n",
    "    cv2.waitKey()\n",
    "    cv2.destroyAllWindows()\n",
    "\n",
    "\n",
    "def affine_translation():\n",
    "    src = cv2.imread('tekapo.bmp')\n",
    "\n",
    "    if src is None:\n",
    "        print('Image load failed!')\n",
    "        return\n",
    "\n",
    "    affine_mat = np.array([[1, 0, 150],\n",
    "                           [0, 1, 100]]).astype(np.float32)\n",
    "\n",
    "    dst = cv2.warpAffine(src, affine_mat, (0, 0))\n",
    "\n",
    "    cv2.imshow('src', src)\n",
    "    cv2.imshow('dst', dst)\n",
    "    cv2.waitKey()\n",
    "    cv2.destroyAllWindows()\n",
    "\n",
    "\n",
    "def affine_shear():\n",
    "    src = cv2.imread('tekapo.bmp')\n",
    "\n",
    "    if src is None:\n",
    "        print('Image load failed!')\n",
    "        return\n",
    "\n",
    "    rows = src.shape[0]\n",
    "    cols = src.shape[1]\n",
    "\n",
    "    mx = 0.3\n",
    "    affine_mat = np.array([[1, mx, 0],\n",
    "                           [0, 1, 0]]).astype(np.float32)\n",
    "\n",
    "    dst = cv2.warpAffine(src, affine_mat, (int(cols + rows * mx), rows))\n",
    "\n",
    "    cv2.imshow('src', src)\n",
    "    cv2.imshow('dst', dst)\n",
    "    cv2.waitKey()\n",
    "    cv2.destroyAllWindows()\n",
    "\n",
    "\n",
    "def affine_scale():\n",
    "    src = cv2.imread('rose.bmp')\n",
    "\n",
    "    if src is None:\n",
    "        print('Image load failed!')\n",
    "        return\n",
    "\n",
    "    dst1 = cv2.resize(src, (0, 0), fx=4, fy=4, interpolation=cv2.INTER_NEAREST)\n",
    "    dst2 = cv2.resize(src, (1920, 1280))\n",
    "    dst3 = cv2.resize(src, (1920, 1280), interpolation=cv2.INTER_CUBIC)\n",
    "    dst4 = cv2.resize(src, (1920, 1280), interpolation=cv2.INTER_LANCZOS4)\n",
    "\n",
    "    cv2.imshow('src', src)\n",
    "    cv2.imshow('dst1', dst1[400:800, 500:900])\n",
    "    cv2.imshow('dst2', dst2[400:800, 500:900])\n",
    "    cv2.imshow('dst3', dst3[400:800, 500:900])\n",
    "    cv2.imshow('dst4', dst4[400:800, 500:900])\n",
    "    cv2.waitKey()\n",
    "    cv2.destroyAllWindows()\n",
    "\n",
    "\n",
    "def affine_rotation():\n",
    "    src = cv2.imread('tekapo.bmp')\n",
    "\n",
    "    if src is None:\n",
    "        print('Image load failed!')\n",
    "        return\n",
    "\n",
    "    cp = (src.shape[1] / 2, src.shape[0] / 2)\n",
    "    affine_mat = cv2.getRotationMatrix2D(cp, 20, 1)\n",
    "\n",
    "    dst = cv2.warpAffine(src, affine_mat, (0, 0))\n",
    "\n",
    "    cv2.imshow('src', src)\n",
    "    cv2.imshow('dst', dst)\n",
    "    cv2.waitKey()\n",
    "    cv2.destroyAllWindows()\n",
    "\n",
    "\n",
    "def affine_flip():\n",
    "    src = cv2.imread('eastsea.bmp')\n",
    "\n",
    "    if src is None:\n",
    "        print('Image load failed!')\n",
    "        return\n",
    "\n",
    "    cv2.imshow('src', src)\n",
    "\n",
    "    for flip_code in [1, 0, -1]:\n",
    "        dst = cv2.flip(src, flip_code)\n",
    "\n",
    "        desc = 'flipCode: %d' % flip_code\n",
    "        cv2.putText(dst, desc, (10, 30), cv2.FONT_HERSHEY_SIMPLEX,\n",
    "                   1.0, (255, 0, 0), 1, cv2.LINE_AA)\n",
    "\n",
    "        cv2.imshow('dst', dst)\n",
    "        cv2.waitKey()\n",
    "\n",
    "    cv2.destroyAllWindows()\n",
    "\n",
    "\n",
    "if __name__ == '__main__':\n",
    "    affine_transform()\n",
    "    affine_translation()\n",
    "    affine_shear()\n",
    "    affine_scale()\n",
    "    affine_rotation()\n",
    "    affine_flip()"
   ]
  },
  {
   "cell_type": "markdown",
   "id": "ce492561",
   "metadata": {},
   "source": [
    "# 어파인변환\n",
    "- 그림 픽셀값은 그대로, 형태를 바꾸는"
   ]
  },
  {
   "cell_type": "code",
   "execution_count": 1,
   "id": "1ae7e335",
   "metadata": {},
   "outputs": [
    {
     "data": {
      "text/plain": [
       "(480, 640, 3)"
      ]
     },
     "execution_count": 1,
     "metadata": {},
     "output_type": "execute_result"
    }
   ],
   "source": [
    "import cv2\n",
    "import numpy as np\n",
    "\n",
    "src = cv2.imread('img/tekapo.bmp')\n",
    "src.shape"
   ]
  },
  {
   "cell_type": "code",
   "execution_count": 11,
   "id": "caacb553",
   "metadata": {},
   "outputs": [
    {
     "data": {
      "text/plain": [
       "(480, 640)"
      ]
     },
     "execution_count": 11,
     "metadata": {},
     "output_type": "execute_result"
    }
   ],
   "source": [
    "rows = src.shape[0]\n",
    "cols = src.shape[1]\n",
    "rows, cols"
   ]
  },
  {
   "cell_type": "code",
   "execution_count": null,
   "id": "f51a1f2b",
   "metadata": {},
   "outputs": [],
   "source": [
    "src_pts = np.array([[0, 0],\n",
    "                    [cols - 1, 0],\n",
    "                    [cols - 1, rows - 1]]).astype(np.float32) # shape (3,2) 현재 3개의 좌표를 의미"
   ]
  },
  {
   "cell_type": "code",
   "execution_count": null,
   "id": "c1e132f5",
   "metadata": {},
   "outputs": [],
   "source": [
    "dst_pts = np.array([[50, 50],\n",
    "                    [cols - 100, 100],\n",
    "                    [cols - 50, rows - 50]]).astype(np.float32)# shape (3,2) 옮길 좌표"
   ]
  },
  {
   "cell_type": "code",
   "execution_count": null,
   "id": "5e98c987",
   "metadata": {},
   "outputs": [],
   "source": [
    "affine_mat = cv2.getAffineTransform(src_pts, dst_pts) # 좌표 3개를 어떻게 옮길까? 에 대한 해답"
   ]
  },
  {
   "cell_type": "code",
   "execution_count": 6,
   "id": "67d652b7",
   "metadata": {},
   "outputs": [
    {
     "data": {
      "text/plain": [
       "array([[ 0.76682316,  0.10438413, 50.        ],\n",
       "       [ 0.07824726,  0.68893528, 50.        ]])"
      ]
     },
     "execution_count": 6,
     "metadata": {},
     "output_type": "execute_result"
    }
   ],
   "source": [
    "affine_mat"
   ]
  },
  {
   "cell_type": "code",
   "execution_count": null,
   "id": "157e4769",
   "metadata": {},
   "outputs": [],
   "source": [
    "dst = cv2.warpAffine(src, affine_mat, (0, 0)) # 원본을 affine_mat으로 이동시킨다, dsize=(0,0)이면 출력 크기를 src와 동일하게 맞추라는 의미"
   ]
  },
  {
   "cell_type": "code",
   "execution_count": 12,
   "id": "9931d42b",
   "metadata": {},
   "outputs": [],
   "source": [
    "cv2.imshow('src', src)\n",
    "cv2.imshow('dst', dst)\n",
    "cv2.waitKey()\n",
    "cv2.destroyAllWindows()"
   ]
  },
  {
   "cell_type": "markdown",
   "id": "59c520dd",
   "metadata": {},
   "source": [
    "# 이동변환\n",
    "- 이미지 픽셀값 그대로, 좌표 이동\n",
    "- 행렬의 곱 + scala 150,100 을 더한 값이라서 단위행렬 + 좌표계 형태임\n",
    "- 아래는 150,100 이동한 결과\n",
    "```\n",
    "([[1,0,150],\n",
    "[0,1,100]])\n",
    "```"
   ]
  },
  {
   "cell_type": "code",
   "execution_count": 16,
   "id": "4ca38e45",
   "metadata": {},
   "outputs": [],
   "source": [
    "affine_mat = np.array([[1,0,150],\n",
    "                        [0,1,100]]).astype(np.float32) # 행렬의 곱 + scala 150,100 을 더한 값이라서 단위행렬 + 좌표계 형태임"
   ]
  },
  {
   "cell_type": "code",
   "execution_count": 14,
   "id": "9384d277",
   "metadata": {},
   "outputs": [],
   "source": [
    "dst = cv2.warpAffine(src, affine_mat, (0, 0))"
   ]
  },
  {
   "cell_type": "code",
   "execution_count": 15,
   "id": "54592225",
   "metadata": {},
   "outputs": [],
   "source": [
    "cv2.imshow('src', src)\n",
    "cv2.imshow('dst', dst)\n",
    "cv2.waitKey()\n",
    "cv2.destroyAllWindows()"
   ]
  },
  {
   "cell_type": "markdown",
   "id": "8f904a3b",
   "metadata": {},
   "source": [
    "# 응용버젼"
   ]
  },
  {
   "cell_type": "code",
   "execution_count": 17,
   "id": "95dc338d",
   "metadata": {},
   "outputs": [],
   "source": [
    "mx = 0.3\n",
    "affine_mat = np.array([[1,mx,0],\n",
    "                        [0,1,0]]).astype(np.float32)"
   ]
  },
  {
   "cell_type": "code",
   "execution_count": null,
   "id": "b6088070",
   "metadata": {},
   "outputs": [],
   "source": [
    "dst1 = cv2.warpAffine(src, affine_mat, (int(cols+rows+mx), rows)) # dsize를 수정한 값\n",
    "dst2 = cv2.warpAffine(src, affine_mat, (0,0))\n",
    "\n",
    "cv2.imshow('dst1_mx', dst1)\n",
    "cv2.imshow('dst2_zeros', dst2)\n",
    "cv2.waitKey()\n",
    "cv2.destroyAllWindows()"
   ]
  },
  {
   "cell_type": "markdown",
   "id": "47a3515a",
   "metadata": {},
   "source": [
    "# 크기변환\n",
    "-보간 interpolation\n",
    "- resize 이용"
   ]
  },
  {
   "cell_type": "markdown",
   "id": "4e04a52b",
   "metadata": {},
   "source": [
    "# 회전변환"
   ]
  },
  {
   "cell_type": "code",
   "execution_count": 20,
   "id": "71a9b75c",
   "metadata": {},
   "outputs": [
    {
     "data": {
      "text/plain": [
       "(480, 640, 3)"
      ]
     },
     "execution_count": 20,
     "metadata": {},
     "output_type": "execute_result"
    }
   ],
   "source": [
    "src.shape"
   ]
  },
  {
   "cell_type": "code",
   "execution_count": null,
   "id": "376f06a6",
   "metadata": {},
   "outputs": [],
   "source": [
    "cp1 = (src.shape[0]/2 , src.shape[1]/2)\n",
    "cp2 = (src.shape[1]/2 , src.shape[0]/2)"
   ]
  },
  {
   "cell_type": "code",
   "execution_count": 25,
   "id": "4f687b68",
   "metadata": {},
   "outputs": [],
   "source": [
    "affine_mat1 = cv2.getRotationMatrix2D(cp, 20, 1)\n",
    "affine_mat2 = cv2.getRotationMatrix2D(cp, 20, 1)\n",
    "dst1 = cv2.warpAffine(src, affine_mat1, (0,0))\n",
    "dst2 = cv2.warpAffine(src, affine_mat2, (0,0))\n",
    "cv2.imshow('dst1', dst1)\n",
    "cv2.imshow('dst2', dst2)\n",
    "cv2.waitKey()\n",
    "cv2.destroyAllWindows()"
   ]
  },
  {
   "cell_type": "markdown",
   "id": "5555431c",
   "metadata": {},
   "source": [
    "# flip 변환"
   ]
  },
  {
   "cell_type": "code",
   "execution_count": 6,
   "id": "c5c58f83",
   "metadata": {},
   "outputs": [],
   "source": [
    "import cv2\n",
    "import numpy as np\n",
    "\n",
    "def affine_flip():\n",
    "    src = cv2.imread('img/5shapes.jpg')\n",
    "\n",
    "    if src is None:\n",
    "        print('Image load failed!')\n",
    "        return\n",
    "\n",
    "    cv2.imshow('src', src)\n",
    "\n",
    "    for flip_code in [1, 0, -1]:\n",
    "        dst = cv2.flip(src, flip_code)\n",
    "\n",
    "        desc = 'flipCode: %d' % flip_code\n",
    "        cv2.putText(dst, desc, (10, 30), cv2.FONT_HERSHEY_SIMPLEX,\n",
    "                   1.0, (255, 0, 0), 1, cv2.LINE_AA)\n",
    "\n",
    "        cv2.imshow('dst', dst)\n",
    "        cv2.waitKey()\n",
    "\n",
    "    cv2.destroyAllWindows()\n",
    "\n",
    "if __name__ == \"__main__\" :\n",
    "    affine_flip()"
   ]
  },
  {
   "cell_type": "code",
   "execution_count": null,
   "id": "4e1ab2a9",
   "metadata": {},
   "outputs": [],
   "source": []
  }
 ],
 "metadata": {
  "kernelspec": {
   "display_name": "base",
   "language": "python",
   "name": "python3"
  },
  "language_info": {
   "codemirror_mode": {
    "name": "ipython",
    "version": 3
   },
   "file_extension": ".py",
   "mimetype": "text/x-python",
   "name": "python",
   "nbconvert_exporter": "python",
   "pygments_lexer": "ipython3",
   "version": "3.13.5"
  }
 },
 "nbformat": 4,
 "nbformat_minor": 5
}
