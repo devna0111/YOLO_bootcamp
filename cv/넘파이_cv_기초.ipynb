{
 "cells": [
  {
   "cell_type": "code",
   "execution_count": 1,
   "id": "cafd6d83",
   "metadata": {},
   "outputs": [],
   "source": [
    "import cv2 as cv\n",
    "import sys\n",
    "cap = cv.VideoCapture(0)\n",
    "if not cap.isOpened():\n",
    "    sys.exit('카메라 연결 실패')"
   ]
  },
  {
   "cell_type": "code",
   "execution_count": null,
   "id": "4ed97cd2",
   "metadata": {},
   "outputs": [],
   "source": [
    "import sys\n",
    "import cv2 as cv\n",
    "cap = cv.VideoCapture(0)\n",
    "while True:\n",
    "    ret, frame = cap.read()\n",
    "    # print(ret)\n",
    "    print(frame)\n",
    "    cv.imshow('video',frame)\n",
    "    key = cv.waitKey(1) # 밀리세컨즈\n",
    "    if key == ord('q') :\n",
    "        break\n",
    "    \n",
    "cap.release()\n",
    "cv.destroyAllWindows()"
   ]
  },
  {
   "cell_type": "code",
   "execution_count": null,
   "id": "e2f8895d",
   "metadata": {},
   "outputs": [],
   "source": [
    "import cv2 as cv\n",
    "video_file = './img/big_buck.avi'\n",
    "cap = cv.VideoCapture(filename=video_file)"
   ]
  },
  {
   "cell_type": "code",
   "execution_count": null,
   "id": "62d54c5b",
   "metadata": {},
   "outputs": [],
   "source": [
    "# 동영상\n",
    "if cap.isOpened() :\n",
    "    while True:\n",
    "        ret, frame = cap.read() # ret : return\n",
    "        if ret :\n",
    "            cv.imshow(video_file,frame)\n",
    "            cv.waitKey(25) #\n",
    "        else :\n",
    "            break\n",
    "else :\n",
    "    print(\"can't open video\")\n",
    "cap.release()\n",
    "cv.destroyAllWindows()"
   ]
  },
  {
   "cell_type": "code",
   "execution_count": null,
   "id": "41a5ae4c",
   "metadata": {},
   "outputs": [],
   "source": [
    "# FPS : frame per second\n",
    "# 보통 동영상 파일이 40fps\n",
    "# 지연시간 = 1000/fps"
   ]
  },
  {
   "cell_type": "code",
   "execution_count": 6,
   "id": "1b4c0071",
   "metadata": {},
   "outputs": [
    {
     "data": {
      "text/plain": [
       "True"
      ]
     },
     "execution_count": 6,
     "metadata": {},
     "output_type": "execute_result"
    }
   ],
   "source": [
    "cap = cv.VideoCapture(0)\n",
    "cap.isOpened()"
   ]
  },
  {
   "cell_type": "code",
   "execution_count": 11,
   "id": "a23d3b69",
   "metadata": {},
   "outputs": [],
   "source": [
    "import cv2 as cv\n",
    "cap = cv.VideoCapture(0)\n",
    "if cap.isOpened() :\n",
    "    while True:\n",
    "        ret, frame = cap.read()\n",
    "        if ret :\n",
    "            cv.imshow('camera',frame)\n",
    "            if cv.waitKey(1) != -1 : # 아무 키나 누르면\n",
    "                cv.imwrite('photo.jpg', frame)\n",
    "                break\n",
    "        else : \n",
    "            print('no camera')\n",
    "            break\n",
    "else :\n",
    "    print('no camera')\n",
    "cap.release()\n",
    "cv.destroyAllWindows()"
   ]
  },
  {
   "cell_type": "markdown",
   "id": "732ee539",
   "metadata": {},
   "source": [
    "## 캡쳐하기"
   ]
  },
  {
   "cell_type": "code",
   "execution_count": 2,
   "id": "deebb205",
   "metadata": {},
   "outputs": [],
   "source": [
    "import cv2 as cv\n",
    "cap = cv.VideoCapture(0) # int : 카메라 디바이스 번호\n",
    "if cap.isOpened() : # camera가 연결된 상태인 지 반환\n",
    "    while True :\n",
    "        ret, frame = cap.read()\n",
    "        if ret :\n",
    "            cv.imshow('camera',frame)\n",
    "            if cv.waitKey(1) != -1 : # waitKey => 키가 눌리면 키의 아스키 코드 반환 (-1 평시 )\n",
    "                cv.imwrite('./img/sample.jpg', frame) # filepath, np.array\n",
    "                break\n",
    "        else :\n",
    "            print(\"ERROR\")\n",
    "            break\n",
    "else :\n",
    "    print(\"NO CAMERA\")\n",
    "\n",
    "cap.release() # stream 닫기\n",
    "cv.destroyAllWindows() # 모든 cv 객체용 창 닫기"
   ]
  },
  {
   "cell_type": "markdown",
   "id": "ce61de4d",
   "metadata": {},
   "source": [
    "## 녹화하기"
   ]
  },
  {
   "cell_type": "code",
   "execution_count": null,
   "id": "9ce425a1",
   "metadata": {},
   "outputs": [],
   "source": [
    "import cv2 as cv\n",
    "cap = cv.VideoCapture(0)\n",
    "if cap.isOpened() :\n",
    "    file_path = './record.avi'\n",
    "    fps = 25.4\n",
    "    fourcc = cv.VideoWriter_fourcc(*\"DIVX\")\n",
    "    # fourcc 코드를 만든다 => writer.fourcc(c1,c2,c3,c4)\n",
    "    # 인코딩 형식을 의미, 인코딩 형식 4글자 \"MPEG\", \"DIVX\" codec => YUV, HSV 등 여러 형태의 빛 표현 방식있음\n",
    "    width = cap.get(cv.CAP_PROP_FRAME_WIDTH)\n",
    "    height = cap.get(cv.CAP_PROP_FRAME_HEIGHT)\n",
    "    size = (int(width),int(height))\n",
    "    out = cv.VideoWriter(file_path,fourcc,fps,size)\n",
    "    while True :\n",
    "        ret, frame = cap.read() # ret : return\n",
    "        if ret :\n",
    "            cv.imshow(\"Recording\",frame)\n",
    "            out.write(frame)\n",
    "            if cv.waitKey(int(1000/fps)) != -1 :\n",
    "                break\n",
    "        else :\n",
    "            print(\"no frame\")\n",
    "            break\n",
    "    out.release()\n",
    "else :\n",
    "    print(\"can't open video\")\n",
    "cap.release()\n",
    "cv.destroyAllWindows()"
   ]
  },
  {
   "cell_type": "code",
   "execution_count": null,
   "id": "93a08df8",
   "metadata": {},
   "outputs": [],
   "source": []
  }
 ],
 "metadata": {
  "kernelspec": {
   "display_name": "base",
   "language": "python",
   "name": "python3"
  },
  "language_info": {
   "codemirror_mode": {
    "name": "ipython",
    "version": 3
   },
   "file_extension": ".py",
   "mimetype": "text/x-python",
   "name": "python",
   "nbconvert_exporter": "python",
   "pygments_lexer": "ipython3",
   "version": "3.13.5"
  }
 },
 "nbformat": 4,
 "nbformat_minor": 5
}
