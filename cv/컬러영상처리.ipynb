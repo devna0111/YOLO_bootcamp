{
 "cells": [
  {
   "cell_type": "code",
   "execution_count": 1,
   "id": "9a6a5aef",
   "metadata": {},
   "outputs": [],
   "source": [
    "import numpy as np\n",
    "import cv2"
   ]
  },
  {
   "cell_type": "code",
   "execution_count": 2,
   "id": "f6938859",
   "metadata": {},
   "outputs": [
    {
     "data": {
      "text/plain": [
       "array([[[ 47,  88,  50],\n",
       "        [ 47,  88,  50],\n",
       "        [ 48,  87,  49],\n",
       "        ...,\n",
       "        [170, 150, 145],\n",
       "        [172, 151, 154],\n",
       "        [174, 150, 162]],\n",
       "\n",
       "       [[ 50,  91,  53],\n",
       "        [ 48,  89,  51],\n",
       "        [ 46,  85,  47],\n",
       "        ...,\n",
       "        [171, 150, 149],\n",
       "        [173, 151, 156],\n",
       "        [174, 151, 165]],\n",
       "\n",
       "       [[ 53,  94,  56],\n",
       "        [ 48,  89,  51],\n",
       "        [ 43,  82,  44],\n",
       "        ...,\n",
       "        [168, 149, 152],\n",
       "        [171, 152, 161],\n",
       "        [172, 153, 168]],\n",
       "\n",
       "       ...,\n",
       "\n",
       "       [[ 43, 123,  58],\n",
       "        [ 44, 122,  58],\n",
       "        [ 46, 121,  59],\n",
       "        ...,\n",
       "        [103, 223, 218],\n",
       "        [ 94, 214, 203],\n",
       "        [ 88, 205, 190]],\n",
       "\n",
       "       [[ 41, 121,  56],\n",
       "        [ 42, 120,  56],\n",
       "        [ 45, 120,  58],\n",
       "        ...,\n",
       "        [103, 223, 218],\n",
       "        [ 95, 217, 206],\n",
       "        [ 92, 209, 194]],\n",
       "\n",
       "       [[ 45, 125,  60],\n",
       "        [ 46, 124,  60],\n",
       "        [ 49, 124,  62],\n",
       "        ...,\n",
       "        [103, 223, 218],\n",
       "        [ 97, 219, 208],\n",
       "        [ 96, 213, 198]]], dtype=uint8)"
      ]
     },
     "execution_count": 2,
     "metadata": {},
     "output_type": "execute_result"
    }
   ],
   "source": [
    "src = cv2.imread('img/butterfly.jpg')\n",
    "src"
   ]
  },
  {
   "cell_type": "code",
   "execution_count": 3,
   "id": "7d87b876",
   "metadata": {},
   "outputs": [
    {
     "data": {
      "text/plain": [
       "(356, 493, 3)"
      ]
     },
     "execution_count": 3,
     "metadata": {},
     "output_type": "execute_result"
    }
   ],
   "source": [
    "src.shape"
   ]
  },
  {
   "cell_type": "code",
   "execution_count": 4,
   "id": "400b6f2b",
   "metadata": {},
   "outputs": [
    {
     "data": {
      "text/plain": [
       "array([47, 88, 50], dtype=uint8)"
      ]
     },
     "execution_count": 4,
     "metadata": {},
     "output_type": "execute_result"
    }
   ],
   "source": [
    "src[0,0]"
   ]
  },
  {
   "cell_type": "code",
   "execution_count": 7,
   "id": "11445715",
   "metadata": {},
   "outputs": [
    {
     "data": {
      "text/plain": [
       "(356, 493, 3)"
      ]
     },
     "execution_count": 7,
     "metadata": {},
     "output_type": "execute_result"
    }
   ],
   "source": [
    "dst = np.zeros(src.shape).astype(np.uint8)\n",
    "dst.shape"
   ]
  },
  {
   "cell_type": "code",
   "execution_count": 8,
   "id": "5d4aa954",
   "metadata": {},
   "outputs": [],
   "source": [
    "for j in range(src.shape[0]) :\n",
    "    for i in range(src.shape[1]) :\n",
    "        p1 = src[j,i]\n",
    "        p2 = dst[j,i]\n",
    "        p2[0] = 255-p1[0]\n",
    "        p2[1] = 255-p1[1]\n",
    "        p2[2] = 255-p1[2]\n",
    "cv2.imshow('src',src)\n",
    "cv2.imshow('dst',dst)\n",
    "cv2.waitKey()\n",
    "cv2.destroyAllWindows()"
   ]
  },
  {
   "cell_type": "markdown",
   "id": "f4069d19",
   "metadata": {},
   "source": [
    "# 컬러 스플릿"
   ]
  },
  {
   "cell_type": "code",
   "execution_count": 10,
   "id": "45b3f25c",
   "metadata": {},
   "outputs": [],
   "source": [
    "def color_split():\n",
    "    src = cv2.imread('img/candies.png', cv2.IMREAD_COLOR)\n",
    "\n",
    "    if src is None:\n",
    "        print('Image load failed!')\n",
    "        return\n",
    "\n",
    "    # b_plane, g_plane, r_plane = cv2.split(src)\n",
    "    bgr_planes = cv2.split(src)\n",
    "\n",
    "    cv2.imshow('src', src)\n",
    "    cv2.imshow('B_plane', bgr_planes[0])\n",
    "    cv2.imshow('G_plane', bgr_planes[1])\n",
    "    cv2.imshow('R_plane', bgr_planes[2])\n",
    "    cv2.waitKey()\n",
    "    cv2.destroyAllWindows()\n"
   ]
  },
  {
   "cell_type": "code",
   "execution_count": 11,
   "id": "79bf56e1",
   "metadata": {},
   "outputs": [],
   "source": [
    "color_split()"
   ]
  },
  {
   "cell_type": "code",
   "execution_count": 91,
   "id": "552a2895",
   "metadata": {},
   "outputs": [
    {
     "name": "stdout",
     "output_type": "stream",
     "text": [
      "[[ 30 179 111]\n",
      " [ 58 186 175]\n",
      " [ 62 191 175]\n",
      " ...\n",
      " [ 75 211 175]\n",
      " [ 81 216 182]\n",
      " [ 57 173 198]]\n",
      "[[130 255 211]\n",
      " [158 255 255]\n",
      " [162 255 255]\n",
      " ...\n",
      " [175 255 255]\n",
      " [181 255 255]\n",
      " [157 255 255]]\n"
     ]
    }
   ],
   "source": [
    "import sys\n",
    "import numpy as np\n",
    "import cv2\n",
    "\n",
    "\n",
    "src = cv2.imread('img/pepper.bmp', cv2.IMREAD_COLOR)\n",
    "\n",
    "if src is None:\n",
    "    print('Image load failed!')\n",
    "    sys.exit()\n",
    "\n",
    "src_ycrcb = cv2.cvtColor(src, cv2.COLOR_BGR2YCrCb) # YCrCb\n",
    "\n",
    "ycrcb_planes = cv2.split(src_ycrcb)\n",
    "\n",
    "\n",
    "\n",
    "# type(ycrcb_planes), type(ycrcb_planes[0]), src_ycrcb.shape\n",
    "print(src_ycrcb[0])\n",
    "src_ycrcb[0] = cv2.add(src_ycrcb[0],100)\n",
    "print(src_ycrcb[0])\n",
    "src_BGR = cv2.cvtColor(src_ycrcb, cv2.COLOR_YCrCb2BGR)\n",
    "cv2.imshow('src',src)\n",
    "\n",
    "cv2.imshow('src_ycrcb',src_ycrcb)\n",
    "\n",
    "cv2.imshow('src_BGR',src_BGR)\n",
    "\n",
    "cv2.waitKey()\n",
    "cv2.destroyAllWindows()"
   ]
  },
  {
   "cell_type": "code",
   "execution_count": 52,
   "id": "a5c0f63c",
   "metadata": {},
   "outputs": [
    {
     "name": "stdout",
     "output_type": "stream",
     "text": [
      "[[ 30  58  62 ...  75  81  57]\n",
      " [ 37 119 114 ... 174 161 157]\n",
      " [ 38 121 115 ... 171 170 158]\n",
      " ...\n",
      " [ 28 124 132 ... 199 196 187]\n",
      " [ 28 121 111 ... 195 193 169]\n",
      " [ 28  86 127 ... 184 192 196]]\n"
     ]
    }
   ],
   "source": [
    "print(ycrcb_planes[0])\n",
    "ycrcb_planes = list(ycrcb_planes)\n",
    "ycrcb_planes_G = ycrcb_planes.copy()\n",
    "ycrcb_planes_R = ycrcb_planes.copy()\n",
    "# B\n",
    "ycrcb_planes[0] = cv2.equalizeHist(ycrcb_planes[0])\n",
    "dst_ycrcb = cv2.merge(ycrcb_planes)\n",
    "dst_B = cv2.cvtColor(dst_ycrcb, cv2.COLOR_YCrCb2BGR)\n",
    "# BG\n",
    "ycrcb_planes[1] = cv2.equalizeHist(ycrcb_planes[1])\n",
    "dst_ycrcb = cv2.merge(ycrcb_planes)\n",
    "dst_BG = cv2.cvtColor(dst_ycrcb, cv2.COLOR_YCrCb2BGR)\n",
    "# BGR\n",
    "ycrcb_planes[2] = cv2.equalizeHist(ycrcb_planes[2])\n",
    "dst_ycrcb = cv2.merge(ycrcb_planes)\n",
    "dst_BGR = cv2.cvtColor(dst_ycrcb, cv2.COLOR_YCrCb2BGR)\n",
    "# G\n",
    "ycrcb_planes_G[1] = cv2.equalizeHist(ycrcb_planes_G[1])\n",
    "dst_ycrcb_G = cv2.merge(ycrcb_planes_G)\n",
    "dst_G = cv2.cvtColor(dst_ycrcb_G, cv2.COLOR_YCrCb2BGR)\n",
    "# GR\n",
    "ycrcb_planes_G[2] = cv2.equalizeHist(ycrcb_planes_G[2])\n",
    "dst_ycrcb_G = cv2.merge(ycrcb_planes_G)\n",
    "dst_GR = cv2.cvtColor(dst_ycrcb_G, cv2.COLOR_YCrCb2BGR)\n",
    "# R\n",
    "ycrcb_planes_R[2] = cv2.equalizeHist(ycrcb_planes_R[2])\n",
    "dst_ycrcb_R = cv2.merge(ycrcb_planes_R)\n",
    "dst_R = cv2.cvtColor(dst_ycrcb_R, cv2.COLOR_YCrCb2BGR)"
   ]
  },
  {
   "cell_type": "code",
   "execution_count": 54,
   "id": "f3c61821",
   "metadata": {},
   "outputs": [],
   "source": [
    "dst_ycrcb = cv2.merge(ycrcb_planes)\n",
    "dst = cv2.cvtColor(dst_ycrcb, cv2.COLOR_YCrCb2BGR)\n",
    "\n",
    "cv2.imshow('src', src)\n",
    "cv2.imshow('dst_B', dst_B)\n",
    "cv2.imshow('dst_BG', dst_BG)\n",
    "cv2.imshow('dst_BGR', dst_BGR)\n",
    "cv2.imshow('dst_G', dst_G)\n",
    "cv2.imshow('dst_GR', dst_GR)\n",
    "cv2.imshow('dst_R', dst_R)\n",
    "cv2.waitKey()\n",
    "cv2.destroyAllWindows()"
   ]
  },
  {
   "cell_type": "code",
   "execution_count": 97,
   "id": "9e77d6e7",
   "metadata": {},
   "outputs": [
    {
     "data": {
      "text/plain": [
       "[array([[  0, 142, 146, ..., 158, 177, 181],\n",
       "        [  0,  46,  51, ...,  85,  86,  85],\n",
       "        [  0,  50,  48, ...,  91,  77,  87],\n",
       "        ...,\n",
       "        [  0,  47,  54, ..., 174, 170, 129],\n",
       "        [  0,  52,  48, ..., 163, 170, 117],\n",
       "        [  0,  36,  58, ..., 150, 181, 171]], dtype=uint8),\n",
       " array([[  0,   0,   0, ...,   0,   0,   0],\n",
       "        [  0,  96,  87, ..., 202, 188, 192],\n",
       "        [  0, 102,  93, ..., 200, 200, 195],\n",
       "        ...,\n",
       "        [  0, 137, 145, ..., 213, 210, 197],\n",
       "        [  0, 124, 115, ..., 211, 206, 165],\n",
       "        [  0,  79, 135, ..., 199, 205, 200]], dtype=uint8),\n",
       " array([[101, 140, 151, ..., 192, 205, 120],\n",
       "        [123, 191, 190, ..., 154, 136, 115],\n",
       "        [126, 185, 185, ..., 144, 148, 113],\n",
       "        ...,\n",
       "        [ 92, 127, 136, ..., 181, 177, 189],\n",
       "        [ 92, 142, 126, ..., 175, 176, 196],\n",
       "        [ 93, 119, 139, ..., 166, 171, 198]], dtype=uint8)]"
      ]
     },
     "execution_count": 97,
     "metadata": {},
     "output_type": "execute_result"
    }
   ],
   "source": [
    "src.shape # 3channel => BGR\n",
    "color_data = cv2.split(src)\n",
    "color_data = list(color_data)\n",
    "color_data"
   ]
  },
  {
   "cell_type": "code",
   "execution_count": 100,
   "id": "9d06f04f",
   "metadata": {},
   "outputs": [
    {
     "data": {
      "text/plain": [
       "(512, 512, 3)"
      ]
     },
     "execution_count": 100,
     "metadata": {},
     "output_type": "execute_result"
    }
   ],
   "source": [
    "src.shape"
   ]
  },
  {
   "cell_type": "code",
   "execution_count": 101,
   "id": "7e0e89c8",
   "metadata": {},
   "outputs": [],
   "source": [
    "color_data[0] = cv2.equalizeHist(color_data[0])\n",
    "color_data[1] = cv2.equalizeHist(color_data[1])\n",
    "color_data[2] = cv2.equalizeHist(color_data[2])\n",
    "src_color_equ = cv2.merge(color_data)\n",
    "cv2.imshow(\"src_color_equ\",src_color_equ)\n",
    "cv2.imshow(\"src\",src)\n",
    "cv2.waitKey()\n",
    "cv2.destroyAllWindows()"
   ]
  },
  {
   "cell_type": "code",
   "execution_count": 106,
   "id": "be200d4f",
   "metadata": {},
   "outputs": [
    {
     "data": {
      "text/plain": [
       "[array([[ 10,  58,  64, ...,  87,  99,  48],\n",
       "        [ 22, 130, 129, ..., 187, 162, 154],\n",
       "        [ 24, 128, 125, ..., 182, 179, 157],\n",
       "        ...,\n",
       "        [  8, 109, 118, ..., 222, 217, 206],\n",
       "        [  8, 113, 101, ..., 217, 210, 177],\n",
       "        [  8,  82, 116, ..., 195, 207, 218]], dtype=uint8),\n",
       " array([[145, 162, 170, ..., 208, 226, 142],\n",
       "        [165, 175, 174, ...,  86,  82,  59],\n",
       "        [168, 167, 169, ...,  78,  85,  54],\n",
       "        ...,\n",
       "        [142, 109, 114, ...,  93,  91, 117],\n",
       "        [142, 124, 113, ...,  88,  94, 152],\n",
       "        [142, 117, 119, ...,  93,  90, 127]], dtype=uint8),\n",
       " array([[122, 228, 226, ..., 214, 210, 240],\n",
       "        [116, 107, 114, ..., 125, 141, 144],\n",
       "        [114, 113, 112, ..., 136, 115, 145],\n",
       "        ...,\n",
       "        [123, 120, 123, ..., 141, 143, 143],\n",
       "        [123, 123, 126, ..., 142, 147, 156],\n",
       "        [123, 109, 128, ..., 152, 150, 143]], dtype=uint8)]"
      ]
     },
     "execution_count": 106,
     "metadata": {},
     "output_type": "execute_result"
    }
   ],
   "source": [
    "src_color_equ_ycrcb = cv2.cvtColor(src_color_equ,cv2.COLOR_BGR2YCrCb)\n",
    "src_color_equ_ycrcb_split = cv2.split(src_color_equ_ycrcb)\n",
    "src_color_equ_ycrcb_split = list(src_color_equ_ycrcb_split)\n",
    "src_color_equ_ycrcb_split"
   ]
  },
  {
   "cell_type": "code",
   "execution_count": 110,
   "id": "6d7138b8",
   "metadata": {},
   "outputs": [],
   "source": [
    "src_color_equ_ycrcb_split[0] = cv2.equalizeHist(src_color_equ_ycrcb_split[0])\n",
    "src_color_equ_ycrcb_split_merge = cv2.merge(src_color_equ_ycrcb_split)\n",
    "src_color_equ_ycrcb_split_merge = cv2.cvtColor(src_color_equ_ycrcb_split_merge,cv2.COLOR_YCrCb2BGR)\n",
    "cv2.imshow(\"src_color_equ\",src_color_equ)\n",
    "cv2.imshow(\"src\",src)\n",
    "cv2.imshow(\"src_color_equ_ycrcb_split_merge\",src_color_equ_ycrcb_split_merge)\n",
    "cv2.waitKey()\n",
    "cv2.destroyAllWindows()"
   ]
  },
  {
   "cell_type": "markdown",
   "id": "d11b0bfe",
   "metadata": {},
   "source": [
    "# HSV 마스크"
   ]
  },
  {
   "cell_type": "code",
   "execution_count": 112,
   "id": "00cc4123",
   "metadata": {},
   "outputs": [
    {
     "name": "stdout",
     "output_type": "stream",
     "text": [
      "Help on built-in function inRange:\n",
      "\n",
      "inRange(...)\n",
      "    inRange(src, lowerb, upperb[, dst]) -> dst\n",
      "    .   @brief  Checks if array elements lie between the elements of two other arrays.\n",
      "    .\n",
      "    .   The function checks the range as follows:\n",
      "    .   -   For every element of a single-channel input array:\n",
      "    .       \\f[\\texttt{dst} (I)= \\texttt{lowerb} (I)_0  \\leq \\texttt{src} (I)_0 \\leq  \\texttt{upperb} (I)_0\\f]\n",
      "    .   -   For two-channel arrays:\n",
      "    .       \\f[\\texttt{dst} (I)= \\texttt{lowerb} (I)_0  \\leq \\texttt{src} (I)_0 \\leq  \\texttt{upperb} (I)_0  \\land \\texttt{lowerb} (I)_1  \\leq \\texttt{src} (I)_1 \\leq  \\texttt{upperb} (I)_1\\f]\n",
      "    .   -   and so forth.\n",
      "    .\n",
      "    .   That is, dst (I) is set to 255 (all 1 -bits) if src (I) is within the\n",
      "    .   specified 1D, 2D, 3D, ... box and 0 otherwise.\n",
      "    .\n",
      "    .   When the lower and/or upper boundary parameters are scalars, the indexes\n",
      "    .   (I) at lowerb and upperb in the above formulas should be omitted.\n",
      "    .   @param src first input array.\n",
      "    .   @param lowerb inclusive lower boundary array or a scalar.\n",
      "    .   @param upperb inclusive upper boundary array or a scalar.\n",
      "    .   @param dst output array of the same size as src and CV_8U type.\n",
      "\n"
     ]
    }
   ],
   "source": [
    "help(cv2.inRange)"
   ]
  },
  {
   "cell_type": "code",
   "execution_count": null,
   "id": "d583d75a",
   "metadata": {},
   "outputs": [
    {
     "data": {
      "image/png": "[encoded data removed]",
      "text/plain": [
       "<Figure size 640x480 with 7 Axes>"
      ]
     },
     "metadata": {},
     "output_type": "display_data"
    }
   ],
   "source": [
    "import cv2\n",
    "import numpy as np\n",
    "import matplotlib.pylab as plt\n",
    "\n",
    "#--① 큐브 영상 읽어서 HSV로 변환\n",
    "img = cv2.imread(\"img/cube.jpg\")\n",
    "hsv = cv2.cvtColor(img, cv2.COLOR_BGR2HSV)\n",
    "\n",
    "#--② 색상별 영역 지정 # HSV\n",
    "blue1 = np.array([90, 50, 50]) # H Hue S saturation V value 순서로 값이 선정되며 50 ~ 255를 기본값으로 이해하고 있는 게... => 실험해보고 최적값 찾는 게 중요\n",
    "blue2 = np.array([120, 255,255])\n",
    "green1 = np.array([45, 50,50])\n",
    "green2 = np.array([75, 255,255])\n",
    "red1 = np.array([0, 50,50]) # red의 영역은 좌측편과 동일하며 이에 의해 연산을 1번 더 추가해주어야함\n",
    "red2 = np.array([15, 255,255])\n",
    "red3 = np.array([165, 50,50])\n",
    "red4 = np.array([180, 255,255])\n",
    "yellow1 = np.array([20, 50,50])\n",
    "yellow2 = np.array([35, 255,255])\n",
    "\n",
    "# --③ 색상에 따른 마스크 생성\n",
    "mask_blue = cv2.inRange(hsv, blue1, blue2)\n",
    "mask_green = cv2.inRange(hsv, green1, green2)\n",
    "mask_red = cv2.inRange(hsv, red1, red2)\n",
    "mask_red2 = cv2.inRange(hsv, red3, red4)\n",
    "mask_yellow = cv2.inRange(hsv, yellow1, yellow2)\n",
    "\n",
    "#--④ 색상별 마스크로 색상만 추출\n",
    "res_blue = cv2.bitwise_and(img, img, mask=mask_blue)\n",
    "res_green = cv2.bitwise_and(img, img, mask=mask_green)\n",
    "res_red1 = cv2.bitwise_and(img, img, mask=mask_red)\n",
    "res_red2 = cv2.bitwise_and(img, img, mask=mask_red2)\n",
    "res_red = cv2.bitwise_or(res_red1, res_red2)\n",
    "res_yellow = cv2.bitwise_and(img, img, mask=mask_yellow)\n",
    "\n",
    "#--⑤ 결과 출력\n",
    "imgs = {'original': img, 'blue':res_blue, 'green':res_green, \n",
    "                            'red':res_red, 'yellow':res_yellow, 'red1':res_red1, 'red2':res_red2}\n",
    "for i, (k, v) in enumerate(imgs.items()):\n",
    "    plt.subplot(3,3, i+1)\n",
    "    plt.title(k)\n",
    "    plt.imshow(v[:,:,::-1])\n",
    "    plt.xticks([]); plt.yticks([])\n",
    "plt.show()"
   ]
  },
  {
   "cell_type": "code",
   "execution_count": 121,
   "id": "7229905f",
   "metadata": {},
   "outputs": [
    {
     "name": "stdout",
     "output_type": "stream",
     "text": [
      "img1 (162, 200, 3)\n",
      "img2 (450, 600, 3)\n",
      "normal (450, 600, 3)\n",
      "mixed (450, 600, 3)\n"
     ]
    }
   ],
   "source": [
    "import cv2\n",
    "import numpy as np\n",
    "import matplotlib.pylab as plt\n",
    " \n",
    "#--① 합성 대상 영상 읽기\n",
    "img1 = cv2.imread(\"img/drawing.jpg\")\n",
    "img2= cv2.imread(\"img/my_hand.jpg\")\n",
    "print(\"img1\",img1.shape)\n",
    "print(\"img2\",img2.shape)\n",
    "\n",
    "#--② 마스크 생성, 합성할 이미지 전체 영역을 255로 셋팅\n",
    "mask = np.full_like(img1, 255)\n",
    " \n",
    "#--③ 합성 대상 좌표 계산(img2의 중앙)\n",
    "height, width = img2.shape[:2]\n",
    "center = (width//2, height//2)\n",
    " \n",
    "#--④ seamlessClone 으로 합성 \n",
    "normal = cv2.seamlessClone(img1, img2, mask, center, cv2.NORMAL_CLONE)\n",
    "print('normal',normal.shape)\n",
    "\n",
    "mixed = cv2.seamlessClone(img1, img2, mask, center, cv2.MIXED_CLONE)\n",
    "print('mixed',mixed.shape)\n",
    "\n",
    "#--⑤ 결과 출력\n",
    "cv2.imshow('img1', img1)\n",
    "cv2.imshow('img2', img2)\n",
    "cv2.imshow('normal', normal)\n",
    "cv2.imshow('mixed', mixed)\n",
    "cv2.waitKey()\n",
    "cv2.destroyAllWindows()"
   ]
  },
  {
   "cell_type": "code",
   "execution_count": 137,
   "id": "a4201872",
   "metadata": {},
   "outputs": [
    {
     "data": {
      "text/plain": [
       "np.float64(255.0)"
      ]
     },
     "execution_count": 137,
     "metadata": {},
     "output_type": "execute_result"
    }
   ],
   "source": [
    "img1.mean()"
   ]
  },
  {
   "cell_type": "code",
   "execution_count": 147,
   "id": "990a4fce",
   "metadata": {},
   "outputs": [
    {
     "name": "stdout",
     "output_type": "stream",
     "text": [
      "img1 (141, 337, 3)\n",
      "img2 (450, 600, 3)\n",
      "normal (450, 600, 3)\n",
      "mixed (450, 600, 3)\n"
     ]
    }
   ],
   "source": [
    "import cv2\n",
    "import numpy as np\n",
    "import matplotlib.pylab as plt\n",
    " \n",
    "#--① 합성 대상 영상 읽기\n",
    "img1 = cv2.imread(\"img/hunger.png\")\n",
    "img2= cv2.imread(\"img/my_hand.jpg\")\n",
    "print(\"img1\",img1.shape)\n",
    "print(\"img2\",img2.shape)\n",
    "\n",
    "#--② 마스크 생성, 합성할 이미지 전체 영역을 255로 셋팅\n",
    "mask = np.full_like(img1, 255)\n",
    " \n",
    "#--③ 합성 대상 좌표 계산(img2의 중앙)\n",
    "height, width = img2.shape[:2]\n",
    "center = (width//2, height//2)\n",
    " \n",
    "#--④ seamlessClone 으로 합성 \n",
    "normal = cv2.seamlessClone(img1, img2, mask, center, cv2.NORMAL_CLONE)\n",
    "print('normal',normal.shape)\n",
    "\n",
    "mixed = cv2.seamlessClone(img1, img2, mask, center, cv2.MIXED_CLONE)\n",
    "print('mixed',mixed.shape)\n",
    "\n",
    "#--⑤ 결과 출력\n",
    "cv2.imshow('img1', img1)\n",
    "cv2.imshow('img2', img2)\n",
    "cv2.imshow('normal', normal)\n",
    "cv2.imshow('mixed', mixed)\n",
    "cv2.waitKey()\n",
    "cv2.destroyAllWindows()"
   ]
  },
  {
   "cell_type": "code",
   "execution_count": null,
   "id": "752ca1a3",
   "metadata": {},
   "outputs": [],
   "source": []
  }
 ],
 "metadata": {
  "kernelspec": {
   "display_name": "base",
   "language": "python",
   "name": "python3"
  },
  "language_info": {
   "codemirror_mode": {
    "name": "ipython",
    "version": 3
   },
   "file_extension": ".py",
   "mimetype": "text/x-python",
   "name": "python",
   "nbconvert_exporter": "python",
   "pygments_lexer": "ipython3",
   "version": "3.13.5"
  }
 },
 "nbformat": 4,
 "nbformat_minor": 5
}
