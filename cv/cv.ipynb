{
 "cells": [
  {
   "cell_type": "code",
   "execution_count": null,
   "id": "fdfa7d56",
   "metadata": {},
   "outputs": [
    {
     "data": {
      "text/plain": [
       "array([[10932.],\n",
       "       [ 4718.],\n",
       "       [ 3940.],\n",
       "       [ 3174.],\n",
       "       [ 2685.],\n",
       "       [ 1986.],\n",
       "       [ 1694.],\n",
       "       [ 1446.],\n",
       "       [ 1382.],\n",
       "       [ 1247.],\n",
       "       [ 1218.],\n",
       "       [ 1275.],\n",
       "       [ 1174.],\n",
       "       [ 1282.],\n",
       "       [ 1186.],\n",
       "       [ 1162.],\n",
       "       [ 1233.],\n",
       "       [ 1231.],\n",
       "       [ 1276.],\n",
       "       [ 1291.],\n",
       "       [ 1271.],\n",
       "       [ 1324.],\n",
       "       [ 1257.],\n",
       "       [ 1286.],\n",
       "       [ 1353.],\n",
       "       [ 1321.],\n",
       "       [ 1319.],\n",
       "       [ 1349.],\n",
       "       [ 1358.],\n",
       "       [ 1382.],\n",
       "       [ 1601.],\n",
       "       [ 1744.],\n",
       "       [ 1777.],\n",
       "       [ 1907.],\n",
       "       [ 1931.],\n",
       "       [ 1948.],\n",
       "       [ 1992.],\n",
       "       [ 2014.],\n",
       "       [ 2099.],\n",
       "       [ 1983.],\n",
       "       [ 1995.],\n",
       "       [ 2042.],\n",
       "       [ 2081.],\n",
       "       [ 2114.],\n",
       "       [ 2112.],\n",
       "       [ 2320.],\n",
       "       [ 2553.],\n",
       "       [ 2682.],\n",
       "       [ 2945.],\n",
       "       [ 3115.],\n",
       "       [ 3464.],\n",
       "       [ 3776.],\n",
       "       [ 3980.],\n",
       "       [ 4443.],\n",
       "       [ 4726.],\n",
       "       [ 4951.],\n",
       "       [ 5213.],\n",
       "       [ 5602.],\n",
       "       [ 5851.],\n",
       "       [ 6079.],\n",
       "       [ 6453.],\n",
       "       [ 6562.],\n",
       "       [ 6744.],\n",
       "       [ 6797.],\n",
       "       [ 6999.],\n",
       "       [ 7083.],\n",
       "       [ 7087.],\n",
       "       [ 7006.],\n",
       "       [ 6805.],\n",
       "       [ 6599.],\n",
       "       [ 6270.],\n",
       "       [ 6142.],\n",
       "       [ 5693.],\n",
       "       [ 5533.],\n",
       "       [ 5149.],\n",
       "       [ 5057.],\n",
       "       [ 4693.],\n",
       "       [ 4599.],\n",
       "       [ 4321.],\n",
       "       [ 4033.],\n",
       "       [ 3764.],\n",
       "       [ 3633.],\n",
       "       [ 3261.],\n",
       "       [ 3107.],\n",
       "       [ 2883.],\n",
       "       [ 2778.],\n",
       "       [ 2789.],\n",
       "       [ 2566.],\n",
       "       [ 2565.],\n",
       "       [ 2693.],\n",
       "       [ 2680.],\n",
       "       [ 2529.],\n",
       "       [ 2471.],\n",
       "       [ 2388.],\n",
       "       [ 2343.],\n",
       "       [ 2380.],\n",
       "       [ 2494.],\n",
       "       [ 2344.],\n",
       "       [ 2344.],\n",
       "       [ 2496.],\n",
       "       [ 2580.],\n",
       "       [ 2576.],\n",
       "       [ 2674.],\n",
       "       [ 2861.],\n",
       "       [ 3030.],\n",
       "       [ 3179.],\n",
       "       [ 3233.],\n",
       "       [ 3320.],\n",
       "       [ 3431.],\n",
       "       [ 3642.],\n",
       "       [ 3952.],\n",
       "       [ 4083.],\n",
       "       [ 4351.],\n",
       "       [ 4772.],\n",
       "       [ 5181.],\n",
       "       [ 5741.],\n",
       "       [ 6295.],\n",
       "       [ 6908.],\n",
       "       [ 7532.],\n",
       "       [ 8712.],\n",
       "       [ 9873.],\n",
       "       [10848.],\n",
       "       [11619.],\n",
       "       [12449.],\n",
       "       [13458.],\n",
       "       [14348.],\n",
       "       [14692.],\n",
       "       [15524.],\n",
       "       [15973.],\n",
       "       [16454.],\n",
       "       [16844.],\n",
       "       [17135.],\n",
       "       [17449.],\n",
       "       [17766.],\n",
       "       [17757.],\n",
       "       [17770.],\n",
       "       [17581.],\n",
       "       [16953.],\n",
       "       [16467.],\n",
       "       [16531.],\n",
       "       [16130.],\n",
       "       [15777.],\n",
       "       [15714.],\n",
       "       [15366.],\n",
       "       [15291.],\n",
       "       [15322.],\n",
       "       [15171.],\n",
       "       [14464.],\n",
       "       [13679.],\n",
       "       [12494.],\n",
       "       [11867.],\n",
       "       [10630.],\n",
       "       [ 9607.],\n",
       "       [ 9185.],\n",
       "       [ 8318.],\n",
       "       [ 7497.],\n",
       "       [ 6774.],\n",
       "       [ 6013.],\n",
       "       [ 5767.],\n",
       "       [ 5578.],\n",
       "       [ 5184.],\n",
       "       [ 5078.],\n",
       "       [ 5021.],\n",
       "       [ 5162.],\n",
       "       [ 5218.],\n",
       "       [ 5267.],\n",
       "       [ 5252.],\n",
       "       [ 5050.],\n",
       "       [ 5180.],\n",
       "       [ 5502.],\n",
       "       [ 5759.],\n",
       "       [ 6062.],\n",
       "       [ 6282.],\n",
       "       [ 6538.],\n",
       "       [ 6605.],\n",
       "       [ 6571.],\n",
       "       [ 6080.],\n",
       "       [ 5889.],\n",
       "       [ 5544.],\n",
       "       [ 5385.],\n",
       "       [ 5672.],\n",
       "       [ 5867.],\n",
       "       [ 5637.],\n",
       "       [ 5543.],\n",
       "       [ 5305.],\n",
       "       [ 4854.],\n",
       "       [ 4558.],\n",
       "       [ 4313.],\n",
       "       [ 4089.],\n",
       "       [ 4011.],\n",
       "       [ 3792.],\n",
       "       [ 3589.],\n",
       "       [ 3224.],\n",
       "       [ 3402.],\n",
       "       [ 3437.],\n",
       "       [ 3448.],\n",
       "       [ 3572.],\n",
       "       [ 3486.],\n",
       "       [ 3253.],\n",
       "       [ 3195.],\n",
       "       [ 3300.],\n",
       "       [ 3262.],\n",
       "       [ 3285.],\n",
       "       [ 3326.],\n",
       "       [ 3340.],\n",
       "       [ 3384.],\n",
       "       [ 3323.],\n",
       "       [ 3392.],\n",
       "       [ 3385.],\n",
       "       [ 3363.],\n",
       "       [ 3369.],\n",
       "       [ 3310.],\n",
       "       [ 3338.],\n",
       "       [ 3250.],\n",
       "       [ 3245.],\n",
       "       [ 3146.],\n",
       "       [ 3089.],\n",
       "       [ 3003.],\n",
       "       [ 3117.],\n",
       "       [ 3109.],\n",
       "       [ 3152.],\n",
       "       [ 3171.],\n",
       "       [ 3239.],\n",
       "       [ 3180.],\n",
       "       [ 3254.],\n",
       "       [ 3263.],\n",
       "       [ 3289.],\n",
       "       [ 3328.],\n",
       "       [ 3441.],\n",
       "       [ 3676.],\n",
       "       [ 3789.],\n",
       "       [ 3773.],\n",
       "       [ 3566.],\n",
       "       [ 3421.],\n",
       "       [ 3319.],\n",
       "       [ 3141.],\n",
       "       [ 2983.],\n",
       "       [ 3013.],\n",
       "       [ 3010.],\n",
       "       [ 2940.],\n",
       "       [ 2890.],\n",
       "       [ 2978.],\n",
       "       [ 2875.],\n",
       "       [ 3040.],\n",
       "       [ 3051.],\n",
       "       [ 3182.],\n",
       "       [ 3202.],\n",
       "       [ 3379.],\n",
       "       [ 3531.],\n",
       "       [ 3968.],\n",
       "       [ 4326.],\n",
       "       [ 4819.],\n",
       "       [ 5423.],\n",
       "       [ 6064.],\n",
       "       [ 7339.],\n",
       "       [21092.]], dtype=float32)"
      ]
     },
     "execution_count": 1,
     "metadata": {},
     "output_type": "execute_result"
    }
   ],
   "source": [
    "import cv2 \n",
    "\n",
    "img_path = 'img/soccer.jpg'\n",
    "img = cv2.imread(img_path)\n",
    "cv2.calcHist([img],[2],None,[256],[0,256])"
   ]
  },
  {
   "cell_type": "code",
   "execution_count": null,
   "id": "4a4416f9",
   "metadata": {},
   "outputs": [],
   "source": [
    "r = cv2.calcHist([img],[2],None,[256],[0,256]) # [cv2_image], [channel], None, [256], [0,256]\n",
    "g = cv2.calcHist([img],[1],None,[256],[0,256])\n",
    "b = cv2.calcHist([img],[0],None,[256],[0,256])"
   ]
  },
  {
   "cell_type": "code",
   "execution_count": 7,
   "id": "168b6ee6",
   "metadata": {},
   "outputs": [
    {
     "data": {
      "image/png": "[encoded data removed]",
      "text/plain": [
       "<Figure size 640x480 with 1 Axes>"
      ]
     },
     "metadata": {},
     "output_type": "display_data"
    }
   ],
   "source": [
    "import matplotlib.pyplot as plt\n",
    "plt.plot(r,'r')\n",
    "plt.plot(g,'g')\n",
    "plt.plot(b,'b')\n",
    "plt.show()"
   ]
  },
  {
   "cell_type": "code",
   "execution_count": 8,
   "id": "4e246706",
   "metadata": {},
   "outputs": [],
   "source": [
    "img_path = './img/Korea.png'\n",
    "img = cv2.imread(img_path)\n",
    "cv2.imshow(\"img\",img)\n",
    "cv2.waitKey()\n",
    "cv2.destroyAllWindows()"
   ]
  },
  {
   "cell_type": "code",
   "execution_count": 12,
   "id": "88704864",
   "metadata": {},
   "outputs": [],
   "source": [
    "r = cv2.calcHist([img],[2],None,[256],[0,256])\n",
    "g = cv2.calcHist([img],[1],None,[256],[0,256])\n",
    "b = cv2.calcHist([img],[0],None,[256],[0,256])"
   ]
  },
  {
   "cell_type": "code",
   "execution_count": 15,
   "id": "8f2062d9",
   "metadata": {},
   "outputs": [
    {
     "data": {
      "image/png": "[encoded data removed]",
      "text/plain": [
       "<Figure size 640x480 with 1 Axes>"
      ]
     },
     "metadata": {},
     "output_type": "display_data"
    }
   ],
   "source": [
    "plt.plot(r,'r',alpha=0.3)\n",
    "plt.plot(g,'g',alpha=0.3)\n",
    "plt.plot(b,'b',alpha=0.3)\n",
    "plt.show()"
   ]
  },
  {
   "cell_type": "code",
   "execution_count": 16,
   "id": "1215dc1d",
   "metadata": {},
   "outputs": [],
   "source": [
    "img_path = './img/Korea.png'\n",
    "img = cv2.imread(img_path,cv2.IMREAD_GRAYSCALE)\n",
    "cv2.imshow(\"img\",img)\n",
    "cv2.waitKey()\n",
    "cv2.destroyAllWindows()"
   ]
  },
  {
   "cell_type": "code",
   "execution_count": 22,
   "id": "0b297666",
   "metadata": {},
   "outputs": [
    {
     "data": {
      "text/plain": [
       "array([[3.514e+03],\n",
       "       [0.000e+00],\n",
       "       [0.000e+00],\n",
       "       [0.000e+00],\n",
       "       [0.000e+00],\n",
       "       [0.000e+00],\n",
       "       [0.000e+00],\n",
       "       [0.000e+00],\n",
       "       [0.000e+00],\n",
       "       [0.000e+00],\n",
       "       [0.000e+00],\n",
       "       [0.000e+00],\n",
       "       [0.000e+00],\n",
       "       [0.000e+00],\n",
       "       [0.000e+00],\n",
       "       [0.000e+00],\n",
       "       [1.800e+01],\n",
       "       [0.000e+00],\n",
       "       [0.000e+00],\n",
       "       [0.000e+00],\n",
       "       [0.000e+00],\n",
       "       [0.000e+00],\n",
       "       [0.000e+00],\n",
       "       [2.000e+01],\n",
       "       [0.000e+00],\n",
       "       [0.000e+00],\n",
       "       [0.000e+00],\n",
       "       [0.000e+00],\n",
       "       [4.400e+01],\n",
       "       [3.141e+03],\n",
       "       [2.700e+01],\n",
       "       [1.200e+01],\n",
       "       [0.000e+00],\n",
       "       [0.000e+00],\n",
       "       [0.000e+00],\n",
       "       [0.000e+00],\n",
       "       [1.300e+01],\n",
       "       [0.000e+00],\n",
       "       [0.000e+00],\n",
       "       [2.300e+01],\n",
       "       [0.000e+00],\n",
       "       [0.000e+00],\n",
       "       [2.300e+01],\n",
       "       [0.000e+00],\n",
       "       [7.000e+00],\n",
       "       [0.000e+00],\n",
       "       [0.000e+00],\n",
       "       [0.000e+00],\n",
       "       [0.000e+00],\n",
       "       [0.000e+00],\n",
       "       [0.000e+00],\n",
       "       [8.000e+00],\n",
       "       [0.000e+00],\n",
       "       [0.000e+00],\n",
       "       [0.000e+00],\n",
       "       [9.000e+00],\n",
       "       [0.000e+00],\n",
       "       [9.000e+00],\n",
       "       [0.000e+00],\n",
       "       [3.000e+00],\n",
       "       [2.100e+01],\n",
       "       [1.000e+01],\n",
       "       [5.000e+00],\n",
       "       [1.000e+00],\n",
       "       [2.000e+00],\n",
       "       [1.800e+01],\n",
       "       [0.000e+00],\n",
       "       [0.000e+00],\n",
       "       [4.000e+00],\n",
       "       [0.000e+00],\n",
       "       [1.600e+01],\n",
       "       [6.000e+00],\n",
       "       [3.800e+01],\n",
       "       [1.400e+01],\n",
       "       [7.000e+00],\n",
       "       [4.000e+00],\n",
       "       [3.180e+03],\n",
       "       [0.000e+00],\n",
       "       [4.500e+01],\n",
       "       [0.000e+00],\n",
       "       [0.000e+00],\n",
       "       [0.000e+00],\n",
       "       [0.000e+00],\n",
       "       [0.000e+00],\n",
       "       [0.000e+00],\n",
       "       [0.000e+00],\n",
       "       [0.000e+00],\n",
       "       [3.300e+01],\n",
       "       [0.000e+00],\n",
       "       [1.000e+00],\n",
       "       [0.000e+00],\n",
       "       [0.000e+00],\n",
       "       [0.000e+00],\n",
       "       [5.000e+00],\n",
       "       [0.000e+00],\n",
       "       [1.900e+01],\n",
       "       [0.000e+00],\n",
       "       [0.000e+00],\n",
       "       [0.000e+00],\n",
       "       [0.000e+00],\n",
       "       [7.000e+00],\n",
       "       [3.000e+00],\n",
       "       [0.000e+00],\n",
       "       [3.300e+01],\n",
       "       [0.000e+00],\n",
       "       [0.000e+00],\n",
       "       [0.000e+00],\n",
       "       [0.000e+00],\n",
       "       [7.000e+00],\n",
       "       [0.000e+00],\n",
       "       [5.000e+00],\n",
       "       [2.000e+00],\n",
       "       [0.000e+00],\n",
       "       [0.000e+00],\n",
       "       [3.000e+00],\n",
       "       [0.000e+00],\n",
       "       [1.000e+01],\n",
       "       [7.000e+00],\n",
       "       [0.000e+00],\n",
       "       [0.000e+00],\n",
       "       [0.000e+00],\n",
       "       [0.000e+00],\n",
       "       [0.000e+00],\n",
       "       [2.000e+00],\n",
       "       [2.300e+01],\n",
       "       [3.000e+00],\n",
       "       [0.000e+00],\n",
       "       [0.000e+00],\n",
       "       [0.000e+00],\n",
       "       [5.700e+01],\n",
       "       [0.000e+00],\n",
       "       [7.000e+00],\n",
       "       [2.000e+00],\n",
       "       [0.000e+00],\n",
       "       [0.000e+00],\n",
       "       [0.000e+00],\n",
       "       [3.500e+01],\n",
       "       [1.000e+00],\n",
       "       [2.000e+00],\n",
       "       [0.000e+00],\n",
       "       [0.000e+00],\n",
       "       [0.000e+00],\n",
       "       [1.500e+01],\n",
       "       [0.000e+00],\n",
       "       [0.000e+00],\n",
       "       [0.000e+00],\n",
       "       [0.000e+00],\n",
       "       [3.000e+00],\n",
       "       [6.000e+00],\n",
       "       [0.000e+00],\n",
       "       [0.000e+00],\n",
       "       [0.000e+00],\n",
       "       [0.000e+00],\n",
       "       [0.000e+00],\n",
       "       [2.900e+01],\n",
       "       [0.000e+00],\n",
       "       [0.000e+00],\n",
       "       [0.000e+00],\n",
       "       [4.000e+00],\n",
       "       [0.000e+00],\n",
       "       [0.000e+00],\n",
       "       [0.000e+00],\n",
       "       [0.000e+00],\n",
       "       [1.000e+00],\n",
       "       [3.700e+01],\n",
       "       [9.000e+00],\n",
       "       [0.000e+00],\n",
       "       [0.000e+00],\n",
       "       [0.000e+00],\n",
       "       [5.900e+01],\n",
       "       [4.000e+00],\n",
       "       [0.000e+00],\n",
       "       [0.000e+00],\n",
       "       [0.000e+00],\n",
       "       [8.000e+00],\n",
       "       [2.200e+01],\n",
       "       [0.000e+00],\n",
       "       [2.000e+00],\n",
       "       [0.000e+00],\n",
       "       [0.000e+00],\n",
       "       [0.000e+00],\n",
       "       [0.000e+00],\n",
       "       [5.000e+00],\n",
       "       [3.500e+01],\n",
       "       [0.000e+00],\n",
       "       [1.000e+00],\n",
       "       [0.000e+00],\n",
       "       [0.000e+00],\n",
       "       [0.000e+00],\n",
       "       [0.000e+00],\n",
       "       [5.600e+01],\n",
       "       [1.000e+00],\n",
       "       [0.000e+00],\n",
       "       [0.000e+00],\n",
       "       [8.000e+00],\n",
       "       [0.000e+00],\n",
       "       [0.000e+00],\n",
       "       [0.000e+00],\n",
       "       [0.000e+00],\n",
       "       [0.000e+00],\n",
       "       [0.000e+00],\n",
       "       [0.000e+00],\n",
       "       [1.600e+01],\n",
       "       [5.000e+00],\n",
       "       [0.000e+00],\n",
       "       [0.000e+00],\n",
       "       [0.000e+00],\n",
       "       [3.000e+00],\n",
       "       [5.700e+01],\n",
       "       [0.000e+00],\n",
       "       [1.000e+01],\n",
       "       [0.000e+00],\n",
       "       [0.000e+00],\n",
       "       [4.900e+01],\n",
       "       [0.000e+00],\n",
       "       [5.000e+00],\n",
       "       [0.000e+00],\n",
       "       [0.000e+00],\n",
       "       [0.000e+00],\n",
       "       [3.600e+01],\n",
       "       [0.000e+00],\n",
       "       [0.000e+00],\n",
       "       [8.000e+00],\n",
       "       [1.400e+01],\n",
       "       [0.000e+00],\n",
       "       [0.000e+00],\n",
       "       [8.000e+00],\n",
       "       [0.000e+00],\n",
       "       [0.000e+00],\n",
       "       [0.000e+00],\n",
       "       [1.000e+00],\n",
       "       [1.600e+01],\n",
       "       [0.000e+00],\n",
       "       [5.000e+01],\n",
       "       [0.000e+00],\n",
       "       [5.500e+01],\n",
       "       [0.000e+00],\n",
       "       [1.500e+01],\n",
       "       [0.000e+00],\n",
       "       [0.000e+00],\n",
       "       [5.000e+01],\n",
       "       [0.000e+00],\n",
       "       [0.000e+00],\n",
       "       [0.000e+00],\n",
       "       [8.600e+01],\n",
       "       [0.000e+00],\n",
       "       [0.000e+00],\n",
       "       [2.700e+01],\n",
       "       [0.000e+00],\n",
       "       [0.000e+00],\n",
       "       [0.000e+00],\n",
       "       [0.000e+00],\n",
       "       [0.000e+00],\n",
       "       [0.000e+00],\n",
       "       [0.000e+00],\n",
       "       [3.900e+04]], dtype=float32)"
      ]
     },
     "execution_count": 22,
     "metadata": {},
     "output_type": "execute_result"
    }
   ],
   "source": [
    "gray = cv2.calcHist([img],[0],None,[256],[0,256])\n",
    "# g = cv2.calcHist([img],[1],None,[256],[0,256])\n",
    "# b = cv2.calcHist([img],[0],None,[256],[0,256])\n",
    "gray"
   ]
  },
  {
   "cell_type": "code",
   "execution_count": 23,
   "id": "e00572b2",
   "metadata": {},
   "outputs": [
    {
     "data": {
      "image/png": "[encoded data removed]",
      "text/plain": [
       "<Figure size 640x480 with 1 Axes>"
      ]
     },
     "metadata": {},
     "output_type": "display_data"
    }
   ],
   "source": [
    "plt.plot(gray,'k',alpha=0.3)\n",
    "plt.show()"
   ]
  },
  {
   "cell_type": "code",
   "execution_count": 24,
   "id": "c5178447",
   "metadata": {},
   "outputs": [
    {
     "data": {
      "image/png": "[encoded data removed]",
      "text/plain": [
       "<Figure size 640x480 with 1 Axes>"
      ]
     },
     "metadata": {},
     "output_type": "display_data"
    }
   ],
   "source": [
    "img_path = 'img/pcb.jpg'\n",
    "img = cv2.imread(img_path)\n",
    "r = cv2.calcHist([img],[2],None,[256],[0,256])\n",
    "g = cv2.calcHist([img],[1],None,[256],[0,256])\n",
    "b = cv2.calcHist([img],[0],None,[256],[0,256])\n",
    "plt.plot(r,'r')\n",
    "plt.plot(g,'g')\n",
    "plt.plot(b,'b')\n",
    "plt.show()"
   ]
  },
  {
   "cell_type": "code",
   "execution_count": 25,
   "id": "58a291a7",
   "metadata": {},
   "outputs": [
    {
     "data": {
      "image/png": "[encoded data removed]",
      "text/plain": [
       "<Figure size 640x480 with 1 Axes>"
      ]
     },
     "metadata": {},
     "output_type": "display_data"
    }
   ],
   "source": [
    "img_gray = cv2.imread(img_path,cv2.IMREAD_GRAYSCALE)\n",
    "gray = cv2.calcHist([img_gray],[0],None, [256], [0,256])\n",
    "plt.plot(gray, 'k')\n",
    "plt.show()"
   ]
  },
  {
   "cell_type": "code",
   "execution_count": null,
   "id": "c80e00af",
   "metadata": {},
   "outputs": [
    {
     "data": {
      "text/plain": [
       "array([[162, 162, 162, ..., 170, 155, 128],\n",
       "       [162, 162, 162, ..., 170, 155, 128],\n",
       "       [162, 162, 162, ..., 170, 155, 128],\n",
       "       ...,\n",
       "       [ 43,  43,  50, ..., 104, 100,  98],\n",
       "       [ 44,  44,  55, ..., 104, 105, 108],\n",
       "       [ 44,  44,  55, ..., 104, 105, 108]], dtype=uint8)"
      ]
     },
     "execution_count": 29,
     "metadata": {},
     "output_type": "execute_result"
    }
   ],
   "source": [
    "import numpy as np\n",
    "img = './lenna.bmp'\n",
    "img = cv2.imread(img, cv2.IMREAD_GRAYSCALE) # dtype = np.uint8\n",
    "img"
   ]
  },
  {
   "cell_type": "code",
   "execution_count": 30,
   "id": "387116fe",
   "metadata": {},
   "outputs": [
    {
     "data": {
      "text/plain": [
       "array([[  6,   6,   6, ...,  14, 255, 228],\n",
       "       [  6,   6,   6, ...,  14, 255, 228],\n",
       "       [  6,   6,   6, ...,  14, 255, 228],\n",
       "       ...,\n",
       "       [143, 143, 150, ..., 204, 200, 198],\n",
       "       [144, 144, 155, ..., 204, 205, 208],\n",
       "       [144, 144, 155, ..., 204, 205, 208]], dtype=uint8)"
      ]
     },
     "execution_count": 30,
     "metadata": {},
     "output_type": "execute_result"
    }
   ],
   "source": [
    "img+100"
   ]
  },
  {
   "cell_type": "code",
   "execution_count": 31,
   "id": "ed64f08b",
   "metadata": {},
   "outputs": [],
   "source": [
    "cv2.imshow('error',img+100)\n",
    "cv2.waitKey()\n",
    "cv2.destroyAllWindows()"
   ]
  },
  {
   "cell_type": "code",
   "execution_count": null,
   "id": "c4a614c3",
   "metadata": {},
   "outputs": [
    {
     "data": {
      "text/plain": [
       "array([[255, 255, 255, ..., 255, 255, 255],\n",
       "       [255, 255, 255, ..., 255, 255, 255],\n",
       "       [255, 255, 255, ..., 255, 255, 255],\n",
       "       ...,\n",
       "       [  0,   0,   0, ...,   0,   0,   0],\n",
       "       [  0,   0,   0, ...,   0,   0,   0],\n",
       "       [  0,   0,   0, ...,   0,   0,   0]])"
      ]
     },
     "execution_count": 33,
     "metadata": {},
     "output_type": "execute_result"
    }
   ],
   "source": [
    "import numpy as np\n",
    "import cv2\n",
    "\n",
    "img_contrast = np.where(img>=128,255,0)\n",
    "img_contrast\n",
    "\n",
    "cv2.imshow('contrast',np.array(img_contrast,dtype=np.uint8))\n",
    "cv2.waitKey()\n",
    "cv2.destroyAllWindows()"
   ]
  },
  {
   "cell_type": "code",
   "execution_count": null,
   "id": "651516d4",
   "metadata": {},
   "outputs": [
    {
     "data": {
      "text/plain": [
       "array([[162, 162, 162, ..., 170, 155, 128],\n",
       "       [162, 162, 162, ..., 170, 155, 128],\n",
       "       [162, 162, 162, ..., 170, 155, 128],\n",
       "       ...,\n",
       "       [ 43,  43,  50, ..., 104, 100,  98],\n",
       "       [ 44,  44,  55, ..., 104, 105, 108],\n",
       "       [ 44,  44,  55, ..., 104, 105, 108]], dtype=uint8)"
      ]
     },
     "execution_count": 38,
     "metadata": {},
     "output_type": "execute_result"
    }
   ],
   "source": [
    "# img"
   ]
  },
  {
   "cell_type": "code",
   "execution_count": 39,
   "id": "aac457e3",
   "metadata": {},
   "outputs": [],
   "source": [
    "img_100 = cv2.add(img, 100)\n",
    "cv2.imshow('img_100',img_100)\n",
    "cv2.waitKey()\n",
    "cv2.destroyAllWindows()"
   ]
  },
  {
   "cell_type": "code",
   "execution_count": 44,
   "id": "baab36fe",
   "metadata": {},
   "outputs": [],
   "source": [
    "img_100 = cv2.add(img, -100) # 음수 더해서 어둡게\n",
    "cv2.imshow('img_100',img_100)\n",
    "cv2.waitKey()\n",
    "cv2.destroyAllWindows() "
   ]
  },
  {
   "cell_type": "code",
   "execution_count": 45,
   "id": "36a32860",
   "metadata": {},
   "outputs": [],
   "source": [
    "img_100 = cv2.subtract(img, 100) # 빼기 함수가 있음\n",
    "cv2.imshow('img_100',img_100)\n",
    "cv2.waitKey()\n",
    "cv2.destroyAllWindows() "
   ]
  },
  {
   "cell_type": "code",
   "execution_count": 48,
   "id": "36ec8f98",
   "metadata": {},
   "outputs": [],
   "source": [
    "img_100 = cv2.multiply(img, 1.5) # 곱하기\n",
    "cv2.imshow('img_100',img_100)\n",
    "cv2.waitKey()\n",
    "cv2.destroyAllWindows() "
   ]
  },
  {
   "cell_type": "code",
   "execution_count": 50,
   "id": "55535979",
   "metadata": {},
   "outputs": [],
   "source": [
    "img_100 = cv2.divide(img, 1.5) # 나누기\n",
    "cv2.imshow('img_100',img_100)\n",
    "cv2.waitKey()\n",
    "cv2.destroyAllWindows() "
   ]
  },
  {
   "cell_type": "code",
   "execution_count": 42,
   "id": "d8e6249b",
   "metadata": {},
   "outputs": [],
   "source": [
    "import numpy as np\n",
    "import cv2\n",
    "\n",
    "img_contrast = np.where(img>=128,255,0)\n",
    "img_contrast\n",
    "\n",
    "cv2.imshow('contrast',np.array(img_contrast,dtype=np.uint8))\n",
    "cv2.waitKey()\n",
    "cv2.destroyAllWindows()"
   ]
  },
  {
   "cell_type": "code",
   "execution_count": 51,
   "id": "d8cb1934",
   "metadata": {},
   "outputs": [],
   "source": [
    "# 트랙바를 이용한 밝기 변환"
   ]
  },
  {
   "cell_type": "code",
   "execution_count": 53,
   "id": "1181f28f",
   "metadata": {},
   "outputs": [
    {
     "data": {
      "text/plain": [
       "(array([[162, 162, 162, ..., 170, 155, 128],\n",
       "        [162, 162, 162, ..., 170, 155, 128],\n",
       "        [162, 162, 162, ..., 170, 155, 128],\n",
       "        ...,\n",
       "        [ 43,  43,  50, ..., 104, 100,  98],\n",
       "        [ 44,  44,  55, ..., 104, 105, 108],\n",
       "        [ 44,  44,  55, ..., 104, 105, 108]], dtype=uint8),\n",
       " (512, 512))"
      ]
     },
     "execution_count": 53,
     "metadata": {},
     "output_type": "execute_result"
    }
   ],
   "source": [
    "img, img.shape # lenna.bmp grayscale"
   ]
  },
  {
   "cell_type": "code",
   "execution_count": null,
   "id": "48c74537",
   "metadata": {},
   "outputs": [],
   "source": [
    "cv2.namedWindow('dst')\n",
    "\n",
    "def update(pos) :\n",
    "    dst = cv2.add(img,pos)\n",
    "    cv2.imshow('dst',dst)\n",
    "cv2.createTrackbar('Brightness','dst',0,100,update)\n",
    "update(0)\n",
    "cv2.waitKey()\n",
    "cv2.destroyAllWindows()"
   ]
  },
  {
   "cell_type": "code",
   "execution_count": 17,
   "id": "6e7b63d5",
   "metadata": {},
   "outputs": [
    {
     "name": "stdout",
     "output_type": "stream",
     "text": [
      "255\n",
      "0 0 0\n"
     ]
    },
    {
     "ename": "UnboundLocalError",
     "evalue": "cannot access local variable 'img' where it is not associated with a value",
     "output_type": "error",
     "traceback": [
      "\u001b[1;31m---------------------------------------------------------------------------\u001b[0m",
      "\u001b[1;31mUnboundLocalError\u001b[0m                         Traceback (most recent call last)",
      "Cell \u001b[1;32mIn[17], line 25\u001b[0m, in \u001b[0;36monChange\u001b[1;34m(x)\u001b[0m\n\u001b[0;32m     23\u001b[0m     r \u001b[38;5;241m=\u001b[39m g \u001b[38;5;241m=\u001b[39m b \u001b[38;5;241m=\u001b[39m \u001b[38;5;241m0\u001b[39m\n\u001b[0;32m     24\u001b[0m \u001b[38;5;28mprint\u001b[39m(r, g, b)\n\u001b[1;32m---> 25\u001b[0m img \u001b[38;5;241m=\u001b[39m cv2\u001b[38;5;241m.\u001b[39madd(img,np\u001b[38;5;241m.\u001b[39marray([b,g,r]))\n\u001b[0;32m     26\u001b[0m \u001b[38;5;66;03m# img[:] = [b, g, r]  # 이미지 업데이트 (BGR 순서 주의)\u001b[39;00m\n\u001b[0;32m     28\u001b[0m cv2\u001b[38;5;241m.\u001b[39mimshow(win_name,img)\n",
      "\u001b[1;31mUnboundLocalError\u001b[0m: cannot access local variable 'img' where it is not associated with a value"
     ]
    },
    {
     "name": "stdout",
     "output_type": "stream",
     "text": [
      "255\n",
      "0 0 0\n"
     ]
    },
    {
     "ename": "UnboundLocalError",
     "evalue": "cannot access local variable 'img' where it is not associated with a value",
     "output_type": "error",
     "traceback": [
      "\u001b[1;31m---------------------------------------------------------------------------\u001b[0m",
      "\u001b[1;31mUnboundLocalError\u001b[0m                         Traceback (most recent call last)",
      "Cell \u001b[1;32mIn[17], line 25\u001b[0m, in \u001b[0;36monChange\u001b[1;34m(x)\u001b[0m\n\u001b[0;32m     23\u001b[0m     r \u001b[38;5;241m=\u001b[39m g \u001b[38;5;241m=\u001b[39m b \u001b[38;5;241m=\u001b[39m \u001b[38;5;241m0\u001b[39m\n\u001b[0;32m     24\u001b[0m \u001b[38;5;28mprint\u001b[39m(r, g, b)\n\u001b[1;32m---> 25\u001b[0m img \u001b[38;5;241m=\u001b[39m cv2\u001b[38;5;241m.\u001b[39madd(img,np\u001b[38;5;241m.\u001b[39marray([b,g,r]))\n\u001b[0;32m     26\u001b[0m \u001b[38;5;66;03m# img[:] = [b, g, r]  # 이미지 업데이트 (BGR 순서 주의)\u001b[39;00m\n\u001b[0;32m     28\u001b[0m cv2\u001b[38;5;241m.\u001b[39mimshow(win_name,img)\n",
      "\u001b[1;31mUnboundLocalError\u001b[0m: cannot access local variable 'img' where it is not associated with a value"
     ]
    },
    {
     "name": "stdout",
     "output_type": "stream",
     "text": [
      "255\n",
      "255 255 255\n"
     ]
    },
    {
     "ename": "UnboundLocalError",
     "evalue": "cannot access local variable 'img' where it is not associated with a value",
     "output_type": "error",
     "traceback": [
      "\u001b[1;31m---------------------------------------------------------------------------\u001b[0m",
      "\u001b[1;31mUnboundLocalError\u001b[0m                         Traceback (most recent call last)",
      "Cell \u001b[1;32mIn[17], line 25\u001b[0m, in \u001b[0;36monChange\u001b[1;34m(x)\u001b[0m\n\u001b[0;32m     23\u001b[0m     r \u001b[38;5;241m=\u001b[39m g \u001b[38;5;241m=\u001b[39m b \u001b[38;5;241m=\u001b[39m \u001b[38;5;241m0\u001b[39m\n\u001b[0;32m     24\u001b[0m \u001b[38;5;28mprint\u001b[39m(r, g, b)\n\u001b[1;32m---> 25\u001b[0m img \u001b[38;5;241m=\u001b[39m cv2\u001b[38;5;241m.\u001b[39madd(img,np\u001b[38;5;241m.\u001b[39marray([b,g,r]))\n\u001b[0;32m     26\u001b[0m \u001b[38;5;66;03m# img[:] = [b, g, r]  # 이미지 업데이트 (BGR 순서 주의)\u001b[39;00m\n\u001b[0;32m     28\u001b[0m cv2\u001b[38;5;241m.\u001b[39mimshow(win_name,img)\n",
      "\u001b[1;31mUnboundLocalError\u001b[0m: cannot access local variable 'img' where it is not associated with a value"
     ]
    },
    {
     "name": "stdout",
     "output_type": "stream",
     "text": [
      "254\n",
      "255 255 254\n"
     ]
    },
    {
     "ename": "UnboundLocalError",
     "evalue": "cannot access local variable 'img' where it is not associated with a value",
     "output_type": "error",
     "traceback": [
      "\u001b[1;31m---------------------------------------------------------------------------\u001b[0m",
      "\u001b[1;31mUnboundLocalError\u001b[0m                         Traceback (most recent call last)",
      "Cell \u001b[1;32mIn[17], line 25\u001b[0m, in \u001b[0;36monChange\u001b[1;34m(x)\u001b[0m\n\u001b[0;32m     23\u001b[0m     r \u001b[38;5;241m=\u001b[39m g \u001b[38;5;241m=\u001b[39m b \u001b[38;5;241m=\u001b[39m \u001b[38;5;241m0\u001b[39m\n\u001b[0;32m     24\u001b[0m \u001b[38;5;28mprint\u001b[39m(r, g, b)\n\u001b[1;32m---> 25\u001b[0m img \u001b[38;5;241m=\u001b[39m cv2\u001b[38;5;241m.\u001b[39madd(img,np\u001b[38;5;241m.\u001b[39marray([b,g,r]))\n\u001b[0;32m     26\u001b[0m \u001b[38;5;66;03m# img[:] = [b, g, r]  # 이미지 업데이트 (BGR 순서 주의)\u001b[39;00m\n\u001b[0;32m     28\u001b[0m cv2\u001b[38;5;241m.\u001b[39mimshow(win_name,img)\n",
      "\u001b[1;31mUnboundLocalError\u001b[0m: cannot access local variable 'img' where it is not associated with a value"
     ]
    },
    {
     "name": "stdout",
     "output_type": "stream",
     "text": [
      "248\n",
      "255 255 248\n"
     ]
    },
    {
     "ename": "UnboundLocalError",
     "evalue": "cannot access local variable 'img' where it is not associated with a value",
     "output_type": "error",
     "traceback": [
      "\u001b[1;31m---------------------------------------------------------------------------\u001b[0m",
      "\u001b[1;31mUnboundLocalError\u001b[0m                         Traceback (most recent call last)",
      "Cell \u001b[1;32mIn[17], line 25\u001b[0m, in \u001b[0;36monChange\u001b[1;34m(x)\u001b[0m\n\u001b[0;32m     23\u001b[0m     r \u001b[38;5;241m=\u001b[39m g \u001b[38;5;241m=\u001b[39m b \u001b[38;5;241m=\u001b[39m \u001b[38;5;241m0\u001b[39m\n\u001b[0;32m     24\u001b[0m \u001b[38;5;28mprint\u001b[39m(r, g, b)\n\u001b[1;32m---> 25\u001b[0m img \u001b[38;5;241m=\u001b[39m cv2\u001b[38;5;241m.\u001b[39madd(img,np\u001b[38;5;241m.\u001b[39marray([b,g,r]))\n\u001b[0;32m     26\u001b[0m \u001b[38;5;66;03m# img[:] = [b, g, r]  # 이미지 업데이트 (BGR 순서 주의)\u001b[39;00m\n\u001b[0;32m     28\u001b[0m cv2\u001b[38;5;241m.\u001b[39mimshow(win_name,img)\n",
      "\u001b[1;31mUnboundLocalError\u001b[0m: cannot access local variable 'img' where it is not associated with a value"
     ]
    },
    {
     "name": "stdout",
     "output_type": "stream",
     "text": [
      "231\n",
      "255 255 231\n"
     ]
    },
    {
     "ename": "UnboundLocalError",
     "evalue": "cannot access local variable 'img' where it is not associated with a value",
     "output_type": "error",
     "traceback": [
      "\u001b[1;31m---------------------------------------------------------------------------\u001b[0m",
      "\u001b[1;31mUnboundLocalError\u001b[0m                         Traceback (most recent call last)",
      "Cell \u001b[1;32mIn[17], line 25\u001b[0m, in \u001b[0;36monChange\u001b[1;34m(x)\u001b[0m\n\u001b[0;32m     23\u001b[0m     r \u001b[38;5;241m=\u001b[39m g \u001b[38;5;241m=\u001b[39m b \u001b[38;5;241m=\u001b[39m \u001b[38;5;241m0\u001b[39m\n\u001b[0;32m     24\u001b[0m \u001b[38;5;28mprint\u001b[39m(r, g, b)\n\u001b[1;32m---> 25\u001b[0m img \u001b[38;5;241m=\u001b[39m cv2\u001b[38;5;241m.\u001b[39madd(img,np\u001b[38;5;241m.\u001b[39marray([b,g,r]))\n\u001b[0;32m     26\u001b[0m \u001b[38;5;66;03m# img[:] = [b, g, r]  # 이미지 업데이트 (BGR 순서 주의)\u001b[39;00m\n\u001b[0;32m     28\u001b[0m cv2\u001b[38;5;241m.\u001b[39mimshow(win_name,img)\n",
      "\u001b[1;31mUnboundLocalError\u001b[0m: cannot access local variable 'img' where it is not associated with a value"
     ]
    },
    {
     "name": "stdout",
     "output_type": "stream",
     "text": [
      "198\n",
      "255 255 198\n"
     ]
    },
    {
     "ename": "UnboundLocalError",
     "evalue": "cannot access local variable 'img' where it is not associated with a value",
     "output_type": "error",
     "traceback": [
      "\u001b[1;31m---------------------------------------------------------------------------\u001b[0m",
      "\u001b[1;31mUnboundLocalError\u001b[0m                         Traceback (most recent call last)",
      "Cell \u001b[1;32mIn[17], line 25\u001b[0m, in \u001b[0;36monChange\u001b[1;34m(x)\u001b[0m\n\u001b[0;32m     23\u001b[0m     r \u001b[38;5;241m=\u001b[39m g \u001b[38;5;241m=\u001b[39m b \u001b[38;5;241m=\u001b[39m \u001b[38;5;241m0\u001b[39m\n\u001b[0;32m     24\u001b[0m \u001b[38;5;28mprint\u001b[39m(r, g, b)\n\u001b[1;32m---> 25\u001b[0m img \u001b[38;5;241m=\u001b[39m cv2\u001b[38;5;241m.\u001b[39madd(img,np\u001b[38;5;241m.\u001b[39marray([b,g,r]))\n\u001b[0;32m     26\u001b[0m \u001b[38;5;66;03m# img[:] = [b, g, r]  # 이미지 업데이트 (BGR 순서 주의)\u001b[39;00m\n\u001b[0;32m     28\u001b[0m cv2\u001b[38;5;241m.\u001b[39mimshow(win_name,img)\n",
      "\u001b[1;31mUnboundLocalError\u001b[0m: cannot access local variable 'img' where it is not associated with a value"
     ]
    },
    {
     "name": "stdout",
     "output_type": "stream",
     "text": [
      "174\n",
      "255 255 174\n"
     ]
    },
    {
     "ename": "UnboundLocalError",
     "evalue": "cannot access local variable 'img' where it is not associated with a value",
     "output_type": "error",
     "traceback": [
      "\u001b[1;31m---------------------------------------------------------------------------\u001b[0m",
      "\u001b[1;31mUnboundLocalError\u001b[0m                         Traceback (most recent call last)",
      "Cell \u001b[1;32mIn[17], line 25\u001b[0m, in \u001b[0;36monChange\u001b[1;34m(x)\u001b[0m\n\u001b[0;32m     23\u001b[0m     r \u001b[38;5;241m=\u001b[39m g \u001b[38;5;241m=\u001b[39m b \u001b[38;5;241m=\u001b[39m \u001b[38;5;241m0\u001b[39m\n\u001b[0;32m     24\u001b[0m \u001b[38;5;28mprint\u001b[39m(r, g, b)\n\u001b[1;32m---> 25\u001b[0m img \u001b[38;5;241m=\u001b[39m cv2\u001b[38;5;241m.\u001b[39madd(img,np\u001b[38;5;241m.\u001b[39marray([b,g,r]))\n\u001b[0;32m     26\u001b[0m \u001b[38;5;66;03m# img[:] = [b, g, r]  # 이미지 업데이트 (BGR 순서 주의)\u001b[39;00m\n\u001b[0;32m     28\u001b[0m cv2\u001b[38;5;241m.\u001b[39mimshow(win_name,img)\n",
      "\u001b[1;31mUnboundLocalError\u001b[0m: cannot access local variable 'img' where it is not associated with a value"
     ]
    },
    {
     "name": "stdout",
     "output_type": "stream",
     "text": [
      "118\n",
      "255 255 118\n"
     ]
    },
    {
     "ename": "UnboundLocalError",
     "evalue": "cannot access local variable 'img' where it is not associated with a value",
     "output_type": "error",
     "traceback": [
      "\u001b[1;31m---------------------------------------------------------------------------\u001b[0m",
      "\u001b[1;31mUnboundLocalError\u001b[0m                         Traceback (most recent call last)",
      "Cell \u001b[1;32mIn[17], line 25\u001b[0m, in \u001b[0;36monChange\u001b[1;34m(x)\u001b[0m\n\u001b[0;32m     23\u001b[0m     r \u001b[38;5;241m=\u001b[39m g \u001b[38;5;241m=\u001b[39m b \u001b[38;5;241m=\u001b[39m \u001b[38;5;241m0\u001b[39m\n\u001b[0;32m     24\u001b[0m \u001b[38;5;28mprint\u001b[39m(r, g, b)\n\u001b[1;32m---> 25\u001b[0m img \u001b[38;5;241m=\u001b[39m cv2\u001b[38;5;241m.\u001b[39madd(img,np\u001b[38;5;241m.\u001b[39marray([b,g,r]))\n\u001b[0;32m     26\u001b[0m \u001b[38;5;66;03m# img[:] = [b, g, r]  # 이미지 업데이트 (BGR 순서 주의)\u001b[39;00m\n\u001b[0;32m     28\u001b[0m cv2\u001b[38;5;241m.\u001b[39mimshow(win_name,img)\n",
      "\u001b[1;31mUnboundLocalError\u001b[0m: cannot access local variable 'img' where it is not associated with a value"
     ]
    },
    {
     "name": "stdout",
     "output_type": "stream",
     "text": [
      "85\n",
      "255 255 85\n"
     ]
    },
    {
     "ename": "UnboundLocalError",
     "evalue": "cannot access local variable 'img' where it is not associated with a value",
     "output_type": "error",
     "traceback": [
      "\u001b[1;31m---------------------------------------------------------------------------\u001b[0m",
      "\u001b[1;31mUnboundLocalError\u001b[0m                         Traceback (most recent call last)",
      "Cell \u001b[1;32mIn[17], line 25\u001b[0m, in \u001b[0;36monChange\u001b[1;34m(x)\u001b[0m\n\u001b[0;32m     23\u001b[0m     r \u001b[38;5;241m=\u001b[39m g \u001b[38;5;241m=\u001b[39m b \u001b[38;5;241m=\u001b[39m \u001b[38;5;241m0\u001b[39m\n\u001b[0;32m     24\u001b[0m \u001b[38;5;28mprint\u001b[39m(r, g, b)\n\u001b[1;32m---> 25\u001b[0m img \u001b[38;5;241m=\u001b[39m cv2\u001b[38;5;241m.\u001b[39madd(img,np\u001b[38;5;241m.\u001b[39marray([b,g,r]))\n\u001b[0;32m     26\u001b[0m \u001b[38;5;66;03m# img[:] = [b, g, r]  # 이미지 업데이트 (BGR 순서 주의)\u001b[39;00m\n\u001b[0;32m     28\u001b[0m cv2\u001b[38;5;241m.\u001b[39mimshow(win_name,img)\n",
      "\u001b[1;31mUnboundLocalError\u001b[0m: cannot access local variable 'img' where it is not associated with a value"
     ]
    },
    {
     "name": "stdout",
     "output_type": "stream",
     "text": [
      "26\n",
      "255 255 26\n"
     ]
    },
    {
     "ename": "UnboundLocalError",
     "evalue": "cannot access local variable 'img' where it is not associated with a value",
     "output_type": "error",
     "traceback": [
      "\u001b[1;31m---------------------------------------------------------------------------\u001b[0m",
      "\u001b[1;31mUnboundLocalError\u001b[0m                         Traceback (most recent call last)",
      "Cell \u001b[1;32mIn[17], line 25\u001b[0m, in \u001b[0;36monChange\u001b[1;34m(x)\u001b[0m\n\u001b[0;32m     23\u001b[0m     r \u001b[38;5;241m=\u001b[39m g \u001b[38;5;241m=\u001b[39m b \u001b[38;5;241m=\u001b[39m \u001b[38;5;241m0\u001b[39m\n\u001b[0;32m     24\u001b[0m \u001b[38;5;28mprint\u001b[39m(r, g, b)\n\u001b[1;32m---> 25\u001b[0m img \u001b[38;5;241m=\u001b[39m cv2\u001b[38;5;241m.\u001b[39madd(img,np\u001b[38;5;241m.\u001b[39marray([b,g,r]))\n\u001b[0;32m     26\u001b[0m \u001b[38;5;66;03m# img[:] = [b, g, r]  # 이미지 업데이트 (BGR 순서 주의)\u001b[39;00m\n\u001b[0;32m     28\u001b[0m cv2\u001b[38;5;241m.\u001b[39mimshow(win_name,img)\n",
      "\u001b[1;31mUnboundLocalError\u001b[0m: cannot access local variable 'img' where it is not associated with a value"
     ]
    },
    {
     "name": "stdout",
     "output_type": "stream",
     "text": [
      "0\n",
      "255 255 0\n"
     ]
    },
    {
     "ename": "UnboundLocalError",
     "evalue": "cannot access local variable 'img' where it is not associated with a value",
     "output_type": "error",
     "traceback": [
      "\u001b[1;31m---------------------------------------------------------------------------\u001b[0m",
      "\u001b[1;31mUnboundLocalError\u001b[0m                         Traceback (most recent call last)",
      "Cell \u001b[1;32mIn[17], line 25\u001b[0m, in \u001b[0;36monChange\u001b[1;34m(x)\u001b[0m\n\u001b[0;32m     23\u001b[0m     r \u001b[38;5;241m=\u001b[39m g \u001b[38;5;241m=\u001b[39m b \u001b[38;5;241m=\u001b[39m \u001b[38;5;241m0\u001b[39m\n\u001b[0;32m     24\u001b[0m \u001b[38;5;28mprint\u001b[39m(r, g, b)\n\u001b[1;32m---> 25\u001b[0m img \u001b[38;5;241m=\u001b[39m cv2\u001b[38;5;241m.\u001b[39madd(img,np\u001b[38;5;241m.\u001b[39marray([b,g,r]))\n\u001b[0;32m     26\u001b[0m \u001b[38;5;66;03m# img[:] = [b, g, r]  # 이미지 업데이트 (BGR 순서 주의)\u001b[39;00m\n\u001b[0;32m     28\u001b[0m cv2\u001b[38;5;241m.\u001b[39mimshow(win_name,img)\n",
      "\u001b[1;31mUnboundLocalError\u001b[0m: cannot access local variable 'img' where it is not associated with a value"
     ]
    }
   ],
   "source": [
    "# 이미지 로드 및 확인\n",
    "import cv2\n",
    "import numpy as np\n",
    "win_name='rgb'\n",
    "img = cv2.imread('./lenna.bmp')\n",
    "\n",
    "if img is None:\n",
    "    print(\"Error: 이미지를 로드할 수 없습니다. 경로를 확인하세요.\")\n",
    "    exit()\n",
    "\n",
    "# 윈도우 생성\n",
    "cv2.namedWindow(win_name)\n",
    "\n",
    "# # 트랙바 이벤트 처리 함수 (수정: 안전한 getTrackbarPos 호출)\n",
    "def onChange(x):\n",
    "    print(x)  # 트랙바 위치 출력\n",
    "    try:\n",
    "        r = cv2.getTrackbarPos('R', win_name)\n",
    "        g = cv2.getTrackbarPos('G', win_name)\n",
    "        b = cv2.getTrackbarPos('B', win_name)\n",
    "    except cv2.error:\n",
    "        # 트랙바가 아직 생성되지 않은 경우 기본값 사용 (초기 호출 방지)\n",
    "        r = g = b = 0\n",
    "    print(r, g, b)\n",
    "    img = cv2.add(img,np.array([b,g,r]))\n",
    "    # img[:] = [b, g, r]  # 이미지 업데이트 (BGR 순서 주의)\n",
    "    \n",
    "    cv2.imshow(win_name,img)  # 업데이트된 이미지 표시\n",
    "\n",
    "# 트랙바 생성 (윈도우 생성 후)\n",
    "cv2.createTrackbar('R', win_name, 255, 255, onChange)\n",
    "cv2.createTrackbar('G', win_name, 255, 255, onChange)\n",
    "cv2.createTrackbar('B', win_name, 255, 255, onChange)\n",
    "\n",
    "# 초기 이미지 표시 (트랙바 초기화)\n",
    "cv2.imshow(win_name, img)\n",
    "\n",
    "# 메인 루프\n",
    "while True:\n",
    "    if cv2.waitKey() == ord('q'):\n",
    "        break\n",
    "\n",
    "# 정리\n",
    "cv2.destroyAllWindows()"
   ]
  },
  {
   "cell_type": "code",
   "execution_count": 9,
   "id": "b3392842",
   "metadata": {},
   "outputs": [
    {
     "data": {
      "text/plain": [
       "array([[[125, 125, 133, ..., 122, 110,  90],\n",
       "        [125, 125, 133, ..., 122, 110,  90],\n",
       "        [125, 125, 133, ..., 122, 110,  90],\n",
       "        ...,\n",
       "        [ 60,  60,  58, ...,  84,  76,  79],\n",
       "        [ 57,  57,  62, ...,  79,  81,  81],\n",
       "        [ 57,  57,  62, ...,  79,  81,  81]],\n",
       "\n",
       "       [[137, 137, 137, ..., 148, 130,  99],\n",
       "        [137, 137, 137, ..., 148, 130,  99],\n",
       "        [137, 137, 137, ..., 148, 130,  99],\n",
       "        ...,\n",
       "        [ 18,  18,  27, ...,  73,  68,  62],\n",
       "        [ 22,  22,  32, ...,  70,  71,  74],\n",
       "        [ 22,  22,  32, ...,  70,  71,  74]],\n",
       "\n",
       "       [[226, 226, 223, ..., 230, 221, 200],\n",
       "        [226, 226, 223, ..., 230, 221, 200],\n",
       "        [226, 226, 223, ..., 230, 221, 200],\n",
       "        ...,\n",
       "        [ 84,  84,  92, ..., 173, 172, 177],\n",
       "        [ 82,  82,  96, ..., 179, 181, 185],\n",
       "        [ 82,  82,  96, ..., 179, 181, 185]]], dtype=uint8)"
      ]
     },
     "execution_count": 9,
     "metadata": {},
     "output_type": "execute_result"
    }
   ],
   "source": [
    "r=g=b=0\n",
    "img = cv2.imread('lenna.bmp')\n",
    "np.array([cv2.add(img[:,:,0],b), cv2.add(img[:,:,1],g), cv2.add(img[:,:,2],r)])\n"
   ]
  },
  {
   "cell_type": "code",
   "execution_count": 62,
   "id": "0099170f",
   "metadata": {},
   "outputs": [],
   "source": [
    "src = cv2.imread('./lenna.bmp',cv2.IMREAD_GRAYSCALE)\n",
    "dst = cv2.multiply(src,2)\n",
    "cv2.imshow('dst',dst)\n",
    "cv2.waitKey()\n",
    "cv2.destroyAllWindows()"
   ]
  },
  {
   "cell_type": "code",
   "execution_count": null,
   "id": "4b437958",
   "metadata": {},
   "outputs": [],
   "source": [
    "# 위 내용처럼 곱하고 포화연산하게 되면 엣지가 두드러지지 않으므로 contrast를 활용하는 것이 선명하게 만드는 방식이 있음"
   ]
  },
  {
   "cell_type": "code",
   "execution_count": 16,
   "id": "02fa4a11",
   "metadata": {},
   "outputs": [
    {
     "name": "stdout",
     "output_type": "stream",
     "text": [
      "Help on _ArrayFunctionDispatcher in module numpy:\n",
      "\n",
      "clip(\n",
      "    a,\n",
      "    a_min=<no value>,\n",
      "    a_max=<no value>,\n",
      "    out=None,\n",
      "    *,\n",
      "    min=<no value>,\n",
      "    max=<no value>,\n",
      "    **kwargs\n",
      ")\n",
      "    Clip (limit) the values in an array.\n",
      "\n",
      "    Given an interval, values outside the interval are clipped to\n",
      "    the interval edges.  For example, if an interval of ``[0, 1]``\n",
      "    is specified, values smaller than 0 become 0, and values larger\n",
      "    than 1 become 1.\n",
      "\n",
      "    Equivalent to but faster than ``np.minimum(a_max, np.maximum(a, a_min))``.\n",
      "\n",
      "    No check is performed to ensure ``a_min < a_max``.\n",
      "\n",
      "    Parameters\n",
      "    ----------\n",
      "    a : array_like\n",
      "        Array containing elements to clip.\n",
      "    a_min, a_max : array_like or None\n",
      "        Minimum and maximum value. If ``None``, clipping is not performed on\n",
      "        the corresponding edge. If both ``a_min`` and ``a_max`` are ``None``,\n",
      "        the elements of the returned array stay the same. Both are broadcasted\n",
      "        against ``a``.\n",
      "    out : ndarray, optional\n",
      "        The results will be placed in this array. It may be the input\n",
      "        array for in-place clipping.  `out` must be of the right shape\n",
      "        to hold the output.  Its type is preserved.\n",
      "    min, max : array_like or None\n",
      "        Array API compatible alternatives for ``a_min`` and ``a_max``\n",
      "        arguments. Either ``a_min`` and ``a_max`` or ``min`` and ``max``\n",
      "        can be passed at the same time. Default: ``None``.\n",
      "\n",
      "        .. versionadded:: 2.1.0\n",
      "    **kwargs\n",
      "        For other keyword-only arguments, see the\n",
      "        :ref:`ufunc docs <ufuncs.kwargs>`.\n",
      "\n",
      "        .. versionadded:: 1.17.0\n",
      "\n",
      "    Returns\n",
      "    -------\n",
      "    clipped_array : ndarray\n",
      "        An array with the elements of `a`, but where values\n",
      "        < `a_min` are replaced with `a_min`, and those > `a_max`\n",
      "        with `a_max`.\n",
      "\n",
      "    See Also\n",
      "    --------\n",
      "    :ref:`ufuncs-output-type`\n",
      "\n",
      "    Notes\n",
      "    -----\n",
      "    When `a_min` is greater than `a_max`, `clip` returns an\n",
      "    array in which all values are equal to `a_max`,\n",
      "    as shown in the second example.\n",
      "\n",
      "    Examples\n",
      "    --------\n",
      "    >>> import numpy as np\n",
      "    >>> a = np.arange(10)\n",
      "    >>> a\n",
      "    array([0, 1, 2, 3, 4, 5, 6, 7, 8, 9])\n",
      "    >>> np.clip(a, 1, 8)\n",
      "    array([1, 1, 2, 3, 4, 5, 6, 7, 8, 8])\n",
      "    >>> np.clip(a, 8, 1)\n",
      "    array([1, 1, 1, 1, 1, 1, 1, 1, 1, 1])\n",
      "    >>> np.clip(a, 3, 6, out=a)\n",
      "    array([3, 3, 3, 3, 4, 5, 6, 6, 6, 6])\n",
      "    >>> a\n",
      "    array([3, 3, 3, 3, 4, 5, 6, 6, 6, 6])\n",
      "    >>> a = np.arange(10)\n",
      "    >>> a\n",
      "    array([0, 1, 2, 3, 4, 5, 6, 7, 8, 9])\n",
      "    >>> np.clip(a, [3, 4, 1, 1, 1, 4, 4, 4, 4, 4], 8)\n",
      "    array([3, 4, 2, 3, 4, 5, 6, 7, 8, 8])\n",
      "\n"
     ]
    }
   ],
   "source": [
    "help(np.clip)"
   ]
  },
  {
   "cell_type": "code",
   "execution_count": null,
   "id": "6e062e7f",
   "metadata": {},
   "outputs": [
    {
     "data": {
      "text/plain": [
       "array([3, 4, 2, 3, 4, 5, 6, 7, 8, 8])"
      ]
     },
     "execution_count": 19,
     "metadata": {},
     "output_type": "execute_result"
    }
   ],
   "source": [
    "a = np.array([0, 1, 2, 3, 4, 5, 6, 7, 8, 9])\n",
    "np.clip(a, [3, 4, 1, 1, 1, 4, 4, 4, 4, 4], 8) # array([3, 4, 2, 3, 4, 5, 6, 7, 8, 8])\n",
    "# np.clip(a, b, n) => a배열과 b배열(또는 스칼라 b의 값)의 같은 인덱스의 값 중 더 큰값을 반환하는데 n보다 작아야 나옴"
   ]
  },
  {
   "cell_type": "code",
   "execution_count": 15,
   "id": "86f0546e",
   "metadata": {},
   "outputs": [
    {
     "data": {
      "text/plain": [
       "array([[ 128.,  128.,  128., ...,  128.,  128.,  128.],\n",
       "       [ 128.,  128.,  128., ...,  128.,  128.,  128.],\n",
       "       [ 128.,  128.,  128., ...,  128.,  128.,  128.],\n",
       "       ...,\n",
       "       [-128., -128., -128., ..., -128., -128., -128.],\n",
       "       [-128., -128., -128., ..., -128., -128., -128.],\n",
       "       [-128., -128., -128., ..., -128., -128., -128.]])"
      ]
     },
     "execution_count": 15,
     "metadata": {},
     "output_type": "execute_result"
    }
   ],
   "source": [
    "src = cv2.imread('lenna.bmp', cv2.IMREAD_GRAYSCALE)\n",
    "src - ((src-128)*1.0)"
   ]
  },
  {
   "cell_type": "code",
   "execution_count": null,
   "id": "0faa3abb",
   "metadata": {},
   "outputs": [
    {
     "data": {
      "text/plain": [
       "array([[128, 128, 128, ..., 128, 128, 128],\n",
       "       [128, 128, 128, ..., 128, 128, 128],\n",
       "       [128, 128, 128, ..., 128, 128, 128],\n",
       "       ...,\n",
       "       [  0,   0,   0, ...,   0,   0,   0],\n",
       "       [  0,   0,   0, ...,   0,   0,   0],\n",
       "       [  0,   0,   0, ...,   0,   0,   0]], dtype=uint8)"
      ]
     },
     "execution_count": 21,
     "metadata": {},
     "output_type": "execute_result"
    }
   ],
   "source": [
    "np.clip(src + ((src-128)*1.0),0,255).astype(np.uint8)"
   ]
  },
  {
   "cell_type": "code",
   "execution_count": 1,
   "id": "248acf8b",
   "metadata": {},
   "outputs": [],
   "source": [
    "import numpy as np\n",
    "import cv2\n",
    "origin = cv2.imread('lenna.bmp', cv2.IMREAD_GRAYSCALE)\n",
    "cv2.imshow('origin',origin)\n",
    "src = cv2.imread('lenna.bmp', cv2.IMREAD_GRAYSCALE).astype(int)\n",
    "dst = np.clip(src + ((src-128.)*1.0),0,255).astype(np.uint8)\n",
    "cv2.imshow('dst',dst)\n",
    "cv2.waitKey()\n",
    "cv2.destroyAllWindows()"
   ]
  },
  {
   "cell_type": "code",
   "execution_count": 3,
   "id": "a3d04fb4",
   "metadata": {},
   "outputs": [
    {
     "data": {
      "image/png": "[encoded data removed]",
      "text/plain": [
       "<Figure size 640x480 with 3 Axes>"
      ]
     },
     "metadata": {},
     "output_type": "display_data"
    }
   ],
   "source": [
    "# 이미지 밝기를 조절해서 histogram으로 확인해보기\n",
    "import numpy as np\n",
    "import cv2\n",
    "import matplotlib.pyplot as plt\n",
    "value = 100\n",
    "src = cv2.imread('lenna.bmp',cv2.IMREAD_GRAYSCALE)\n",
    "cv2.imshow('origin',src)\n",
    "src_add = cv2.add(src,value)\n",
    "cv2.imshow('add',src_add)\n",
    "src_sub = cv2.subtract(src,value)\n",
    "cv2.imshow('sub',src_sub)\n",
    "\n",
    "origin_hist = cv2.calcHist([src],[0],None, [255],[0,255])\n",
    "add_hist = cv2.calcHist([src_add],[0],None, [255],[0,255])\n",
    "subtract_hist = cv2.calcHist([src_sub],[0],None, [255],[0,255])\n",
    "\n",
    "fig, ax = plt.subplots(1,3)\n",
    "# print(ax)\n",
    "ax[0].plot(origin_hist,'k')\n",
    "ax[1].plot(add_hist,'k')\n",
    "ax[2].plot(subtract_hist,'k')\n",
    "\n",
    "cv2.waitKey()\n",
    "cv2.destroyAllWindows()"
   ]
  },
  {
   "cell_type": "code",
   "execution_count": 4,
   "id": "7e064472",
   "metadata": {},
   "outputs": [],
   "source": [
    "# 히스토그램 스트레칭"
   ]
  },
  {
   "cell_type": "code",
   "execution_count": 56,
   "id": "83e7d765",
   "metadata": {},
   "outputs": [
    {
     "name": "stdout",
     "output_type": "stream",
     "text": [
      "(300, 450, 3)\n"
     ]
    },
    {
     "data": {
      "text/plain": [
       "array([[[150, 150, 150],\n",
       "        [151, 151, 151],\n",
       "        [140, 140, 140],\n",
       "        ...,\n",
       "        [166, 166, 166],\n",
       "        [170, 170, 170],\n",
       "        [170, 170, 170]],\n",
       "\n",
       "       [[146, 146, 146],\n",
       "        [144, 144, 144],\n",
       "        [136, 136, 136],\n",
       "        ...,\n",
       "        [146, 146, 146],\n",
       "        [143, 143, 143],\n",
       "        [143, 143, 143]],\n",
       "\n",
       "       [[141, 141, 141],\n",
       "        [138, 138, 138],\n",
       "        [133, 133, 133],\n",
       "        ...,\n",
       "        [141, 141, 141],\n",
       "        [133, 133, 133],\n",
       "        [133, 133, 133]],\n",
       "\n",
       "       ...,\n",
       "\n",
       "       [[139, 139, 139],\n",
       "        [128, 128, 128],\n",
       "        [136, 136, 136],\n",
       "        ...,\n",
       "        [145, 145, 145],\n",
       "        [146, 146, 146],\n",
       "        [146, 146, 146]],\n",
       "\n",
       "       [[138, 138, 138],\n",
       "        [127, 127, 127],\n",
       "        [136, 136, 136],\n",
       "        ...,\n",
       "        [145, 145, 145],\n",
       "        [145, 145, 145],\n",
       "        [145, 145, 145]],\n",
       "\n",
       "       [[137, 137, 137],\n",
       "        [128, 128, 128],\n",
       "        [137, 137, 137],\n",
       "        ...,\n",
       "        [144, 144, 144],\n",
       "        [145, 145, 145],\n",
       "        [145, 145, 145]]], dtype=uint8)"
      ]
     },
     "execution_count": 56,
     "metadata": {},
     "output_type": "execute_result"
    }
   ],
   "source": [
    "import cv2\n",
    "\n",
    "img = cv2.imread('hawkes.bmp')\n",
    "print(img.shape) # 3channels\n",
    "cv2.imshow('img',img)\n",
    "cv2.waitKey()\n",
    "cv2.destroyAllWindows()\n",
    "img"
   ]
  },
  {
   "cell_type": "code",
   "execution_count": 57,
   "id": "8bab0d41",
   "metadata": {},
   "outputs": [
    {
     "data": {
      "text/plain": [
       "array([[150, 151, 140, ..., 166, 170, 170],\n",
       "       [146, 144, 136, ..., 146, 143, 143],\n",
       "       [141, 138, 133, ..., 141, 133, 133],\n",
       "       ...,\n",
       "       [139, 128, 136, ..., 145, 146, 146],\n",
       "       [138, 127, 136, ..., 145, 145, 145],\n",
       "       [137, 128, 137, ..., 144, 145, 145]], dtype=uint8)"
      ]
     },
     "execution_count": 57,
     "metadata": {},
     "output_type": "execute_result"
    }
   ],
   "source": [
    "img = cv2.imread('hawkes.bmp', cv2.IMREAD_GRAYSCALE)\n",
    "cv2.imshow('img',img)\n",
    "cv2.waitKey()\n",
    "cv2.destroyAllWindows()\n",
    "img"
   ]
  },
  {
   "cell_type": "code",
   "execution_count": 58,
   "id": "b4b60772",
   "metadata": {},
   "outputs": [
    {
     "name": "stdout",
     "output_type": "stream",
     "text": [
      "218.0 107.0\n"
     ]
    }
   ],
   "source": [
    "max_num = float(np.max(img)); min_num = float(np.min(img))\n",
    "print(max_num,min_num)"
   ]
  },
  {
   "cell_type": "code",
   "execution_count": null,
   "id": "7c256558",
   "metadata": {},
   "outputs": [
    {
     "data": {
      "text/plain": [
       "array([[ 98.78378378, 101.08108108,  75.81081081, ..., 135.54054054,\n",
       "        144.72972973, 144.72972973],\n",
       "       [ 89.59459459,  85.        ,  66.62162162, ...,  89.59459459,\n",
       "         82.7027027 ,  82.7027027 ],\n",
       "       [ 78.10810811,  71.21621622,  59.72972973, ...,  78.10810811,\n",
       "         59.72972973,  59.72972973],\n",
       "       ...,\n",
       "       [ 73.51351351,  48.24324324,  66.62162162, ...,  87.2972973 ,\n",
       "         89.59459459,  89.59459459],\n",
       "       [ 71.21621622,  45.94594595,  66.62162162, ...,  87.2972973 ,\n",
       "         87.2972973 ,  87.2972973 ],\n",
       "       [ 68.91891892,  48.24324324,  68.91891892, ...,  85.        ,\n",
       "         87.2972973 ,  87.2972973 ]])"
      ]
     },
     "execution_count": 51,
     "metadata": {},
     "output_type": "execute_result"
    }
   ],
   "source": [
    "img = ( ((img-min_num)*255.)/(max_num-min_num) ) # 값 연산은 float으로 진행해야한다, MinMaxScaling 후 *255를 통해 색 정보를 명확하게\n",
    "img"
   ]
  },
  {
   "cell_type": "code",
   "execution_count": 52,
   "id": "48ffde7e",
   "metadata": {},
   "outputs": [
    {
     "data": {
      "text/plain": [
       "array([[ 98, 101,  75, ..., 135, 144, 144],\n",
       "       [ 89,  85,  66, ...,  89,  82,  82],\n",
       "       [ 78,  71,  59, ...,  78,  59,  59],\n",
       "       ...,\n",
       "       [ 73,  48,  66, ...,  87,  89,  89],\n",
       "       [ 71,  45,  66, ...,  87,  87,  87],\n",
       "       [ 68,  48,  68, ...,  85,  87,  87]], dtype=uint8)"
      ]
     },
     "execution_count": 52,
     "metadata": {},
     "output_type": "execute_result"
    }
   ],
   "source": [
    "dst = img.astype(np.uint8)\n",
    "dst"
   ]
  },
  {
   "cell_type": "code",
   "execution_count": 53,
   "id": "614610b2",
   "metadata": {},
   "outputs": [],
   "source": [
    "cv2.imshow('dst',dst)\n",
    "cv2.waitKey()\n",
    "cv2.destroyAllWindows()"
   ]
  },
  {
   "cell_type": "code",
   "execution_count": 55,
   "id": "de8db61f",
   "metadata": {},
   "outputs": [
    {
     "data": {
      "text/plain": [
       "(np.uint8(0), np.uint8(255))"
      ]
     },
     "execution_count": 55,
     "metadata": {},
     "output_type": "execute_result"
    }
   ],
   "source": [
    "dst.min(), dst.max()"
   ]
  },
  {
   "cell_type": "code",
   "execution_count": 62,
   "id": "532d1f7c",
   "metadata": {},
   "outputs": [
    {
     "data": {
      "text/plain": [
       "(array([[150, 151, 140, ..., 166, 170, 170],\n",
       "        [146, 144, 136, ..., 146, 143, 143],\n",
       "        [141, 138, 133, ..., 141, 133, 133],\n",
       "        ...,\n",
       "        [139, 128, 136, ..., 145, 146, 146],\n",
       "        [138, 127, 136, ..., 145, 145, 145],\n",
       "        [137, 128, 137, ..., 144, 145, 145]], dtype=uint8),\n",
       " np.uint8(218),\n",
       " np.uint8(107))"
      ]
     },
     "execution_count": 62,
     "metadata": {},
     "output_type": "execute_result"
    }
   ],
   "source": [
    "src = cv2.imread('hawkes.bmp',cv2.IMREAD_GRAYSCALE)\n",
    "src, src.max(), src.min()"
   ]
  },
  {
   "cell_type": "code",
   "execution_count": 2,
   "id": "310fd6e7",
   "metadata": {},
   "outputs": [
    {
     "data": {
      "text/plain": [
       "(array([[164, 170,  92, ..., 230, 236, 236],\n",
       "        [137, 123,  52, ..., 137, 116, 116],\n",
       "        [101,  73,  27, ..., 101,  27,  27],\n",
       "        ...,\n",
       "        [ 83,   8,  52, ..., 130, 137, 137],\n",
       "        [ 73,   6,  52, ..., 130, 130, 130],\n",
       "        [ 62,   8,  62, ..., 123, 130, 130]], dtype=uint8),\n",
       " np.uint8(255),\n",
       " np.uint8(0),\n",
       " (300, 450))"
      ]
     },
     "execution_count": 2,
     "metadata": {},
     "output_type": "execute_result"
    }
   ],
   "source": [
    "import cv2\n",
    "src = cv2.imread('hawkes.bmp',cv2.IMREAD_GRAYSCALE)\n",
    "dst = cv2.equalizeHist(src)\n",
    "dst, dst.max(), dst.min(), dst.shape"
   ]
  },
  {
   "cell_type": "code",
   "execution_count": 3,
   "id": "0cc3fb5e",
   "metadata": {},
   "outputs": [],
   "source": [
    "cv2.imshow('dst',dst)\n",
    "cv2.waitKey()\n",
    "cv2.destroyAllWindows()"
   ]
  },
  {
   "cell_type": "code",
   "execution_count": 64,
   "id": "001672ee",
   "metadata": {},
   "outputs": [],
   "source": [
    "def calcGrayHist(img):\n",
    "    channels = [0]\n",
    "    histSize = [256]\n",
    "    histRange = [0, 256]\n",
    "\n",
    "    hist = cv2.calcHist([img], channels, None, histSize, histRange)\n",
    "\n",
    "    return hist"
   ]
  },
  {
   "cell_type": "code",
   "execution_count": 65,
   "id": "73d344ff",
   "metadata": {},
   "outputs": [],
   "source": [
    "def getGrayHistImage(hist):\n",
    "    histMax = np.max(hist)\n",
    "\n",
    "    imgHist = np.full((100, 256), 255, dtype=np.uint8)\n",
    "    for x in range(256):\n",
    "        pt1 = (x, 100)\n",
    "        pt2 = (x, 100 - int(hist[x, 0] * 100 / histMax))\n",
    "        cv2.line(imgHist, pt1, pt2, 0)\n",
    "\n",
    "    return imgHist"
   ]
  },
  {
   "cell_type": "code",
   "execution_count": 66,
   "id": "63de8ead",
   "metadata": {},
   "outputs": [],
   "source": [
    "def histgoram_equalization():\n",
    "    src = cv2.imread('hawkes.bmp', cv2.IMREAD_GRAYSCALE)\n",
    "\n",
    "    if src is None:\n",
    "        print('Image load failed!')\n",
    "        return\n",
    "\n",
    "    dst = cv2.equalizeHist(src)\n",
    "\n",
    "    cv2.imshow('src', src)\n",
    "    cv2.imshow('srcHist', getGrayHistImage(calcGrayHist(src)))\n",
    "\n",
    "    cv2.imshow('dst', dst)\n",
    "    cv2.imshow('dstHist', getGrayHistImage(calcGrayHist(dst)))\n",
    "\n",
    "    cv2.waitKey()\n",
    "    cv2.destroyAllWindows()"
   ]
  },
  {
   "cell_type": "code",
   "execution_count": 67,
   "id": "1affdb73",
   "metadata": {},
   "outputs": [],
   "source": [
    "histgoram_equalization()"
   ]
  },
  {
   "cell_type": "code",
   "execution_count": null,
   "id": "8b9d47b5",
   "metadata": {},
   "outputs": [],
   "source": []
  }
 ],
 "metadata": {
  "kernelspec": {
   "display_name": "base",
   "language": "python",
   "name": "python3"
  },
  "language_info": {
   "codemirror_mode": {
    "name": "ipython",
    "version": 3
   },
   "file_extension": ".py",
   "mimetype": "text/x-python",
   "name": "python",
   "nbconvert_exporter": "python",
   "pygments_lexer": "ipython3",
   "version": "3.13.5"
  }
 },
 "nbformat": 4,
 "nbformat_minor": 5
}
