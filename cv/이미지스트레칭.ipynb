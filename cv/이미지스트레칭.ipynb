{
 "cells": [
  {
   "cell_type": "code",
   "execution_count": null,
   "id": "b7543f4f",
   "metadata": {},
   "outputs": [],
   "source": [
    "# 스트레칭 => 정규화 하고 255 값을 곱해 이미지 선명하게 만드는 방식(파이그래프)\n",
    "# 평활화(equalization) => 비중(표준화값) cumsum * 255 값으로 색감을 더 선명하게 만드는 방식 => 밝은 건 더 밝게 어두운 건 더 어둡게(누적합그래프)\n",
    "\n",
    "# 이미지 스트레칭은 아래와 같음. \n",
    "\n",
    "img = cv2.imread('./hawkes.bmp', cv2.IMREAD_GRAYSCALE)\n",
    "gmin = float(np.min(img))\n",
    "gmax = float(np.max(img))\n",
    "dst = ((img - gmin) * 255. / (gmax - gmin)).astype('uint8')\n",
    "cv2.imshow('img',dst)\n",
    "cv2.waitKey()\n",
    "cv2.destroyAllWindows()\n",
    "\n",
    "# 이미지 평활화\n",
    "dst = cv2.equalizeHist(src)"
   ]
  }
 ],
 "metadata": {
  "language_info": {
   "name": "python"
  }
 },
 "nbformat": 4,
 "nbformat_minor": 5
}
