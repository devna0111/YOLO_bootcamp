{
 "cells": [
  {
   "cell_type": "code",
   "execution_count": 12,
   "id": "550dcdfc",
   "metadata": {},
   "outputs": [],
   "source": [
    "import cv2\n",
    "import numpy as np\n",
    "\n",
    "img = cv2.imread('blue/000001.jpg')"
   ]
  },
  {
   "cell_type": "code",
   "execution_count": 13,
   "id": "13e38110",
   "metadata": {},
   "outputs": [
    {
     "data": {
      "text/plain": [
       "(217, 300, 3)"
      ]
     },
     "execution_count": 13,
     "metadata": {},
     "output_type": "execute_result"
    }
   ],
   "source": [
    "img.shape"
   ]
  },
  {
   "cell_type": "code",
   "execution_count": 14,
   "id": "8e987401",
   "metadata": {},
   "outputs": [],
   "source": [
    "'''\n",
    "#5x5 평균 필터 커널 생성    ---①\n",
    "kernel = np.array([[0.04, 0.04, 0.04, 0.04, 0.04],\n",
    "                   [0.04, 0.04, 0.04, 0.04, 0.04],\n",
    "                   [0.04, 0.04, 0.04, 0.04, 0.04],\n",
    "                   [0.04, 0.04, 0.04, 0.04, 0.04],\n",
    "                   [0.04, 0.04, 0.04, 0.04, 0.04]])\n",
    "'''\n",
    "# 5x5 평균 필터 커널 생성\n",
    "kernel = np.ones((5,5))/5**2"
   ]
  },
  {
   "cell_type": "code",
   "execution_count": null,
   "id": "37d37a82",
   "metadata": {},
   "outputs": [
    {
     "data": {
      "text/plain": [
       "np.float64(1.0)"
      ]
     },
     "execution_count": 17,
     "metadata": {},
     "output_type": "execute_result"
    }
   ],
   "source": [
    "kernel.sum()"
   ]
  },
  {
   "cell_type": "code",
   "execution_count": 15,
   "id": "06f432a7",
   "metadata": {},
   "outputs": [],
   "source": [
    "# 필터 적용\n",
    "blured = cv2.filter2D(img, -1, kernel)"
   ]
  },
  {
   "cell_type": "code",
   "execution_count": 16,
   "id": "2315a7f8",
   "metadata": {},
   "outputs": [],
   "source": [
    "# 결과 출력\n",
    "cv2.imshow('origin', img)\n",
    "cv2.imshow('avrg blur', blured) \n",
    "cv2.waitKey()\n",
    "cv2.destroyAllWindows()"
   ]
  },
  {
   "cell_type": "code",
   "execution_count": null,
   "id": "82a8f90b",
   "metadata": {},
   "outputs": [],
   "source": []
  }
 ],
 "metadata": {
  "kernelspec": {
   "display_name": "base",
   "language": "python",
   "name": "python3"
  },
  "language_info": {
   "codemirror_mode": {
    "name": "ipython",
    "version": 3
   },
   "file_extension": ".py",
   "mimetype": "text/x-python",
   "name": "python",
   "nbconvert_exporter": "python",
   "pygments_lexer": "ipython3",
   "version": "3.13.5"
  }
 },
 "nbformat": 4,
 "nbformat_minor": 5
}
