{
 "cells": [
  {
   "cell_type": "code",
   "execution_count": 1,
   "id": "b29a89a0",
   "metadata": {},
   "outputs": [],
   "source": [
    "import sys\n",
    "import numpy as np\n",
    "import cv2"
   ]
  },
  {
   "cell_type": "code",
   "execution_count": 2,
   "id": "e0929146",
   "metadata": {},
   "outputs": [],
   "source": [
    "img_path = 'img/neutrophils.png'"
   ]
  },
  {
   "cell_type": "code",
   "execution_count": 3,
   "id": "13852fef",
   "metadata": {},
   "outputs": [],
   "source": [
    "src = cv2.imread(img_path, cv2.IMREAD_GRAYSCALE)"
   ]
  },
  {
   "cell_type": "code",
   "execution_count": 4,
   "id": "317f4d9f",
   "metadata": {},
   "outputs": [
    {
     "data": {
      "text/plain": [
       "(480, 640)"
      ]
     },
     "execution_count": 4,
     "metadata": {},
     "output_type": "execute_result"
    }
   ],
   "source": [
    "src.shape"
   ]
  },
  {
   "cell_type": "code",
   "execution_count": 5,
   "id": "0d631da5",
   "metadata": {},
   "outputs": [],
   "source": [
    "def on_threshold(pos):\n",
    "    _, dst = cv2.threshold(src, pos, 255, cv2.THRESH_BINARY)\n",
    "    cv2.imshow('dst', dst)"
   ]
  },
  {
   "cell_type": "code",
   "execution_count": 6,
   "id": "645899fe",
   "metadata": {},
   "outputs": [],
   "source": [
    "cv2.imshow('src', src)\n",
    "\n",
    "cv2.namedWindow('dst')\n",
    "cv2.createTrackbar('Threshold', 'dst', 0, 255, on_threshold)\n",
    "cv2.setTrackbarPos('Threshold', 'dst', 128)\n",
    "\n",
    "cv2.waitKey(0)\n",
    "cv2.destroyAllWindows()"
   ]
  },
  {
   "cell_type": "code",
   "execution_count": 13,
   "id": "9d6e6efa",
   "metadata": {},
   "outputs": [
    {
     "data": {
      "text/plain": [
       "(563, 558)"
      ]
     },
     "execution_count": 13,
     "metadata": {},
     "output_type": "execute_result"
    }
   ],
   "source": [
    "# 적응형이진화\n",
    "import sys\n",
    "import numpy as np\n",
    "import cv2\n",
    "\n",
    "src = cv2.imread('img/sudoku.jpg', cv2.IMREAD_GRAYSCALE)\n",
    "src.shape"
   ]
  },
  {
   "cell_type": "code",
   "execution_count": 15,
   "id": "df4d086f",
   "metadata": {},
   "outputs": [],
   "source": [
    "def on_trackbar(pos):\n",
    "    bsize = pos\n",
    "    if bsize % 2 == 0: bsize = bsize - 1\n",
    "    if bsize < 3: bsize = 3\n",
    "\n",
    "    dst = cv2.adaptiveThreshold(src, 255, cv2.ADAPTIVE_THRESH_GAUSSIAN_C,\n",
    "                               cv2.THRESH_BINARY, bsize, 5)\n",
    "\n",
    "    cv2.imshow('dst', dst)"
   ]
  },
  {
   "cell_type": "code",
   "execution_count": 16,
   "id": "c39bc979",
   "metadata": {},
   "outputs": [],
   "source": [
    "cv2.imshow('src', src)\n",
    "\n",
    "cv2.namedWindow('dst')\n",
    "cv2.createTrackbar('Block Size', 'dst', 0, 200, on_trackbar)\n",
    "cv2.setTrackbarPos('Block Size', 'dst', 11)\n",
    "\n",
    "cv2.waitKey()\n",
    "cv2.destroyAllWindows()"
   ]
  },
  {
   "cell_type": "code",
   "execution_count": 2,
   "id": "ffdccbd9",
   "metadata": {},
   "outputs": [
    {
     "data": {
      "text/plain": [
       "(4032, 3024)"
      ]
     },
     "execution_count": 2,
     "metadata": {},
     "output_type": "execute_result"
    }
   ],
   "source": [
    "src.shape"
   ]
  },
  {
   "cell_type": "code",
   "execution_count": null,
   "id": "6b02589c",
   "metadata": {},
   "outputs": [],
   "source": [
    "import numpy as np\n",
    "import cv2\n",
    "src = cv2.imread('img/JS.jpg', cv2.IMREAD_GRAYSCALE)\n",
    "\n",
    "def on_trackbar(pos):\n",
    "    bsize = pos\n",
    "    if bsize % 2 == 0: bsize = bsize - 1\n",
    "    if bsize < 3: bsize = 3\n",
    "\n",
    "    dst = cv2.adaptiveThreshold(src, 255, cv2.ADAPTIVE_THRESH_GAUSSIAN_C,\n",
    "                               cv2.THRESH_BINARY, bsize, 5)\n",
    "\n",
    "    cv2.imshow('dst', dst)\n",
    "    \n",
    "cv2.namedWindow('dst',cv2.WINDOW_NORMAL)\n",
    "\n",
    "cv2.imshow('src', src)\n",
    "\n",
    "cv2.createTrackbar('Block Size', 'dst', 0, 200, on_trackbar)\n",
    "cv2.setTrackbarPos('Block Size', 'dst', 11)\n",
    "\n",
    "cv2.waitKey()\n",
    "cv2.destroyAllWindows()"
   ]
  },
  {
   "cell_type": "code",
   "execution_count": 5,
   "id": "ec9fc23c",
   "metadata": {},
   "outputs": [],
   "source": [
    "import numpy as np\n",
    "import cv2\n",
    "src = cv2.imread('img/pcb.png', cv2.IMREAD_GRAYSCALE)\n",
    "\n",
    "def on_trackbar(pos):\n",
    "    bsize = pos\n",
    "    if bsize % 2 == 0: bsize = bsize - 1\n",
    "    if bsize < 3: bsize = 3\n",
    "\n",
    "    dst = cv2.adaptiveThreshold(src, 255, cv2.ADAPTIVE_THRESH_GAUSSIAN_C,\n",
    "                               cv2.THRESH_BINARY_INV, bsize, 5)\n",
    "\n",
    "    cv2.imshow('dst', dst)\n",
    "    \n",
    "cv2.namedWindow('dst',cv2.WINDOW_NORMAL)\n",
    "\n",
    "cv2.imshow('src', src)\n",
    "\n",
    "cv2.createTrackbar('Block Size', 'dst', 0, 200, on_trackbar)\n",
    "cv2.setTrackbarPos('Block Size', 'dst', 11)\n",
    "\n",
    "cv2.waitKey()\n",
    "cv2.destroyAllWindows()"
   ]
  },
  {
   "cell_type": "code",
   "execution_count": 41,
   "id": "eba54771",
   "metadata": {},
   "outputs": [],
   "source": [
    "# img/scaned_paper.jpg 속 글씨를 선명하게 하기\n",
    "# 이미지 체크\n",
    "import numpy as np\n",
    "import cv2\n",
    "\n",
    "img_path = 'img/scaned_paper.jpg'\n",
    "src = cv2.imread(img_path, cv2.IMREAD_GRAYSCALE)\n",
    "cv2.imshow('origin',src)\n",
    "\n",
    "dst_128 = cv2.add(src,150)\n",
    "dst_128 = np.where(dst>128,255,0).astype(np.uint8)\n",
    "cv2.imshow('dst_128',dst_128)\n",
    "\n",
    "dst = cv2.add(src,110)\n",
    "dst = np.where(dst>dst.mean(),255,0).astype(np.uint8)\n",
    "cv2.imshow('brighter',dst)\n",
    "\n",
    "# 1. 평균치를 기준으로 단순하게 작업해보기\n",
    "dst1 = np.where(src<src.mean(),0,255).astype(np.uint8)\n",
    "cv2.imshow('npwhere',dst1) # 선명하지 않음\n",
    "\n",
    "# 2. threshhold 활용\n",
    "_, dst2 = cv2.threshold(src, -1, 255, cv2.THRESH_BINARY | cv2.THRESH_OTSU)\n",
    "cv2.imshow('threshhold', dst2)\n",
    "\n",
    "# 3. Adaptivethreshhold 활용\n",
    "dst_adap = cv2.adaptiveThreshold(src, 255, cv2.ADAPTIVE_THRESH_MEAN_C, cv2.THRESH_BINARY, 7, 10)\n",
    "cv2.imshow('adaptive', dst_adap)\n",
    "\n",
    "cv2.waitKey()\n",
    "cv2.destroyAllWindows()"
   ]
  },
  {
   "cell_type": "markdown",
   "id": "7ba56b60",
   "metadata": {},
   "source": [
    "# 선생님 풀이"
   ]
  },
  {
   "cell_type": "code",
   "execution_count": null,
   "id": "d0fdef59",
   "metadata": {},
   "outputs": [
    {
     "data": {
      "text/plain": [
       "(450, 400)"
      ]
     },
     "execution_count": 37,
     "metadata": {},
     "output_type": "execute_result"
    }
   ],
   "source": [
    "img = cv2.imread('img/scaned_paper.jpg', cv2.IMREAD_GRAYSCALE)\n",
    "img.shape"
   ]
  },
  {
   "cell_type": "code",
   "execution_count": 40,
   "id": "09cf0241",
   "metadata": {},
   "outputs": [
    {
     "data": {
      "text/plain": [
       "(130.0,\n",
       " array([[255, 255, 255, ..., 255, 255, 255],\n",
       "        [255, 255, 255, ..., 255, 255, 255],\n",
       "        [255, 255, 255, ..., 255, 255, 255],\n",
       "        ...,\n",
       "        [  0,   0,   0, ..., 255, 255, 255],\n",
       "        [255,   0,   0, ..., 255, 255, 255],\n",
       "        [255,   0,   0, ..., 255, 255, 255]], dtype=uint8))"
      ]
     },
     "execution_count": 40,
     "metadata": {},
     "output_type": "execute_result"
    }
   ],
   "source": [
    "cv2.threshold(img, 130, 255, cv2.THRESH_BINARY)"
   ]
  },
  {
   "cell_type": "code",
   "execution_count": null,
   "id": "e127a24f",
   "metadata": {},
   "outputs": [],
   "source": [
    "# 모폴로지 방식으로 하면 더 잘나올텐데 => 모핑 : 형태에 관련된 연산을 의미한다"
   ]
  },
  {
   "cell_type": "code",
   "execution_count": null,
   "id": "e24e3a39",
   "metadata": {},
   "outputs": [],
   "source": [
    "# 모폴로지 연습 (침식 / 팽창 순)"
   ]
  },
  {
   "cell_type": "code",
   "execution_count": null,
   "id": "0c79aa5f",
   "metadata": {},
   "outputs": [
    {
     "name": "stdout",
     "output_type": "stream",
     "text": [
      "[[0 0 1 0 0]\n",
      " [0 0 1 0 0]\n",
      " [1 1 1 1 1]\n",
      " [0 0 1 0 0]\n",
      " [0 0 1 0 0]]\n"
     ]
    }
   ],
   "source": [
    "import cv2\n",
    "import numpy as np\n",
    "\n",
    "img_path = 'img/morph_dot.png'\n",
    "src = cv2.imread(img_path)\n",
    "\n",
    "cv2.imshow('src',src)\n",
    "\n",
    "kernel = cv2.getStructuringElement(cv2.MORPH_CROSS, (5,5)) \n",
    "# 1번째 인자 모양 => cv2.MORPH_RECT 사각형 , cv2.MORPH_ELLIPSE 원형 비슷한 커널, cv2.MORPH_CROSS 십자 커널\n",
    "# 2번째 인자는 ksize => 튜플형 사이즈를 의미\n",
    "\n",
    "print(kernel)\n",
    "\n",
    "eroded = cv2.erode(src, kernel, iterations=1)\n",
    "\n",
    "cv2.imshow('eroded',eroded)\n",
    "\n",
    "cv2.waitKey()\n",
    "cv2.destroyAllWindows()"
   ]
  },
  {
   "cell_type": "code",
   "execution_count": 8,
   "id": "a8fa23f1",
   "metadata": {},
   "outputs": [
    {
     "name": "stdout",
     "output_type": "stream",
     "text": [
      "[[0 0 1 0 0]\n",
      " [0 0 1 0 0]\n",
      " [1 1 1 1 1]\n",
      " [0 0 1 0 0]\n",
      " [0 0 1 0 0]]\n"
     ]
    }
   ],
   "source": [
    "import cv2\n",
    "import numpy as np\n",
    "\n",
    "img_path = 'img/morph_dot.png'\n",
    "src = cv2.imread(img_path)\n",
    "\n",
    "cv2.imshow('src',src)\n",
    "\n",
    "kernel = cv2.getStructuringElement(cv2.MORPH_CROSS, (5,5)) \n",
    "# 1번째 인자 모양 => cv2.MORPH_RECT 사각형 , cv2.MORPH_ELLIPSE 원형 비슷한 커널, cv2.MORPH_CROSS 십자 커널\n",
    "# 2번째 인자는 ksize => 튜플형 사이즈를 의미\n",
    "\n",
    "print(kernel)\n",
    "\n",
    "eroded = cv2.dilate(src, kernel, iterations=1)\n",
    "\n",
    "cv2.imshow('eroded',eroded)\n",
    "\n",
    "cv2.waitKey()\n",
    "cv2.destroyAllWindows()"
   ]
  }
 ],
 "metadata": {
  "kernelspec": {
   "display_name": "base",
   "language": "python",
   "name": "python3"
  },
  "language_info": {
   "codemirror_mode": {
    "name": "ipython",
    "version": 3
   },
   "file_extension": ".py",
   "mimetype": "text/x-python",
   "name": "python",
   "nbconvert_exporter": "python",
   "pygments_lexer": "ipython3",
   "version": "3.13.5"
  }
 },
 "nbformat": 4,
 "nbformat_minor": 5
}
