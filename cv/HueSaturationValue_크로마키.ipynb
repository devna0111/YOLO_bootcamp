{
 "cells": [
  {
   "cell_type": "markdown",
   "id": "a737a421",
   "metadata": {},
   "source": [
    "색조(Hue), 채도(Saturation), 명도(Value)\n",
    "- Region Of Interest : 관심영역"
   ]
  },
  {
   "cell_type": "code",
   "execution_count": 1,
   "id": "f00085fa",
   "metadata": {},
   "outputs": [],
   "source": [
    "import cv2\n",
    "import numpy as np\n",
    "import matplotlib.pylab as plt\n",
    "\n",
    "#--① 크로마키 배경 영상과 합성할 배경 영상 읽기\n",
    "img1 = cv2.imread('img/man_chromakey.jpg')\n",
    "img2 = cv2.imread('img/street.jpg')\n",
    "\n",
    "#--② ROI 선택을 위한 좌표 계산\n",
    "height1, width1 = img1.shape[:2]\n",
    "height2, width2 = img2.shape[:2]\n",
    "x = (width2 - width1)//2\n",
    "y = height2 - height1\n",
    "w = x + width1\n",
    "h = y + height1\n",
    "\n",
    "#--③ 크로마키 배경 영상에서 크로마키 영역을 10픽셀 정도로 지정\n",
    "chromakey = img1[:10, :10, :]\n",
    "offset = 20\n",
    "\n",
    "#--④ 크로마키 영역과 영상 전체를 HSV로 변경\n",
    "hsv_chroma = cv2.cvtColor(chromakey, cv2.COLOR_BGR2HSV)\n",
    "hsv_img = cv2.cvtColor(img1, cv2.COLOR_BGR2HSV)\n",
    "\n",
    "#--⑤ 크로마키 영역의 H값에서 offset 만큼 여유를 두어서 범위 지정\n",
    "# offset 값은 여러차례 시도 후 결정\n",
    "#chroma_h = hsv_chroma[0]\n",
    "chroma_h = hsv_chroma[:,:,0]\n",
    "lower = np.array([chroma_h.min()-offset, 100, 100])\n",
    "upper = np.array([chroma_h.max()+offset, 255, 255])\n",
    "\n",
    "#--⑥ 마스크 생성 및 마스킹 후 합성\n",
    "mask = cv2.inRange(hsv_img, lower, upper)\n",
    "mask_inv = cv2.bitwise_not(mask)\n",
    "roi = img2[y:h, x:w]\n",
    "fg = cv2.bitwise_and(img1, img1, mask=mask_inv)\n",
    "bg = cv2.bitwise_and(roi, roi, mask=mask)\n",
    "img2[y:h, x:w] = fg + bg\n",
    "\n",
    "#--⑦ 결과 출력\n",
    "cv2.imshow('chromakey', img1)\n",
    "cv2.imshow('added', img2)\n",
    "cv2.waitKey()\n",
    "cv2.destroyAllWindows()"
   ]
  },
  {
   "cell_type": "code",
   "execution_count": null,
   "id": "b89adb6f",
   "metadata": {},
   "outputs": [],
   "source": []
  }
 ],
 "metadata": {
  "kernelspec": {
   "display_name": "base",
   "language": "python",
   "name": "python3"
  },
  "language_info": {
   "codemirror_mode": {
    "name": "ipython",
    "version": 3
   },
   "file_extension": ".py",
   "mimetype": "text/x-python",
   "name": "python",
   "nbconvert_exporter": "python",
   "pygments_lexer": "ipython3",
   "version": "3.13.5"
  }
 },
 "nbformat": 4,
 "nbformat_minor": 5
}
