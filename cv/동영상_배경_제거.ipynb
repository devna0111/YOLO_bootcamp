{
 "cells": [
  {
   "cell_type": "code",
   "execution_count": 7,
   "id": "eff8c7b5",
   "metadata": {},
   "outputs": [],
   "source": [
    "import numpy as np, cv2\n",
    "\n",
    "cap = cv2.VideoCapture('test.mp4')\n",
    "fps = cap.get(cv2.CAP_PROP_FPS) # 프레임 수 구하기\n",
    "delay = int(1000/fps)\n",
    "# 배경 제거 객체 생성 --- ①\n",
    "fgbg = cv2.bgsegm.createBackgroundSubtractorMOG()\n",
    "while cap.isOpened():\n",
    "    ret, frame = cap.read()\n",
    "    if not ret:\n",
    "        break\n",
    "    # 배경 제거 마스크 계산 --- ②\n",
    "    fgmask = fgbg.apply(frame)\n",
    "    cv2.imshow('frame',frame)\n",
    "    cv2.imshow('bgsub',fgmask)\n",
    "    if cv2.waitKey(1) & 0xff == 27:\n",
    "        break\n",
    "cap.release()\n",
    "cv2.destroyAllWindows()"
   ]
  },
  {
   "cell_type": "code",
   "execution_count": 5,
   "id": "3b851b1b",
   "metadata": {},
   "outputs": [
    {
     "name": "stdout",
     "output_type": "stream",
     "text": [
      "웹캠이 열렸습니다. 's'로 녹화 시작, 'e'로 녹화 중지 및 저장, 'q'로 종료.\n",
      "녹화 시작!\n",
      "녹화 중지, record.avi에 저장되었습니다.\n"
     ]
    }
   ],
   "source": [
    "# 동영상 녹화하기\n",
    "import cv2\n",
    "\n",
    "def record_webcam():\n",
    "    \"\"\"웹캠으로 동영상을 녹화하고 record.avi로 저장\"\"\"\n",
    "    # 웹캠 열기 (0: 기본 웹캠)\n",
    "    cap = cv2.VideoCapture(0)\n",
    "    \n",
    "    if not cap.isOpened():\n",
    "        print(\"웹캠을 열 수 없습니다.\")\n",
    "        return\n",
    "    \n",
    "    # 웹캠 프레임 속성 가져오기\n",
    "    width = int(cap.get(cv2.CAP_PROP_FRAME_WIDTH))\n",
    "    height = int(cap.get(cv2.CAP_PROP_FRAME_HEIGHT))\n",
    "    fps = 30  # 초당 프레임 수 (조정 가능)\n",
    "    \n",
    "    # 비디오 라이터 설정 (XVID 코덱 사용)\n",
    "    fourcc = cv2.VideoWriter_fourcc(*'XVID')\n",
    "    out = None\n",
    "    recording = False\n",
    "    \n",
    "    print(\"웹캠이 열렸습니다. 's'로 녹화 시작, 'e'로 녹화 중지 및 저장, 'q'로 종료.\")\n",
    "    \n",
    "    while True:\n",
    "        ret, frame = cap.read()\n",
    "        if not ret:\n",
    "            print(\"웹캠 프레임을 읽을 수 없습니다.\")\n",
    "            break\n",
    "        \n",
    "        # 프레임 표시\n",
    "        cv2.imshow(\"웹캠\", frame)\n",
    "        \n",
    "        # 키 입력 처리\n",
    "        key = cv2.waitKey(1) & 0xFF\n",
    "        \n",
    "        if key == ord('s') and not recording:\n",
    "            # 녹화 시작\n",
    "            out = cv2.VideoWriter('record.avi', fourcc, fps, (width, height))\n",
    "            recording = True\n",
    "            print(\"녹화 시작!\")\n",
    "        \n",
    "        elif key == ord('e') and recording:\n",
    "            # 녹화 중지 및 저장\n",
    "            recording = False\n",
    "            out.release()\n",
    "            print(\"녹화 중지, record.avi에 저장되었습니다.\")\n",
    "        \n",
    "        elif key == ord('q'):\n",
    "            # 프로그램 종료\n",
    "            break\n",
    "        \n",
    "        # 녹화 중이면 프레임 저장\n",
    "        if recording and out is not None:\n",
    "            out.write(frame)\n",
    "    \n",
    "    # 정리\n",
    "    if out is not None:\n",
    "        out.release()\n",
    "    cap.release()\n",
    "    cv2.destroyAllWindows()\n",
    "\n",
    "if __name__ == \"__main__\":\n",
    "    record_webcam()"
   ]
  },
  {
   "cell_type": "code",
   "execution_count": null,
   "id": "b1bc9a44",
   "metadata": {},
   "outputs": [],
   "source": []
  }
 ],
 "metadata": {
  "kernelspec": {
   "display_name": "cv",
   "language": "python",
   "name": "python3"
  },
  "language_info": {
   "codemirror_mode": {
    "name": "ipython",
    "version": 3
   },
   "file_extension": ".py",
   "mimetype": "text/x-python",
   "name": "python",
   "nbconvert_exporter": "python",
   "pygments_lexer": "ipython3",
   "version": "3.10.18"
  }
 },
 "nbformat": 4,
 "nbformat_minor": 5
}
