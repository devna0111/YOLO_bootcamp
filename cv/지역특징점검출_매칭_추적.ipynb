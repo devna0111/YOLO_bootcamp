{
 "cells": [
  {
   "cell_type": "markdown",
   "id": "d02b8514",
   "metadata": {},
   "source": [
    "# 코너 검출\n",
    "- 밝기 차이를 이용해서 코너(엣지)를 구분"
   ]
  },
  {
   "cell_type": "code",
   "execution_count": 23,
   "id": "824fb69c",
   "metadata": {},
   "outputs": [],
   "source": [
    "import numpy as np\n",
    "import cv2"
   ]
  },
  {
   "cell_type": "code",
   "execution_count": 24,
   "id": "c2e75f4b",
   "metadata": {},
   "outputs": [],
   "source": [
    "src = cv2.imread('img/building.jpg', cv2.IMREAD_GRAYSCALE)\n",
    "src.shape\n",
    "cv2.imshow('src',src)\n",
    "cv2.waitKey()\n",
    "cv2.destroyAllWindows()"
   ]
  },
  {
   "cell_type": "markdown",
   "id": "412ae7eb",
   "metadata": {},
   "source": [
    "# Harris 코너 검출"
   ]
  },
  {
   "cell_type": "code",
   "execution_count": 25,
   "id": "85259ea3",
   "metadata": {},
   "outputs": [],
   "source": [
    "harris = cv2.cornerHarris(src, 3, 3, 0.04)\n",
    "harris_norm = cv2.normalize(harris,\n",
    "                            None,\n",
    "                            0, 255, cv2.NORM_MINMAX, cv2.CV_8U)"
   ]
  },
  {
   "cell_type": "code",
   "execution_count": 26,
   "id": "d60083df",
   "metadata": {},
   "outputs": [
    {
     "data": {
      "text/plain": [
       "(600, 868, 3)"
      ]
     },
     "execution_count": 26,
     "metadata": {},
     "output_type": "execute_result"
    }
   ],
   "source": [
    "dst = cv2.cvtColor(src, cv2.COLOR_GRAY2BGR)\n",
    "dst.shape"
   ]
  },
  {
   "cell_type": "code",
   "execution_count": 27,
   "id": "167a8075",
   "metadata": {},
   "outputs": [],
   "source": [
    "for y in range(harris_norm.shape[0]):\n",
    "        for x in range(harris_norm.shape[1]):\n",
    "            if harris_norm[y, x] > 120:\n",
    "                if (harris[y, x] > harris[y-1, x] and\n",
    "                        harris[y, x] > harris[y-1, x] and\n",
    "                        harris[y, x] > harris[y-1, x] and\n",
    "                        harris[y, x] > harris[y-1, x]):\n",
    "                    cv2.circle(dst, (x, y), 5, (0, 0, 255), 2)\n",
    "\n",
    "cv2.imshow('src', src)\n",
    "cv2.imshow('harris_norm', harris_norm)\n",
    "cv2.imshow('dst', dst)\n",
    "cv2.waitKey()\n",
    "cv2.destroyAllWindows()"
   ]
  },
  {
   "cell_type": "markdown",
   "id": "f47987d3",
   "metadata": {},
   "source": [
    "# FAST 코너 검출\n",
    "- Features Accelerated Segment Test 방식의 코너 검출\n",
    "- 빠른 검출이 특징"
   ]
  },
  {
   "cell_type": "code",
   "execution_count": 29,
   "id": "bb13ca48",
   "metadata": {},
   "outputs": [],
   "source": [
    "src = cv2.imread('img/building.jpg', cv2.IMREAD_GRAYSCALE)\n",
    "\n",
    "fast = cv2.FastFeatureDetector_create(60)\n",
    "keypoints = fast.detect(src)\n",
    "\n",
    "dst = cv2.cvtColor(src, cv2.COLOR_GRAY2BGR)\n",
    "\n",
    "for kp in keypoints:\n",
    "    pt = (int(kp.pt[0]), int(kp.pt[1]))\n",
    "    cv2.circle(dst, pt, 5, (0, 0, 255), 2)\n",
    "\n",
    "cv2.imshow('src', src)\n",
    "cv2.imshow('dst', dst)\n",
    "cv2.waitKey()\n",
    "cv2.destroyAllWindows()"
   ]
  },
  {
   "cell_type": "markdown",
   "id": "f7c8d802",
   "metadata": {},
   "source": [
    "# SIFT : Scale-Invariant Feature Transform, 크기 불변 특징점\n",
    "- 이미지의 스케일 변화 시 특징점(코너)가 검출 되지 않을 수 있음\n",
    "- 이를 해결하기 위한 여러 기술을 활용함 : 옥타브 등\n",
    "\n",
    "### **특징점 기술자(특징 벡터)** : 특징점 주변 영상의 특성을 여러 개의 실수 값으로 표현한 것을 의미\n",
    "```\n",
    "코너를 검출하다 보면 이미지 스케일 변화(이미지 피라미드 등)에 의해 특징점(코너)의 특징이 약해지면서 검출이 안 될수 있는데 이를 해결하기 위해 SIFT(Scaled-Invariant Feature Transform) 개념이 나옴\n",
    "\n",
    "여기서 특징점 기술자 혹은 특징 벡터라는 표현이 나오는데 특징점 주변 영상의 특성을 실수값으로 표현한 것을 의미\n",
    "\n",
    "이를 통해 코너를 고정해서 확인이 가능함\n",
    "```"
   ]
  },
  {
   "cell_type": "markdown",
   "id": "dc04c30b",
   "metadata": {},
   "source": [
    "## FastFeatureDetector -> 키포인트 검출"
   ]
  },
  {
   "cell_type": "code",
   "execution_count": 33,
   "id": "49b0398b",
   "metadata": {},
   "outputs": [
    {
     "name": "stdout",
     "output_type": "stream",
     "text": [
      "[[[  0   0   5]\n",
      "  [  0   2   7]\n",
      "  [  2   3   7]\n",
      "  ...\n",
      "  [207 223 230]\n",
      "  [208 224 231]\n",
      "  [209 225 232]]\n",
      "\n",
      " [[  0   0   6]\n",
      "  [  1   2   6]\n",
      "  [  1   2   6]\n",
      "  ...\n",
      "  [206 222 229]\n",
      "  [206 222 229]\n",
      "  [206 222 229]]\n",
      "\n",
      " [[  2   1   5]\n",
      "  [  2   1   3]\n",
      "  [  1   0   2]\n",
      "  ...\n",
      "  [209 225 232]\n",
      "  [209 225 232]\n",
      "  [208 224 231]]\n",
      "\n",
      " ...\n",
      "\n",
      " [[ 42  82  70]\n",
      "  [ 38  78  66]\n",
      "  [ 35  73  61]\n",
      "  ...\n",
      "  [ 17  32  24]\n",
      "  [ 17  32  24]\n",
      "  [ 16  31  23]]\n",
      "\n",
      " [[ 43  83  71]\n",
      "  [ 38  78  66]\n",
      "  [ 34  72  60]\n",
      "  ...\n",
      "  [ 12  27  19]\n",
      "  [ 13  28  20]\n",
      "  [ 13  28  20]]\n",
      "\n",
      " [[ 44  84  72]\n",
      "  [ 38  78  66]\n",
      "  [ 32  70  58]\n",
      "  ...\n",
      "  [  8  23  15]\n",
      "  [  9  24  16]\n",
      "  [  9  24  16]]]\n"
     ]
    }
   ],
   "source": [
    "import cv2\n",
    "import numpy as np\n",
    "\n",
    "img = cv2.imread('./img/building.jpg')\n",
    "print(img)\n",
    "gray = cv2.cvtColor(img, cv2.COLOR_BGR2GRAY)\n",
    "\n",
    "# FASt 특징 검출기 생성 ---①\n",
    "fast = cv2.FastFeatureDetector_create(50)\n",
    "# 키 포인트 검출 ---②\n",
    "keypoints = fast.detect(gray, None)\n",
    "# 키 포인트 그리기 ---③\n",
    "img = cv2.drawKeypoints(img, keypoints, None)\n",
    "# 결과 출력 ---④\n",
    "cv2.imshow('FAST', img)\n",
    "cv2.waitKey()\n",
    "cv2.destroyAllWindows()"
   ]
  },
  {
   "cell_type": "markdown",
   "id": "800a444d",
   "metadata": {},
   "source": [
    "## SimpleBlobDetector -> 키포인트 검출"
   ]
  },
  {
   "cell_type": "code",
   "execution_count": 1,
   "id": "d0da675e",
   "metadata": {},
   "outputs": [],
   "source": [
    "import cv2\n",
    "import numpy as np\n",
    " \n",
    "img = cv2.imread(\"./img/building.jpg\")\n",
    "gray = cv2.cvtColor(img, cv2.COLOR_BGR2GRAY)\n",
    "\n",
    "# SimpleBlobDetector 생성 ---①\n",
    "detector = cv2.SimpleBlobDetector_create()\n",
    "# 키 포인트 검출 ---②\n",
    "keypoints = detector.detect(gray)\n",
    "# 키 포인트를 빨간색으로 표시 ---③\n",
    "img = cv2.drawKeypoints(img, keypoints, None, (0,0,255),\\\n",
    "                flags=cv2.DRAW_MATCHES_FLAGS_DRAW_RICH_KEYPOINTS)\n",
    " \n",
    "cv2.imshow(\"Blob\", img)\n",
    "cv2.waitKey()\n",
    "cv2.destroyAllWindows()"
   ]
  },
  {
   "cell_type": "markdown",
   "id": "8036e49b",
   "metadata": {},
   "source": [
    "## SURF추출기 -> 키포인트 검출\n",
    "-> 현재 이 방식은 특허 관련 문제로 불가"
   ]
  },
  {
   "cell_type": "code",
   "execution_count": 1,
   "id": "5c0db5c2",
   "metadata": {},
   "outputs": [
    {
     "ename": "error",
     "evalue": "OpenCV(4.12.0) D:\\a\\opencv-python\\opencv-python\\opencv_contrib\\modules\\xfeatures2d\\src\\surf.cpp:1028: error: (-213:The function/feature is not implemented) This algorithm is patented and is excluded in this configuration; Set OPENCV_ENABLE_NONFREE CMake option and rebuild the library in function 'cv::xfeatures2d::SURF::create'\n",
     "output_type": "error",
     "traceback": [
      "\u001b[1;31m---------------------------------------------------------------------------\u001b[0m",
      "\u001b[1;31merror\u001b[0m                                     Traceback (most recent call last)",
      "Cell \u001b[1;32mIn[1], line 8\u001b[0m\n\u001b[0;32m      5\u001b[0m gray \u001b[38;5;241m=\u001b[39m cv2\u001b[38;5;241m.\u001b[39mcvtColor(img, cv2\u001b[38;5;241m.\u001b[39mCOLOR_BGR2GRAY)\n\u001b[0;32m      7\u001b[0m \u001b[38;5;66;03m# SURF 추출기 생성 ( 경계:1000, 피라미드:3, 서술자확장:True, 방향적용:True)\u001b[39;00m\n\u001b[1;32m----> 8\u001b[0m surf \u001b[38;5;241m=\u001b[39m \u001b[43mcv2\u001b[49m\u001b[38;5;241;43m.\u001b[39;49m\u001b[43mxfeatures2d\u001b[49m\u001b[38;5;241;43m.\u001b[39;49m\u001b[43mSURF_create\u001b[49m\u001b[43m(\u001b[49m\u001b[38;5;241;43m1000\u001b[39;49m\u001b[43m,\u001b[49m\u001b[43m \u001b[49m\u001b[38;5;241;43m3\u001b[39;49m\u001b[43m,\u001b[49m\u001b[43m \u001b[49m\u001b[43mextended\u001b[49m\u001b[38;5;241;43m=\u001b[39;49m\u001b[38;5;28;43;01mTrue\u001b[39;49;00m\u001b[43m,\u001b[49m\u001b[43m \u001b[49m\u001b[43mupright\u001b[49m\u001b[38;5;241;43m=\u001b[39;49m\u001b[38;5;28;43;01mTrue\u001b[39;49;00m\u001b[43m)\u001b[49m\n\u001b[0;32m      9\u001b[0m \u001b[38;5;66;03m# 키 포인트 검출 및 서술자 계산\u001b[39;00m\n\u001b[0;32m     10\u001b[0m keypoints, desc \u001b[38;5;241m=\u001b[39m surf\u001b[38;5;241m.\u001b[39mdetectAndCompute(gray, \u001b[38;5;28;01mNone\u001b[39;00m)\n",
      "\u001b[1;31merror\u001b[0m: OpenCV(4.12.0) D:\\a\\opencv-python\\opencv-python\\opencv_contrib\\modules\\xfeatures2d\\src\\surf.cpp:1028: error: (-213:The function/feature is not implemented) This algorithm is patented and is excluded in this configuration; Set OPENCV_ENABLE_NONFREE CMake option and rebuild the library in function 'cv::xfeatures2d::SURF::create'\n"
     ]
    }
   ],
   "source": [
    "import cv2\n",
    "import numpy as np\n",
    "\n",
    "img = cv2.imread(\"./img/building.jpg\")\n",
    "gray = cv2.cvtColor(img, cv2.COLOR_BGR2GRAY)\n",
    "\n",
    "# SURF 추출기 생성 ( 경계:1000, 피라미드:3, 서술자확장:True, 방향적용:True)\n",
    "surf = cv2.xfeatures2d.SURF_create(1000, 3, extended=True, upright=True)\n",
    "# 키 포인트 검출 및 서술자 계산\n",
    "keypoints, desc = surf.detectAndCompute(gray, None)\n",
    "print(desc.shape, desc)\n",
    "# 키포인트 이미지에 그리기\n",
    "img_draw = cv2.drawKeypoints(img, keypoints, None, \\\n",
    "                flags=cv2.DRAW_MATCHES_FLAGS_DRAW_RICH_KEYPOINTS)\n",
    "\n",
    "cv2.imshow('SURF', img_draw)\n",
    "cv2.waitKey()\n",
    "cv2.destroyAllWindows()"
   ]
  },
  {
   "attachments": {
    "image.png": {
     "image/png": "[encoded data removed]"
    }
   },
   "cell_type": "markdown",
   "id": "e17a143c",
   "metadata": {},
   "source": [
    "# match : 특징벡터를 토대로 비슷한 지점들을 자신이 설정한 임계값을 기준으로 추출해서 연결해줌\n",
    "\n",
    "- 아래는 잘된 예시<br>\n",
    "[참고자료] https://drive.google.com/drive/folders/1-BWChMPiac8HeGWD4eM9w2LyRmHP2_2E\n",
    "<br>\n",
    "![image.png](attachment:image.png)\n",
    "<br> 정말 다양한 방식의 매칭이 가능"
   ]
  },
  {
   "cell_type": "code",
   "execution_count": null,
   "id": "5dc3c4db",
   "metadata": {},
   "outputs": [
    {
     "name": "stdout",
     "output_type": "stream",
     "text": [
      "matches:22/175, min:19.00, max:76.00, thresh:30.40\n"
     ]
    }
   ],
   "source": [
    "import cv2, numpy as np\n",
    "\n",
    "img1 = cv2.imread('./img/img2.jpg')\n",
    "img2 = cv2.imread('./img/img3.jpg')\n",
    "gray1 = cv2.cvtColor(img1, cv2.COLOR_BGR2GRAY)\n",
    "gray2 = cv2.cvtColor(img2, cv2.COLOR_BGR2GRAY)\n",
    "\n",
    "# ORB로 서술자 추출 ---①\n",
    "detector = cv2.ORB_create()\n",
    "kp1, desc1 = detector.detectAndCompute(gray1, None)\n",
    "kp2, desc2 = detector.detectAndCompute(gray2, None)\n",
    "# BF-Hamming으로 매칭 ---②\n",
    "matcher = cv2.BFMatcher(cv2.NORM_HAMMING, crossCheck=True)\n",
    "matches = matcher.match(desc1, desc2)\n",
    "\n",
    "# 매칭 결과를 거리기준 오름차순으로 정렬 ---③\n",
    "matches = sorted(matches, key=lambda x:x.distance)\n",
    "# 최소 거리 값과 최대 거리 값 확보 ---④\n",
    "min_dist, max_dist = matches[0].distance, matches[-1].distance\n",
    "# 최소 거리의 15% 지점을 임계점으로 설정 ---⑤\n",
    "ratio = 0.2\n",
    "good_thresh = (max_dist - min_dist) * ratio + min_dist\n",
    "# 임계점 보다 작은 매칭점만 좋은 매칭점으로 분류 ---⑥\n",
    "good_matches = [m for m in matches if m.distance < good_thresh]\n",
    "print('matches:%d/%d, min:%.2f, max:%.2f, thresh:%.2f' \\\n",
    "        %(len(good_matches),len(matches), min_dist, max_dist, good_thresh))\n",
    "# 좋은 매칭점만 그리기 ---⑦\n",
    "res = cv2.drawMatches(img1, kp1, img2, kp2, good_matches, None, \\\n",
    "                flags=cv2.DRAW_MATCHES_FLAGS_NOT_DRAW_SINGLE_POINTS)\n",
    "# 결과 출력\n",
    "cv2.imshow('Good Match', res)\n",
    "cv2.waitKey()\n",
    "cv2.destroyAllWindows()"
   ]
  },
  {
   "cell_type": "markdown",
   "id": "7a4f7a24",
   "metadata": {},
   "source": [
    "# 웹캠으로 사진 2장을 캡쳐한 후 매치하는 모듈"
   ]
  },
  {
   "cell_type": "code",
   "execution_count": 3,
   "id": "81010c1f",
   "metadata": {},
   "outputs": [
    {
     "name": "stdout",
     "output_type": "stream",
     "text": [
      "웹캠이 열렸습니다. '1'으로 첫 번째 사진, '2'로 두 번째 사진을 찍으세요. 'q'로 종료.\n",
      "사진 1 캡처 완료!\n",
      "사진 2 캡처 완료!\n"
     ]
    }
   ],
   "source": [
    "import cv2\n",
    "\n",
    "def capture_image(cap, window_name):\n",
    "    \"\"\"웹캠에서 이미지를 캡처하는 함수\"\"\"\n",
    "    while True:\n",
    "        ret, frame = cap.read()\n",
    "        if not ret:\n",
    "            print(\"웹캠 프레임을 읽을 수 없습니다.\")\n",
    "            return None\n",
    "        \n",
    "        cv2.imshow(window_name, frame)\n",
    "        \n",
    "        key = cv2.waitKey(1) & 0xFF\n",
    "        if key == ord('q'):  # 'q'로 종료\n",
    "            return None\n",
    "        elif key == ord('1') or key == ord('2'):  # '1' 또는 '2'로 캡처\n",
    "            print(f\"사진 {key - ord('0')} 캡처 완료!\")\n",
    "            return frame\n",
    "\n",
    "def match_images(img1, img2):\n",
    "    \"\"\"두 이미지 간 특징점 매칭 수행\"\"\"\n",
    "    # 그레이스케일 변환\n",
    "    gray1 = cv2.cvtColor(img1, cv2.COLOR_BGR2GRAY)\n",
    "    gray2 = cv2.cvtColor(img2, cv2.COLOR_BGR2GRAY)\n",
    "    \n",
    "    # ORB 검출기 생성\n",
    "    orb = cv2.ORB_create()\n",
    "    \n",
    "    # 키포인트와 디스크립터 추출\n",
    "    kp1, des1 = orb.detectAndCompute(gray1, None)\n",
    "    kp2, des2 = orb.detectAndCompute(gray2, None)\n",
    "    \n",
    "    # BFMatcher로 매칭 (Brute Force Matcher)\n",
    "    bf = cv2.BFMatcher(cv2.NORM_HAMMING, crossCheck=True)\n",
    "    matches = bf.match(des1, des2)\n",
    "    \n",
    "    # 매칭 결과 정렬 (거리 기준)\n",
    "    matches = sorted(matches, key=lambda x: x.distance)\n",
    "    \n",
    "    # 상위 10% 매칭만 그리기 (조정 가능)\n",
    "    good_matches = matches[:int(len(matches) * 0.2)]\n",
    "    \n",
    "    # 매칭 결과 이미지 생성\n",
    "    result = cv2.drawMatches(img1, kp1, img2, kp2, good_matches, None, flags=cv2.DrawMatchesFlags_NOT_DRAW_SINGLE_POINTS)\n",
    "    \n",
    "    return result\n",
    "\n",
    "if __name__ == \"__main__\":\n",
    "    # 웹캠 열기 (0: 기본 웹캠)\n",
    "    cap = cv2.VideoCapture(0)\n",
    "    \n",
    "    if not cap.isOpened():\n",
    "        print(\"웹캠을 열 수 없습니다.\")\n",
    "        exit()\n",
    "    \n",
    "    print(\"웹캠이 열렸습니다. '1'으로 첫 번째 사진, '2'로 두 번째 사진을 찍으세요. 'q'로 종료.\")\n",
    "    \n",
    "    # 첫 번째 이미지 캡처\n",
    "    img1 = capture_image(cap, \"press_no1_to_capture\")\n",
    "    if img1 is None:\n",
    "        cap.release()\n",
    "        cv2.destroyAllWindows()\n",
    "        exit()\n",
    "    \n",
    "    # 두 번째 이미지 캡처\n",
    "    img2 = capture_image(cap, \"press_no2_to_capture\")\n",
    "    if img2 is None:\n",
    "        cap.release()\n",
    "        cv2.destroyAllWindows()\n",
    "        exit()\n",
    "    \n",
    "    # 매칭 수행 및 결과 표시\n",
    "    result = match_images(img1, img2)\n",
    "    cv2.imshow(\"match\", result)\n",
    "    \n",
    "    # 결과 창에서 'q' 누를 때까지 대기\n",
    "    while True:\n",
    "        if cv2.waitKey(1) & 0xFF == ord('q'):\n",
    "            break\n",
    "    \n",
    "    # 정리\n",
    "    cap.release()\n",
    "    cv2.destroyAllWindows()"
   ]
  },
  {
   "cell_type": "markdown",
   "id": "00d96b12",
   "metadata": {},
   "source": [
    "## 아래 구글 드라이브에 있는 수많은 기능들을 잘 활용해 어떤 기술을 사용할 지 결정 필요 <br>\n",
    "https://drive.google.com/drive/folders/1-BWChMPiac8HeGWD4eM9w2LyRmHP2_2E"
   ]
  }
 ],
 "metadata": {
  "kernelspec": {
   "display_name": "cv",
   "language": "python",
   "name": "python3"
  },
  "language_info": {
   "codemirror_mode": {
    "name": "ipython",
    "version": 3
   },
   "file_extension": ".py",
   "mimetype": "text/x-python",
   "name": "python",
   "nbconvert_exporter": "python",
   "pygments_lexer": "ipython3",
   "version": "3.10.18"
  }
 },
 "nbformat": 4,
 "nbformat_minor": 5
}
