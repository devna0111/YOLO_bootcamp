{
 "cells": [
  {
   "cell_type": "code",
   "execution_count": 2,
   "id": "266f86d3",
   "metadata": {},
   "outputs": [
    {
     "name": "stdout",
     "output_type": "stream",
     "text": [
      "hello\n"
     ]
    }
   ],
   "source": [
    "with open('test.txt', 'r', encoding='utf-8') as f :\n",
    "    data = f.read()\n",
    "print(data)"
   ]
  },
  {
   "cell_type": "code",
   "execution_count": 3,
   "id": "b5d51bee",
   "metadata": {},
   "outputs": [
    {
     "name": "stdout",
     "output_type": "stream",
     "text": [
      "Help on function open in module _io:\n",
      "\n",
      "open(\n",
      "    file,\n",
      "    mode='r',\n",
      "    buffering=-1,\n",
      "    encoding=None,\n",
      "    errors=None,\n",
      "    newline=None,\n",
      "    closefd=True,\n",
      "    opener=None\n",
      ")\n",
      "    Open file and return a stream.  Raise OSError upon failure.\n",
      "\n",
      "    file is either a text or byte string giving the name (and the path\n",
      "    if the file isn't in the current working directory) of the file to\n",
      "    be opened or an integer file descriptor of the file to be\n",
      "    wrapped. (If a file descriptor is given, it is closed when the\n",
      "    returned I/O object is closed, unless closefd is set to False.)\n",
      "\n",
      "    mode is an optional string that specifies the mode in which the file\n",
      "    is opened. It defaults to 'r' which means open for reading in text\n",
      "    mode.  Other common values are 'w' for writing (truncating the file if\n",
      "    it already exists), 'x' for creating and writing to a new file, and\n",
      "    'a' for appending (which on some Unix systems, means that all writes\n",
      "    append to the end of the file regardless of the current seek position).\n",
      "    In text mode, if encoding is not specified the encoding used is platform\n",
      "    dependent: locale.getencoding() is called to get the current locale encoding.\n",
      "    (For reading and writing raw bytes use binary mode and leave encoding\n",
      "    unspecified.) The available modes are:\n",
      "\n",
      "    ========= ===============================================================\n",
      "    Character Meaning\n",
      "    --------- ---------------------------------------------------------------\n",
      "    'r'       open for reading (default)\n",
      "    'w'       open for writing, truncating the file first\n",
      "    'x'       create a new file and open it for writing\n",
      "    'a'       open for writing, appending to the end of the file if it exists\n",
      "    'b'       binary mode\n",
      "    't'       text mode (default)\n",
      "    '+'       open a disk file for updating (reading and writing)\n",
      "    ========= ===============================================================\n",
      "\n",
      "    The default mode is 'rt' (open for reading text). For binary random\n",
      "    access, the mode 'w+b' opens and truncates the file to 0 bytes, while\n",
      "    'r+b' opens the file without truncation. The 'x' mode implies 'w' and\n",
      "    raises an `FileExistsError` if the file already exists.\n",
      "\n",
      "    Python distinguishes between files opened in binary and text modes,\n",
      "    even when the underlying operating system doesn't. Files opened in\n",
      "    binary mode (appending 'b' to the mode argument) return contents as\n",
      "    bytes objects without any decoding. In text mode (the default, or when\n",
      "    't' is appended to the mode argument), the contents of the file are\n",
      "    returned as strings, the bytes having been first decoded using a\n",
      "    platform-dependent encoding or using the specified encoding if given.\n",
      "\n",
      "    buffering is an optional integer used to set the buffering policy.\n",
      "    Pass 0 to switch buffering off (only allowed in binary mode), 1 to select\n",
      "    line buffering (only usable in text mode), and an integer > 1 to indicate\n",
      "    the size of a fixed-size chunk buffer.  When no buffering argument is\n",
      "    given, the default buffering policy works as follows:\n",
      "\n",
      "    * Binary files are buffered in fixed-size chunks; the size of the buffer\n",
      "      is chosen using a heuristic trying to determine the underlying device's\n",
      "      \"block size\" and falling back on `io.DEFAULT_BUFFER_SIZE`.\n",
      "      On many systems, the buffer will typically be 4096 or 8192 bytes long.\n",
      "\n",
      "    * \"Interactive\" text files (files for which isatty() returns True)\n",
      "      use line buffering.  Other text files use the policy described above\n",
      "      for binary files.\n",
      "\n",
      "    encoding is the name of the encoding used to decode or encode the\n",
      "    file. This should only be used in text mode. The default encoding is\n",
      "    platform dependent, but any encoding supported by Python can be\n",
      "    passed.  See the codecs module for the list of supported encodings.\n",
      "\n",
      "    errors is an optional string that specifies how encoding errors are to\n",
      "    be handled---this argument should not be used in binary mode. Pass\n",
      "    'strict' to raise a ValueError exception if there is an encoding error\n",
      "    (the default of None has the same effect), or pass 'ignore' to ignore\n",
      "    errors. (Note that ignoring encoding errors can lead to data loss.)\n",
      "    See the documentation for codecs.register or run 'help(codecs.Codec)'\n",
      "    for a list of the permitted encoding error strings.\n",
      "\n",
      "    newline controls how universal newlines works (it only applies to text\n",
      "    mode). It can be None, '', '\\n', '\\r', and '\\r\\n'.  It works as\n",
      "    follows:\n",
      "\n",
      "    * On input, if newline is None, universal newlines mode is\n",
      "      enabled. Lines in the input can end in '\\n', '\\r', or '\\r\\n', and\n",
      "      these are translated into '\\n' before being returned to the\n",
      "      caller. If it is '', universal newline mode is enabled, but line\n",
      "      endings are returned to the caller untranslated. If it has any of\n",
      "      the other legal values, input lines are only terminated by the given\n",
      "      string, and the line ending is returned to the caller untranslated.\n",
      "\n",
      "    * On output, if newline is None, any '\\n' characters written are\n",
      "      translated to the system default line separator, os.linesep. If\n",
      "      newline is '' or '\\n', no translation takes place. If newline is any\n",
      "      of the other legal values, any '\\n' characters written are translated\n",
      "      to the given string.\n",
      "\n",
      "    If closefd is False, the underlying file descriptor will be kept open\n",
      "    when the file is closed. This does not work when a file name is given\n",
      "    and must be True in that case.\n",
      "\n",
      "    A custom opener can be used by passing a callable as *opener*. The\n",
      "    underlying file descriptor for the file object is then obtained by\n",
      "    calling *opener* with (*file*, *flags*). *opener* must return an open\n",
      "    file descriptor (passing os.open as *opener* results in functionality\n",
      "    similar to passing None).\n",
      "\n",
      "    open() returns a file object whose type depends on the mode, and\n",
      "    through which the standard file operations such as reading and writing\n",
      "    are performed. When open() is used to open a file in a text mode ('w',\n",
      "    'r', 'wt', 'rt', etc.), it returns a TextIOWrapper. When used to open\n",
      "    a file in a binary mode, the returned class varies: in read binary\n",
      "    mode, it returns a BufferedReader; in write binary and append binary\n",
      "    modes, it returns a BufferedWriter, and in read/write mode, it returns\n",
      "    a BufferedRandom.\n",
      "\n",
      "    It is also possible to use a string or bytearray as a file for both\n",
      "    reading and writing. For strings StringIO can be used like a file\n",
      "    opened in a text mode, and for bytes a BytesIO can be used like a file\n",
      "    opened in a binary mode.\n",
      "\n"
     ]
    }
   ],
   "source": [
    "help(open)"
   ]
  },
  {
   "cell_type": "code",
   "execution_count": 4,
   "id": "d9d3f755",
   "metadata": {},
   "outputs": [
    {
     "name": "stdout",
     "output_type": "stream",
     "text": [
      "hello\n",
      "오늘은 집에 가서 뭘 먹을까\n"
     ]
    }
   ],
   "source": [
    "with open('test.txt','a',encoding='utf-8') as f :\n",
    "    f.write('\\n오늘은 집에 가서 뭘 먹을까')\n",
    "\n",
    "with open('test.txt','r',encoding='utf-8') as f :\n",
    "    print(f.read())"
   ]
  },
  {
   "cell_type": "code",
   "execution_count": 1,
   "id": "3e0a8095",
   "metadata": {},
   "outputs": [
    {
     "name": "stdout",
     "output_type": "stream",
     "text": [
      "<__main__.Car object at 0x0000021F9115FB60>\n",
      "2334601378656\n",
      "<class '__main__.Car'>\n",
      "차 굴러갑니다\n"
     ]
    }
   ],
   "source": [
    "class Car :\n",
    "    def roll(self) :\n",
    "        print(self)\n",
    "        print(id(self))\n",
    "        print(type(self))\n",
    "        print('차 굴러갑니다')\n",
    "\n",
    "ma_car = Car()\n",
    "ma_car.roll()"
   ]
  },
  {
   "cell_type": "code",
   "execution_count": 4,
   "id": "d9142844",
   "metadata": {},
   "outputs": [
    {
     "name": "stdout",
     "output_type": "stream",
     "text": [
      "모닝 굴러갑니다\n"
     ]
    }
   ],
   "source": [
    "class Car :\n",
    "    def roll(self, model) :\n",
    "        print(f'{model} 굴러갑니다')\n",
    "\n",
    "ma_car = Car()\n",
    "ma_car.roll('모닝')"
   ]
  },
  {
   "cell_type": "code",
   "execution_count": 7,
   "id": "22be7bcb",
   "metadata": {},
   "outputs": [],
   "source": [
    "class Car :\n",
    "    def __init__(self, color, model) :\n",
    "        self.color = color\n",
    "        self.model = model\n",
    "\n",
    "    def roll(self) :\n",
    "        return f\"{self.color}색 {self.model} 굴러가요\""
   ]
  },
  {
   "cell_type": "code",
   "execution_count": 8,
   "id": "05f6d228",
   "metadata": {},
   "outputs": [
    {
     "data": {
      "text/plain": [
       "'검정색 아반떼 굴러가요'"
      ]
     },
     "execution_count": 8,
     "metadata": {},
     "output_type": "execute_result"
    }
   ],
   "source": [
    "ma_car = Car('검정','아반떼')\n",
    "ma_car.roll()"
   ]
  },
  {
   "cell_type": "code",
   "execution_count": 9,
   "id": "16878066",
   "metadata": {},
   "outputs": [
    {
     "data": {
      "text/plain": [
       "'빨강색 아반떼 굴러가요'"
      ]
     },
     "execution_count": 9,
     "metadata": {},
     "output_type": "execute_result"
    }
   ],
   "source": [
    "ma_car.color = '빨강'\n",
    "ma_car.roll()"
   ]
  },
  {
   "cell_type": "code",
   "execution_count": 11,
   "id": "871357b0",
   "metadata": {},
   "outputs": [
    {
     "data": {
      "text/plain": [
       "'폐차'"
      ]
     },
     "execution_count": 11,
     "metadata": {},
     "output_type": "execute_result"
    }
   ],
   "source": [
    "ma_car.state = '폐차'\n",
    "ma_car.state"
   ]
  },
  {
   "cell_type": "code",
   "execution_count": 14,
   "id": "b50ab323",
   "metadata": {},
   "outputs": [
    {
     "name": "stdout",
     "output_type": "stream",
     "text": [
      "Car 객체 생성 : 빨강색 모닝(휘발유)\n"
     ]
    },
    {
     "data": {
      "text/plain": [
       "'모닝 굴러가요'"
      ]
     },
     "execution_count": 14,
     "metadata": {},
     "output_type": "execute_result"
    }
   ],
   "source": [
    "class Car :\n",
    "    def __init__(self, color, model, fuel_type) :\n",
    "        self.color = color\n",
    "        self.model = model\n",
    "        self.fuel_type = fuel_type\n",
    "        self.state = False\n",
    "        print(f\"Car 객체 생성 : {self.color}색 {self.model}({self.fuel_type})\")\n",
    "    def engine_start(self) :\n",
    "        if self.state == False :\n",
    "            self.state = True\n",
    "            return f\"{self.fuel_type} 으로 굴러가는 자동차 엔진 시동\"\n",
    "        else :\n",
    "            return \"이미 시동중\"\n",
    "    def roll(self) :\n",
    "        if self.state == True :\n",
    "            return f\"{self.model} 굴러가요\"\n",
    "        else :\n",
    "            return \"시동부터 거세요\"\n",
    "        \n",
    "ma_car = Car('빨강','모닝','휘발유')\n",
    "ma_car.engine_start()\n",
    "ma_car.roll()"
   ]
  },
  {
   "cell_type": "markdown",
   "id": "6ec81961",
   "metadata": {},
   "source": [
    "# 클래스 관계\n",
    "## 사용 관계\n",
    "- \"홍길동\"이 BMW x3 검정색 차를 타고 가는 상황"
   ]
  },
  {
   "cell_type": "code",
   "execution_count": 42,
   "id": "d6c195d6",
   "metadata": {},
   "outputs": [],
   "source": [
    "class Person :\n",
    "    def __init__(self, name, car) :\n",
    "        self.name = name\n",
    "        self.car = car\n",
    "    def __str__(self) :\n",
    "        return f\"{self.name}\""
   ]
  },
  {
   "cell_type": "code",
   "execution_count": 43,
   "id": "37eaa6c4",
   "metadata": {},
   "outputs": [
    {
     "name": "stdout",
     "output_type": "stream",
     "text": [
      "홍길동\n"
     ]
    }
   ],
   "source": [
    "person = Person('홍길동','BMW x3 검정색 차')\n",
    "print(person)"
   ]
  },
  {
   "cell_type": "code",
   "execution_count": 44,
   "id": "f7ff0272",
   "metadata": {},
   "outputs": [],
   "source": [
    "class Car :\n",
    "    def __init__(self, color, model, tire, engine) :\n",
    "        self.color = color\n",
    "        self.model = model\n",
    "        self.tire = tire\n",
    "        self.engine = engine\n",
    "    def person_ride(self,person:Person) :\n",
    "        self.person=person\n",
    "        return f\"{self.person} {self.color}색 {self.model}({self.tire}를 장착한, {self.engine}의 차량) 탑승\""
   ]
  },
  {
   "cell_type": "code",
   "execution_count": 46,
   "id": "6fd0da02",
   "metadata": {},
   "outputs": [
    {
     "name": "stdout",
     "output_type": "stream",
     "text": [
      "홍길동 검정색 BMW-x3(금호타이어를 장착한, v6의 차량) 탑승\n"
     ]
    }
   ],
   "source": [
    "car=Car('검정','BMW-x3','금호타이어','v6')\n",
    "print(car.person_ride(person))"
   ]
  },
  {
   "cell_type": "markdown",
   "id": "84e01eb5",
   "metadata": {},
   "source": [
    "## 상속 관계\n",
    "- 차(부모) -> 버스(자식)\n",
    "- 버스 == 차 // 차 != 버스."
   ]
  },
  {
   "cell_type": "code",
   "execution_count": 47,
   "id": "41efbc09",
   "metadata": {},
   "outputs": [],
   "source": [
    "class Bus(Car) :\n",
    "    def __init__(self, color, line) :\n",
    "        self.model = '버스'\n",
    "        self.engine = '버스엔진'\n",
    "        self.tire = '버스타이어'\n",
    "        self.color = color\n",
    "        self.line = line"
   ]
  },
  {
   "cell_type": "code",
   "execution_count": 50,
   "id": "369fb473",
   "metadata": {},
   "outputs": [],
   "source": [
    "bus_7712 = Bus('연두','시내선')"
   ]
  },
  {
   "cell_type": "code",
   "execution_count": 51,
   "id": "f2ec6b72",
   "metadata": {},
   "outputs": [
    {
     "data": {
      "text/plain": [
       "'홍길동 연두색 버스(버스타이어를 장착한, 버스엔진의 차량) 탑승'"
      ]
     },
     "execution_count": 51,
     "metadata": {},
     "output_type": "execute_result"
    }
   ],
   "source": [
    "bus_7712.person_ride(person)"
   ]
  },
  {
   "cell_type": "markdown",
   "id": "d2584e26",
   "metadata": {},
   "source": [
    "## 포함 관계\n",
    "- 차 안에 타이어, 엔진을 포함한다."
   ]
  },
  {
   "cell_type": "code",
   "execution_count": 63,
   "id": "d4f4d63f",
   "metadata": {},
   "outputs": [],
   "source": [
    "class Engine :\n",
    "    def start(self) :\n",
    "        print(\"시동걸림\")\n",
    "    def end(self) :\n",
    "        print('시동꺼짐')"
   ]
  },
  {
   "cell_type": "code",
   "execution_count": 64,
   "id": "68d1df1c",
   "metadata": {},
   "outputs": [],
   "source": [
    "class Car :\n",
    "    def __init__(self) :\n",
    "        self.engine = Engine()\n",
    "    def drive(self) :\n",
    "        self.engine.start()\n",
    "        print(\"운행중\")\n",
    "    def car_off(self) :\n",
    "        self.engine.end()\n",
    "        print(\"운행 끝\")"
   ]
  },
  {
   "cell_type": "code",
   "execution_count": 66,
   "id": "a8d77857",
   "metadata": {},
   "outputs": [
    {
     "name": "stdout",
     "output_type": "stream",
     "text": [
      "시동걸림\n",
      "운행중\n",
      "시동꺼짐\n",
      "운행 끝\n"
     ]
    }
   ],
   "source": [
    "my_car = Car()\n",
    "my_car.drive()\n",
    "my_car.car_off()"
   ]
  },
  {
   "cell_type": "code",
   "execution_count": 71,
   "id": "1b142d55",
   "metadata": {},
   "outputs": [],
   "source": [
    "class Animal :\n",
    "    def speak(self) :\n",
    "        raise NotImplementedError(\"Subclasses must implement this method\")"
   ]
  },
  {
   "cell_type": "code",
   "execution_count": 76,
   "id": "a4ea53b0",
   "metadata": {},
   "outputs": [],
   "source": [
    "class Dog(Animal) :\n",
    "    def speak(self):\n",
    "        return \"멍멍\""
   ]
  },
  {
   "cell_type": "code",
   "execution_count": 77,
   "id": "aeef2734",
   "metadata": {},
   "outputs": [],
   "source": [
    "my_pet = Dog()"
   ]
  },
  {
   "cell_type": "code",
   "execution_count": 78,
   "id": "d94bdc8a",
   "metadata": {},
   "outputs": [
    {
     "data": {
      "text/plain": [
       "'멍멍'"
      ]
     },
     "execution_count": 78,
     "metadata": {},
     "output_type": "execute_result"
    }
   ],
   "source": [
    "my_pet.speak()"
   ]
  },
  {
   "cell_type": "code",
   "execution_count": 79,
   "id": "98c25549",
   "metadata": {},
   "outputs": [],
   "source": [
    "class Cat(Animal) :\n",
    "    def speak(self) :\n",
    "        return \"야옹\""
   ]
  },
  {
   "cell_type": "code",
   "execution_count": 80,
   "id": "928bae0f",
   "metadata": {},
   "outputs": [
    {
     "data": {
      "text/plain": [
       "'야옹'"
      ]
     },
     "execution_count": 80,
     "metadata": {},
     "output_type": "execute_result"
    }
   ],
   "source": [
    "my_cat = Cat()\n",
    "my_cat.speak()"
   ]
  },
  {
   "cell_type": "code",
   "execution_count": null,
   "id": "6fb155e6",
   "metadata": {},
   "outputs": [],
   "source": [
    "class Slave :\n",
    "    budget = 50000\n",
    "    def __init__(self, name, money) :\n",
    "        self.name = name\n",
    "        self.money = money\n",
    "    \n",
    "    def work(self) :\n",
    "        i = 0\n",
    "        while i < 5 :\n",
    "            user = input('가나다라마바사 따라 치세요')\n",
    "            if user == '가나다라마바사' :\n",
    "                i +=1\n",
    "            else :\n",
    "                print(\"똑바로 치세요^^\")\n",
    "        self.money += 10000\n",
    "        print(\"돈 얼마나 벌었을까요?^^\")\n",
    "    \n",
    "    def fire(self) :\n",
    "        if self.money > Slave.budget :\n",
    "            return \"축하합니다 은퇴하셔도 됩니다!\"\n",
    "        else :\n",
    "            self.money -= 10000\n",
    "            print(\"잔액 체크 비용 10000원입니다\")\n",
    "            print(f\"당신의 잔액은 {self.money}원 입니다\")"
   ]
  },
  {
   "cell_type": "code",
   "execution_count": null,
   "id": "e9cf91c3",
   "metadata": {},
   "outputs": [],
   "source": [
    "def main() :\n",
    "    name = input('당신의 이름을 입력하세요')\n",
    "    while True :\n",
    "        player = Slave(name, 0)\n",
    "        print(f'당신은 {player.budget}을 벌 때 까지 일하셔야합니다')\n",
    "        user_choice = input('1 : 일하기 \\t 2 : 잔액체크하기')\n",
    "        if user_choice == '끝' :\n",
    "            break\n",
    "        elif user_choice == \"1\" :\n",
    "            player.work()\n",
    "        elif user_choice == \"2\" :\n",
    "            player.fire()\n",
    "            if player.money > player.budget :\n",
    "                break"
   ]
  },
  {
   "cell_type": "code",
   "execution_count": 89,
   "id": "7248462e",
   "metadata": {},
   "outputs": [
    {
     "name": "stdout",
     "output_type": "stream",
     "text": [
      "당신은 50000을 벌 때 까지 일하셔야합니다\n",
      "똑바로 치세요^^\n",
      "똑바로 치세요^^\n",
      "똑바로 치세요^^\n",
      "똑바로 치세요^^\n",
      "똑바로 치세요^^\n",
      "똑바로 치세요^^\n",
      "똑바로 치세요^^\n",
      "똑바로 치세요^^\n",
      "똑바로 치세요^^\n",
      "똑바로 치세요^^\n",
      "똑바로 치세요^^\n",
      "돈 얼마나 벌었을까요?^^\n",
      "당신은 50000을 벌 때 까지 일하셔야합니다\n",
      "돈 얼마나 벌었을까요?^^\n",
      "당신은 50000을 벌 때 까지 일하셔야합니다\n"
     ]
    }
   ],
   "source": [
    "if __name__ == \"__main__\" :\n",
    "    main()"
   ]
  },
  {
   "cell_type": "code",
   "execution_count": null,
   "id": "8e5edcd8",
   "metadata": {},
   "outputs": [],
   "source": []
  }
 ],
 "metadata": {
  "kernelspec": {
   "display_name": "base",
   "language": "python",
   "name": "python3"
  },
  "language_info": {
   "codemirror_mode": {
    "name": "ipython",
    "version": 3
   },
   "file_extension": ".py",
   "mimetype": "text/x-python",
   "name": "python",
   "nbconvert_exporter": "python",
   "pygments_lexer": "ipython3",
   "version": "3.13.5"
  }
 },
 "nbformat": 4,
 "nbformat_minor": 5
}
