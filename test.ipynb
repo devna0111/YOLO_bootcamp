{
 "cells": [
  {
   "cell_type": "code",
   "execution_count": 1,
   "id": "09f4063c",
   "metadata": {},
   "outputs": [
    {
     "name": "stdout",
     "output_type": "stream",
     "text": [
      "hi\n"
     ]
    }
   ],
   "source": [
    "print('hi')"
   ]
  },
  {
   "cell_type": "code",
   "execution_count": 2,
   "id": "34214460",
   "metadata": {},
   "outputs": [
    {
     "name": "stdout",
     "output_type": "stream",
     "text": [
      "hihihi"
     ]
    }
   ],
   "source": [
    "for _ in range(3) :\n",
    "    print('hi', end=\"\")"
   ]
  },
  {
   "cell_type": "code",
   "execution_count": 3,
   "id": "18c2a5eb",
   "metadata": {},
   "outputs": [
    {
     "data": {
      "text/plain": [
       "str"
      ]
     },
     "execution_count": 3,
     "metadata": {},
     "output_type": "execute_result"
    }
   ],
   "source": [
    "type(\"hi\")"
   ]
  },
  {
   "cell_type": "code",
   "execution_count": 5,
   "id": "a82efb72",
   "metadata": {},
   "outputs": [],
   "source": [
    "# help(str)"
   ]
  },
  {
   "cell_type": "code",
   "execution_count": 6,
   "id": "a7a2dd64",
   "metadata": {},
   "outputs": [],
   "source": [
    "# iterable\n",
    "# [] {} () str"
   ]
  },
  {
   "cell_type": "code",
   "execution_count": 7,
   "id": "4d156f7f",
   "metadata": {},
   "outputs": [],
   "source": [
    "# for i in iterable"
   ]
  },
  {
   "cell_type": "code",
   "execution_count": 8,
   "id": "8bf8703b",
   "metadata": {},
   "outputs": [
    {
     "name": "stdout",
     "output_type": "stream",
     "text": [
      "1 1\n",
      "2 hong\n",
      "3 [1, 2, 3]\n"
     ]
    }
   ],
   "source": [
    "data = {1:1, 2:'hong',\"3\":[1,2,3]}\n",
    "for key,val in data.items() :\n",
    "    print(key, val)"
   ]
  },
  {
   "cell_type": "code",
   "execution_count": 10,
   "id": "c800d4e3",
   "metadata": {},
   "outputs": [
    {
     "name": "stdout",
     "output_type": "stream",
     "text": [
      "140736402732072\n",
      "140736402732072\n",
      "140736402732072\n"
     ]
    }
   ],
   "source": [
    "a=b=c=5\n",
    "print(id(a))\n",
    "print(id(b))\n",
    "print(id(c))"
   ]
  },
  {
   "cell_type": "code",
   "execution_count": 12,
   "id": "3a1dd14d",
   "metadata": {},
   "outputs": [
    {
     "name": "stdout",
     "output_type": "stream",
     "text": [
      "140736402731944\n",
      "140736402732072\n",
      "140736402732072\n",
      "140736402732072\n"
     ]
    }
   ],
   "source": [
    "a=1\n",
    "print(id(a))\n",
    "print(id(b))\n",
    "print(id(c))\n",
    "print(id(5))"
   ]
  },
  {
   "cell_type": "code",
   "execution_count": null,
   "id": "1cb7d667",
   "metadata": {},
   "outputs": [],
   "source": []
  }
 ],
 "metadata": {
  "kernelspec": {
   "display_name": "base",
   "language": "python",
   "name": "python3"
  },
  "language_info": {
   "codemirror_mode": {
    "name": "ipython",
    "version": 3
   },
   "file_extension": ".py",
   "mimetype": "text/x-python",
   "name": "python",
   "nbconvert_exporter": "python",
   "pygments_lexer": "ipython3",
   "version": "3.13.5"
  }
 },
 "nbformat": 4,
 "nbformat_minor": 5
}
