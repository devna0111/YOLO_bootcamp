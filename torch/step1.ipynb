{
 "cells": [
  {
   "cell_type": "code",
   "execution_count": 2,
   "id": "5ab119de",
   "metadata": {},
   "outputs": [
    {
     "name": "stdout",
     "output_type": "stream",
     "text": [
      "2.8.0+cu126\n",
      "True\n"
     ]
    }
   ],
   "source": [
    "import torch\n",
    "\n",
    "print(torch.__version__)\n",
    "print(torch.cuda.is_available())"
   ]
  },
  {
   "cell_type": "code",
   "execution_count": 3,
   "id": "a0d0fc44",
   "metadata": {},
   "outputs": [
    {
     "name": "stdout",
     "output_type": "stream",
     "text": [
      "tensor([2., 2.])\n"
     ]
    }
   ],
   "source": [
    "x = torch.tensor([1.0, 2.], requires_grad=True) # requires_grad : 기울기를 갖는 지 아닌 지 \n",
    "y = x*2 # 연산 정의와 동시에 실행\n",
    "z = y.sum() # 계산 그래프가 동적으로 생성됨\n",
    "z.backward() # 역전파로 기울기 계산\n",
    "print(x.grad) # 기울기 출력"
   ]
  },
  {
   "cell_type": "code",
   "execution_count": 4,
   "id": "39934e14",
   "metadata": {},
   "outputs": [
    {
     "data": {
      "text/plain": [
       "tensor(6., grad_fn=<SumBackward0>)"
      ]
     },
     "execution_count": 4,
     "metadata": {},
     "output_type": "execute_result"
    }
   ],
   "source": [
    "z"
   ]
  },
  {
   "cell_type": "code",
   "execution_count": 5,
   "id": "63ce21d0",
   "metadata": {},
   "outputs": [
    {
     "data": {
      "text/plain": [
       "tensor([[ 1, -1],\n",
       "        [-1,  1]])"
      ]
     },
     "execution_count": 5,
     "metadata": {},
     "output_type": "execute_result"
    }
   ],
   "source": [
    "x = torch.tensor([[1, -1],\n",
    "                  [-1,1]])\n",
    "x"
   ]
  },
  {
   "cell_type": "code",
   "execution_count": 6,
   "id": "72f90732",
   "metadata": {},
   "outputs": [
    {
     "name": "stdout",
     "output_type": "stream",
     "text": [
      "tensor([1, 2, 3])\n",
      "tensor([[1., 2., 3.],\n",
      "        [4., 5., 6.]])\n",
      "tensor([1, 2, 3])\n",
      "tensor([1., 2., 3.])\n"
     ]
    }
   ],
   "source": [
    "print(torch.tensor([1,2,3])) # dtype = Long\n",
    "print(torch.Tensor([[1,2,3], # torch.Tensor(array) dtype = Float\n",
    "                    [4,5,6]])) # dtype = Float\n",
    "print(torch.LongTensor([1,2,3])) # dtype = Long\n",
    "print(torch.FloatTensor([1,2,3])) # dtype = Float"
   ]
  },
  {
   "cell_type": "code",
   "execution_count": 8,
   "id": "2b8717a5",
   "metadata": {},
   "outputs": [
    {
     "data": {
      "text/plain": [
       "torch.Size([1, 2])"
      ]
     },
     "execution_count": 8,
     "metadata": {},
     "output_type": "execute_result"
    }
   ],
   "source": [
    "tensor = torch.rand(1,2) # 1행 2열\n",
    "tensor.shape"
   ]
  },
  {
   "cell_type": "code",
   "execution_count": 11,
   "id": "c284797e",
   "metadata": {},
   "outputs": [
    {
     "data": {
      "text/plain": [
       "(torch.float32, device(type='cpu'))"
      ]
     },
     "execution_count": 11,
     "metadata": {},
     "output_type": "execute_result"
    }
   ],
   "source": [
    "tensor.dtype, tensor.device"
   ]
  },
  {
   "cell_type": "code",
   "execution_count": 17,
   "id": "b35e5ebf",
   "metadata": {},
   "outputs": [
    {
     "name": "stdout",
     "output_type": "stream",
     "text": [
      "True\n"
     ]
    },
    {
     "data": {
      "text/plain": [
       "'NVIDIA GeForce GTX 1060 3GB'"
      ]
     },
     "execution_count": 17,
     "metadata": {},
     "output_type": "execute_result"
    }
   ],
   "source": [
    "print(torch.cuda.is_available())\n",
    "torch.cuda.get_device_name()"
   ]
  },
  {
   "cell_type": "code",
   "execution_count": 18,
   "id": "58857b4c",
   "metadata": {},
   "outputs": [
    {
     "name": "stdout",
     "output_type": "stream",
     "text": [
      "tensor([[0.9417],\n",
      "        [0.6667]])\n",
      "torch.Size([2, 1])\n"
     ]
    }
   ],
   "source": [
    "tensor = tensor.reshape(2,1)\n",
    "print(tensor)\n",
    "print(tensor.shape)"
   ]
  },
  {
   "cell_type": "code",
   "execution_count": null,
   "id": "af73fac7",
   "metadata": {},
   "outputs": [
    {
     "data": {
      "text/plain": [
       "(tensor(1.6084), tensor(0.8042), tensor(0.9417), tensor(0.6667))"
      ]
     },
     "execution_count": 22,
     "metadata": {},
     "output_type": "execute_result"
    }
   ],
   "source": [
    "tensor.sum(), tensor.mean(), tensor.max(), tensor.min() # numpy array 연관 함수 대다수 사용 가능"
   ]
  },
  {
   "cell_type": "code",
   "execution_count": null,
   "id": "8b5ef044",
   "metadata": {},
   "outputs": [
    {
     "name": "stdout",
     "output_type": "stream",
     "text": [
      "tensor([[0.5839, 0.5495, 0.0300],\n",
      "        [0.1508, 0.9572, 0.1063],\n",
      "        [0.2681, 0.1463, 0.5376]])\n",
      "torch.float32\n",
      "====== dtype 설정 시 ======\n",
      "tensor([[0.3638, 0.9418, 0.7947],\n",
      "        [0.8631, 0.9753, 0.4068],\n",
      "        [0.1028, 0.6906, 0.9580]])\n",
      "torch.float32\n",
      "======================================================\n",
      "dtype을 설정하지 않고 실수를 사용하면 기본값이 float32\n",
      "tensor([1.0000e-05])\n",
      "torch.float32\n",
      "torch.rand 기본 값은 소수점 넷째자리까지\n",
      "======================================================\n",
      "tensor([1.0000e-39])\n",
      "torch.float32\n"
     ]
    }
   ],
   "source": [
    "tensor = torch.rand((3,3))\n",
    "print(tensor)\n",
    "print(tensor.dtype)\n",
    "print(\"====== dtype 설정 시 ======\")\n",
    "tensor = torch.rand((3,3), dtype=torch.float)\n",
    "print(tensor)\n",
    "print(tensor.dtype)\n",
    "print(\"======================================================\")\n",
    "print( \"dtype을 설정하지 않고 실수를 사용하면 기본값이 float32\")\n",
    "tensor = torch.tensor([0.00001])\n",
    "print(tensor)\n",
    "print(tensor.dtype)\n",
    "print( \"torch.rand 기본 값은 소수점 넷째자리까지\")\n",
    "print(\"======================================================\")\n",
    "\n",
    "tensor = torch.tensor([10**-39]) # -39승 까지 정확하게 표현 \n",
    "print(tensor)\n",
    "print(tensor.dtype)"
   ]
  },
  {
   "cell_type": "code",
   "execution_count": 43,
   "id": "eb125cf8",
   "metadata": {},
   "outputs": [
    {
     "name": "stdout",
     "output_type": "stream",
     "text": [
      "cuda\n",
      "tensor([1., 2., 3.])\n",
      "tensor([1., 2., 3.], device='cuda:0')\n",
      "tensor([[0.3558]], device='cuda:0')\n"
     ]
    }
   ],
   "source": [
    "device = \"cuda\" if torch.cuda.is_available() else \"cpu\"\n",
    "cpu = torch.FloatTensor([1,2,3])\n",
    "gpu = torch.cuda.FloatTensor([1,2,3])\n",
    "tensor = torch.rand((1,1),device=device)\n",
    "print(device)\n",
    "print(cpu)\n",
    "print(gpu)\n",
    "print(tensor)"
   ]
  },
  {
   "cell_type": "code",
   "execution_count": 44,
   "id": "821179dc",
   "metadata": {},
   "outputs": [
    {
     "data": {
      "text/plain": [
       "(tensor([1., 2., 3.]), tensor([1., 2., 3.], device='cuda:0'))"
      ]
     },
     "execution_count": 44,
     "metadata": {},
     "output_type": "execute_result"
    }
   ],
   "source": [
    "# cpu와 달리 gpu는 텐서와 넘파이 배열 간 연산이 불가능\n",
    "\n",
    "cpu = torch.FloatTensor([1,2,3])\n",
    "gpu = cpu.cuda()\n",
    "\n",
    "cpu, gpu"
   ]
  },
  {
   "cell_type": "code",
   "execution_count": 45,
   "id": "f3783760",
   "metadata": {},
   "outputs": [
    {
     "data": {
      "text/plain": [
       "tensor([1., 2., 3.])"
      ]
     },
     "execution_count": 45,
     "metadata": {},
     "output_type": "execute_result"
    }
   ],
   "source": [
    "gpu.cpu()"
   ]
  },
  {
   "cell_type": "code",
   "execution_count": 46,
   "id": "d5f17284",
   "metadata": {},
   "outputs": [
    {
     "data": {
      "text/plain": [
       "tensor([1., 2., 3.], device='cuda:0')"
      ]
     },
     "execution_count": 46,
     "metadata": {},
     "output_type": "execute_result"
    }
   ],
   "source": [
    "cpu2gpu = cpu.to('cuda')\n",
    "cpu2gpu"
   ]
  },
  {
   "cell_type": "code",
   "execution_count": 47,
   "id": "7c4342f9",
   "metadata": {},
   "outputs": [
    {
     "data": {
      "text/plain": [
       "'2.1.2'"
      ]
     },
     "execution_count": 47,
     "metadata": {},
     "output_type": "execute_result"
    }
   ],
   "source": [
    "import numpy as np\n",
    "\n",
    "np.__version__"
   ]
  },
  {
   "cell_type": "code",
   "execution_count": 57,
   "id": "f765cefa",
   "metadata": {},
   "outputs": [
    {
     "data": {
      "text/plain": [
       "array([1, 2, 3], dtype=uint8)"
      ]
     },
     "execution_count": 57,
     "metadata": {},
     "output_type": "execute_result"
    }
   ],
   "source": [
    "a = np.array([1,2,3], dtype = np.uint8)\n",
    "a"
   ]
  },
  {
   "cell_type": "code",
   "execution_count": 58,
   "id": "f6aa4d63",
   "metadata": {},
   "outputs": [
    {
     "data": {
      "text/plain": [
       "array([2, 4, 6])"
      ]
     },
     "execution_count": 58,
     "metadata": {},
     "output_type": "execute_result"
    }
   ],
   "source": [
    "b = np.array([1,2,3])\n",
    "a + b"
   ]
  },
  {
   "cell_type": "code",
   "execution_count": null,
   "id": "ccde9332",
   "metadata": {},
   "outputs": [
    {
     "name": "stdout",
     "output_type": "stream",
     "text": [
      "tensor([1, 2, 3], dtype=torch.uint8)\n",
      "tensor([1., 2., 3.])\n"
     ]
    }
   ],
   "source": [
    "print(torch.tensor(a)) # 기존 a np.array의 성격을 그대로, 메모리를 복사, 얕은 복사??\n",
    "print(torch.Tensor(a))"
   ]
  },
  {
   "cell_type": "code",
   "execution_count": null,
   "id": "563eea27",
   "metadata": {},
   "outputs": [
    {
     "data": {
      "text/plain": [
       "tensor([1, 2, 3], dtype=torch.uint8)"
      ]
     },
     "execution_count": 60,
     "metadata": {},
     "output_type": "execute_result"
    }
   ],
   "source": [
    "torch.from_numpy(a) # 메모리를 공유하지 않아 조금 더 빠른 연산이 가능 => 깊은 복사"
   ]
  },
  {
   "cell_type": "code",
   "execution_count": 64,
   "id": "a889d6f6",
   "metadata": {},
   "outputs": [
    {
     "data": {
      "text/plain": [
       "(array([1, 2, 3], dtype=uint8), (3,))"
      ]
     },
     "execution_count": 64,
     "metadata": {},
     "output_type": "execute_result"
    }
   ],
   "source": [
    "a, a.shape"
   ]
  },
  {
   "cell_type": "code",
   "execution_count": 65,
   "id": "e5efc5f2",
   "metadata": {},
   "outputs": [
    {
     "name": "stdout",
     "output_type": "stream",
     "text": [
      "[1 2 3]\n",
      "tensor([2, 3, 4], dtype=torch.uint8)\n",
      "[1 2 3]\n"
     ]
    }
   ],
   "source": [
    "print(a)\n",
    "print(torch.tensor(a)+1)\n",
    "print(a)"
   ]
  },
  {
   "cell_type": "code",
   "execution_count": 73,
   "id": "369fa1e3",
   "metadata": {},
   "outputs": [
    {
     "data": {
      "text/plain": [
       "array([1., 2., 3.], dtype=float32)"
      ]
     },
     "execution_count": 73,
     "metadata": {},
     "output_type": "execute_result"
    }
   ],
   "source": [
    "# detach 방식\n",
    "tensor = torch.cuda.FloatTensor([1,2,3])\n",
    "tensor\n",
    "# np.array(tensor) # can't convert cuda:0 device type tensor to numpy. Use Tensor.cpu() to copy the tensor to host memory first.\n",
    "# tensor.numpy() # can't convert cuda:0 device type tensor to numpy. Use Tensor.cpu() to copy the tensor to host memory first.\n",
    "tensor.cpu().numpy()"
   ]
  },
  {
   "cell_type": "code",
   "execution_count": null,
   "id": "27e3efa0",
   "metadata": {},
   "outputs": [
    {
     "data": {
      "text/plain": [
       "array([1., 2., 3.], dtype=float32)"
      ]
     },
     "execution_count": 67,
     "metadata": {},
     "output_type": "execute_result"
    }
   ],
   "source": [
    "ndarray = tensor.detach().cpu().numpy() # 계산 그래프에서 분리 : detach\n",
    "ndarray"
   ]
  },
  {
   "cell_type": "markdown",
   "id": "2c66cfe0",
   "metadata": {},
   "source": [
    "## **torch.from_numpy:**\n",
    "- 대규모 데이터에서 메모리 효율성을 중시하거나, 빠른 변환 속도가 필요할 때.\n",
    "- 원본 NumPy 배열과 텐서 간 데이터 동기화가 필요할 때.\n",
    "- 단, 메모리 공유로 인한 부작용(의도치 않은 데이터 수정)을 주의해야 함.\n",
    "<br>\n",
    "---\n",
    "## **torch.tensor:**\n",
    "- 원본 데이터와 독립적인 텐서를 만들고 싶을 때.\n",
    "- 특정 dtype이나 device(GPU 등)로 텐서를 생성해야 할 때.\n",
    "- 코드의 안정성과 명확성을 위해 메모리 공유를 피하고 싶을 때\n",
    "<br>\n",
    "---"
   ]
  },
  {
   "cell_type": "markdown",
   "id": "b8bea842",
   "metadata": {},
   "source": [
    "## **tensor.detach().cpu().numpy() vs tensor.cpu().numpy()**\n",
    "- detach() => 계산 그래프에서 떼어내서 연산 시 영향이 없어짐.\n",
    "- 안정적인 분리 시에 반드시 활용 필요 => 파이썬에서 깊은 복사 .copy()와 같은 중요도\n",
    "<br>\n",
    "---"
   ]
  },
  {
   "cell_type": "code",
   "execution_count": 80,
   "id": "be775b16",
   "metadata": {},
   "outputs": [],
   "source": [
    "import numpy as np\n",
    "import pandas as pd\n",
    "import seaborn as sns\n",
    "from scipy import stats\n",
    "import matplotlib.pyplot as plt"
   ]
  },
  {
   "cell_type": "code",
   "execution_count": null,
   "id": "bffc4b37",
   "metadata": {},
   "outputs": [
    {
     "data": {
      "image/png": "[encoded data removed]",
      "text/plain": [
       "<Figure size 600.75x500 with 1 Axes>"
      ]
     },
     "metadata": {},
     "output_type": "display_data"
    }
   ],
   "source": [
    "man_height = stats.norm.rvs(loc = 170, scale=10, size = 500, random_state=1) # norm : Normaliztion rvs : random values\n",
    "woman_height = stats.norm.rvs(loc = 150, scale=10, size = 500, random_state=1)\n",
    "\n",
    "X = np.concatenate([man_height,woman_height])\n",
    "Y = [\"man\"] * len(man_height) + ['woman'] * len(woman_height)\n",
    "\n",
    "df = pd.DataFrame(list(zip(X,Y)),columns=['X','Y'])\n",
    "fig = sns.displot(data=df, x=\"X\", hue = \"Y\", kind = 'kde')\n",
    "fig.set_axis_labels(\"cm\",\"count\")\n",
    "plt.show()"
   ]
  },
  {
   "cell_type": "markdown",
   "id": "f4921062",
   "metadata": {},
   "source": [
    "# 단순 선형 회귀"
   ]
  },
  {
   "cell_type": "code",
   "execution_count": 84,
   "id": "3e4256e6",
   "metadata": {},
   "outputs": [],
   "source": [
    "import numpy as np\n",
    "\n",
    "x = np.array(\n",
    "    [[1], [2], [3], [4], [5], [6], [7], [8], [9], [10],\n",
    "    [11], [12], [13], [14], [15], [16], [17], [18], [19], [20],\n",
    "    [21], [22], [23], [24], [25], [26], [27], [28], [29], [30]]\n",
    ")\n",
    "y = np.array(\n",
    "    [[0.94], [1.98], [2.88], [3.92], [3.96], [4.55], [5.64], [6.3], [7.44], [9.1],\n",
    "    [8.46], [9.5], [10.67], [11.16], [14], [11.83], [14.4], [14.25], [16.2], [16.32],\n",
    "    [17.46], [19.8], [18], [21.34], [22], [22.5], [24.57], [26.04], [21.6], [28.8]]\n",
    ")"
   ]
  },
  {
   "cell_type": "code",
   "execution_count": null,
   "id": "32c2700d",
   "metadata": {},
   "outputs": [],
   "source": [
    "# 학습과정 설정\n",
    "weight = 0.0\n",
    "bias = 0.0\n",
    "learning_rate = 0.005"
   ]
  },
  {
   "cell_type": "code",
   "execution_count": null,
   "id": "cb1eba01",
   "metadata": {},
   "outputs": [
    {
     "name": "stdout",
     "output_type": "stream",
     "text": [
      "Epoch : 1000, Weight : 0.872, Bias : -0.290, Cost : 1.377\n",
      "Epoch : 2000, Weight : 0.877, Bias : -0.391, Cost : 1.373\n",
      "Epoch : 3000, Weight : 0.878, Bias : -0.422, Cost : 1.372\n",
      "Epoch : 4000, Weight : 0.879, Bias : -0.432, Cost : 1.372\n",
      "Epoch : 5000, Weight : 0.879, Bias : -0.435, Cost : 1.372\n",
      "Epoch : 6000, Weight : 0.879, Bias : -0.436, Cost : 1.372\n",
      "Epoch : 7000, Weight : 0.879, Bias : -0.436, Cost : 1.372\n",
      "Epoch : 8000, Weight : 0.879, Bias : -0.436, Cost : 1.372\n",
      "Epoch : 9000, Weight : 0.879, Bias : -0.436, Cost : 1.372\n",
      "Epoch : 10000, Weight : 0.879, Bias : -0.436, Cost : 1.372\n"
     ]
    }
   ],
   "source": [
    "for epoch in range(10000):\n",
    "    y_hat = weight * x + bias\n",
    "\n",
    "    cost = ((y - y_hat) ** 2).mean() # MSE\n",
    "\n",
    "    weight = weight - learning_rate * ((y_hat - y) * x).mean() # 학습과정 명시\n",
    "    bias = bias - learning_rate * (y_hat - y).mean() # 학습과정 명시\n",
    "\n",
    "    if (epoch + 1) % 1000 == 0:\n",
    "        print(f\"Epoch : {epoch+1:4d}, Weight : {weight:.3f}, Bias : {bias:.3f}, Cost : {cost:.3f}\")"
   ]
  },
  {
   "cell_type": "markdown",
   "id": "0fd0cbeb",
   "metadata": {},
   "source": [
    "# 단순 선형 회귀 : 파이토치 방식"
   ]
  },
  {
   "cell_type": "code",
   "execution_count": 87,
   "id": "a81c6e49",
   "metadata": {},
   "outputs": [],
   "source": [
    "import torch\n",
    "from torch import optim"
   ]
  },
  {
   "cell_type": "code",
   "execution_count": 88,
   "id": "aa114285",
   "metadata": {},
   "outputs": [],
   "source": [
    "x = torch.FloatTensor([\n",
    "    [1], [2], [3], [4], [5], [6], [7], [8], [9], [10],\n",
    "    [11], [12], [13], [14], [15], [16], [17], [18], [19], [20],\n",
    "    [21], [22], [23], [24], [25], [26], [27], [28], [29], [30]\n",
    "])\n",
    "y = torch.FloatTensor([\n",
    "    [0.94], [1.98], [2.88], [3.92], [3.96], [4.55], [5.64], [6.3], [7.44], [9.1],\n",
    "    [8.46], [9.5], [10.67], [11.16], [14], [11.83], [14.4], [14.25], [16.2], [16.32],\n",
    "    [17.46], [19.8], [18], [21.34], [22], [22.5], [24.57], [26.04], [21.6], [28.8]\n",
    "])"
   ]
  },
  {
   "cell_type": "code",
   "execution_count": null,
   "id": "e739f0bd",
   "metadata": {},
   "outputs": [],
   "source": [
    "weight = torch.zeros(1, requires_grad=True)\n",
    "# auto grad를 통해 grad를 최적화 하기 위해선 requires_grad=True 활용\n",
    "bias = torch.zeros(1, requires_grad=True)\n",
    "learning_rate = 0.001"
   ]
  },
  {
   "cell_type": "code",
   "execution_count": 90,
   "id": "b767e568",
   "metadata": {},
   "outputs": [],
   "source": [
    "optimizer = optim.SGD([weight,bias], lr = learning_rate)"
   ]
  },
  {
   "cell_type": "code",
   "execution_count": null,
   "id": "5f4d5199",
   "metadata": {},
   "outputs": [
    {
     "name": "stdout",
     "output_type": "stream",
     "text": [
      "Epoch :  1000, Weight : 0.864, Bias : -0.138, Cost : 1.393\n",
      "Epoch :  2000, Weight : 0.870, Bias : -0.251, Cost : 1.380\n",
      "Epoch :  3000, Weight : 0.873, Bias : -0.321, Cost : 1.375\n",
      "Epoch :  4000, Weight : 0.875, Bias : -0.364, Cost : 1.373\n",
      "Epoch :  5000, Weight : 0.877, Bias : -0.391, Cost : 1.373\n",
      "Epoch :  6000, Weight : 0.878, Bias : -0.408, Cost : 1.372\n",
      "Epoch :  7000, Weight : 0.878, Bias : -0.419, Cost : 1.372\n",
      "Epoch :  8000, Weight : 0.878, Bias : -0.425, Cost : 1.372\n",
      "Epoch :  9000, Weight : 0.879, Bias : -0.429, Cost : 1.372\n",
      "Epoch :  10000, Weight : 0.879, Bias : -0.432, Cost : 1.372\n"
     ]
    }
   ],
   "source": [
    "for epoch in range(10000) :\n",
    "    hypothesis = weight * x + bias\n",
    "    cost = torch.mean((hypothesis-y)**2)\n",
    "    \n",
    "    optimizer.zero_grad() # optimizer 초기화\n",
    "    cost.backward() # 역전파 계산을 통해 W, B 최적화\n",
    "    optimizer.step() # 순차적으로 진행하겠다는 의미를 내포함\n",
    "    \n",
    "    if (epoch + 1) % 1000 == 0 :\n",
    "        print(f\"Epoch : {epoch + 1 : 4d}, Weight : {weight.item():.3f}, Bias : {bias.item():.3f}, Cost : {cost:.3f}\")"
   ]
  },
  {
   "cell_type": "markdown",
   "id": "494f68e3",
   "metadata": {},
   "source": [
    "# optimizer.zero_grad()\n",
    "# optimizer.backward()\n",
    "# optimizer.step()"
   ]
  },
  {
   "cell_type": "code",
   "execution_count": 92,
   "id": "315d49fc",
   "metadata": {},
   "outputs": [
    {
     "name": "stdout",
     "output_type": "stream",
     "text": [
      "Epoch :    1\n",
      "Step [1] : Gradient : None, Weight : 0.00000\n",
      "Step [2] : Gradient : None, Weight : 0.00000\n",
      "Step [3] : Gradient : tensor([-540.4854]), Weight : 0.00000\n",
      "Step [4] : Gradient : tensor([-540.4854]), Weight : 0.54049\n",
      "Epoch :    2\n",
      "Step [1] : Gradient : tensor([-540.4854]), Weight : 0.54049\n",
      "Step [2] : Gradient : None, Weight : 0.54049\n",
      "Step [3] : Gradient : tensor([-198.9818]), Weight : 0.54049\n",
      "Step [4] : Gradient : tensor([-198.9818]), Weight : 0.73947\n",
      "Epoch :    3\n",
      "Step [1] : Gradient : tensor([-198.9818]), Weight : 0.73947\n",
      "Step [2] : Gradient : None, Weight : 0.73947\n",
      "Step [3] : Gradient : tensor([-73.2604]), Weight : 0.73947\n",
      "Step [4] : Gradient : tensor([-73.2604]), Weight : 0.81273\n",
      "Epoch :    4\n",
      "Step [1] : Gradient : tensor([-73.2604]), Weight : 0.81273\n",
      "Step [2] : Gradient : None, Weight : 0.81273\n",
      "Step [3] : Gradient : tensor([-26.9772]), Weight : 0.81273\n",
      "Step [4] : Gradient : tensor([-26.9772]), Weight : 0.83970\n"
     ]
    }
   ],
   "source": [
    "import torch\n",
    "from torch import optim\n",
    "\n",
    "\n",
    "x = torch.FloatTensor([\n",
    "    [1], [2], [3], [4], [5], [6], [7], [8], [9], [10],\n",
    "    [11], [12], [13], [14], [15], [16], [17], [18], [19], [20],\n",
    "    [21], [22], [23], [24], [25], [26], [27], [28], [29], [30]\n",
    "])\n",
    "y = torch.FloatTensor([\n",
    "    [0.94], [1.98], [2.88], [3.92], [3.96], [4.55], [5.64], [6.3], [7.44], [9.1],\n",
    "    [8.46], [9.5], [10.67], [11.16], [14], [11.83], [14.4], [14.25], [16.2], [16.32],\n",
    "    [17.46], [19.8], [18], [21.34], [22], [22.5], [24.57], [26.04], [21.6], [28.8]\n",
    "])\n",
    "\n",
    "weight = torch.zeros(1, requires_grad=True)\n",
    "bias = torch.zeros(1, requires_grad=True)\n",
    "learning_rate = 0.001\n",
    "\n",
    "optimizer = optim.SGD([weight, bias], lr=learning_rate)\n",
    "\n",
    "for epoch in range(10000):\n",
    "    hypothesis = weight * x + bias\n",
    "    cost = torch.mean((hypothesis - y) ** 2)\n",
    "    \n",
    "    print(f\"Epoch : {epoch+1:4d}\")\n",
    "    print(f\"Step [1] : Gradient : {weight.grad}, Weight : {weight.item():.5f}\")\n",
    "\n",
    "    optimizer.zero_grad()\n",
    "    print(f\"Step [2] : Gradient : {weight.grad}, Weight : {weight.item():.5f}\")\n",
    "\n",
    "    cost.backward()\n",
    "    print(f\"Step [3] : Gradient : {weight.grad}, Weight : {weight.item():.5f}\")\n",
    "\n",
    "    optimizer.step()\n",
    "    print(f\"Step [4] : Gradient : {weight.grad}, Weight : {weight.item():.5f}\")\n",
    "    \n",
    "    if epoch == 3:\n",
    "        break"
   ]
  },
  {
   "cell_type": "markdown",
   "id": "85b79b1b",
   "metadata": {},
   "source": [
    "# 신경망 패키지 활용 : torch.nn.Linear 활용"
   ]
  },
  {
   "attachments": {
    "image.png": {
     "image/png": "[encoded data removed]"
    }
   },
   "cell_type": "markdown",
   "id": "d70a764e",
   "metadata": {},
   "source": [
    "![image.png](attachment:image.png)"
   ]
  },
  {
   "cell_type": "code",
   "execution_count": 93,
   "id": "3e7b2c36",
   "metadata": {},
   "outputs": [],
   "source": [
    "import torch\n",
    "from torch import nn\n",
    "from torch import optim"
   ]
  },
  {
   "cell_type": "code",
   "execution_count": 94,
   "id": "ca17c454",
   "metadata": {},
   "outputs": [],
   "source": [
    "x = torch.FloatTensor([\n",
    "    [1], [2], [3], [4], [5], [6], [7], [8], [9], [10],\n",
    "    [11], [12], [13], [14], [15], [16], [17], [18], [19], [20],\n",
    "    [21], [22], [23], [24], [25], [26], [27], [28], [29], [30]\n",
    "])\n",
    "y = torch.FloatTensor([\n",
    "    [0.94], [1.98], [2.88], [3.92], [3.96], [4.55], [5.64], [6.3], [7.44], [9.1],\n",
    "    [8.46], [9.5], [10.67], [11.16], [14], [11.83], [14.4], [14.25], [16.2], [16.32],\n",
    "    [17.46], [19.8], [18], [21.34], [22], [22.5], [24.57], [26.04], [21.6], [28.8]\n",
    "])"
   ]
  },
  {
   "cell_type": "code",
   "execution_count": 95,
   "id": "99e4efeb",
   "metadata": {},
   "outputs": [],
   "source": [
    "model = nn.Linear(1, 1)\n",
    "criterion = nn.MSELoss()\n",
    "optimizer = optim.SGD(model.parameters(), lr=0.001)"
   ]
  },
  {
   "cell_type": "code",
   "execution_count": 96,
   "id": "67a93467",
   "metadata": {},
   "outputs": [
    {
     "name": "stdout",
     "output_type": "stream",
     "text": [
      "Epoch : 1000, Model : [Parameter containing:\n",
      "tensor([[0.8884]], requires_grad=True), Parameter containing:\n",
      "tensor([-0.6299], requires_grad=True)], Cost : 1.381\n",
      "Epoch : 2000, Model : [Parameter containing:\n",
      "tensor([[0.8848]], requires_grad=True), Parameter containing:\n",
      "tensor([-0.5566], requires_grad=True)], Cost : 1.376\n",
      "Epoch : 3000, Model : [Parameter containing:\n",
      "tensor([[0.8826]], requires_grad=True), Parameter containing:\n",
      "tensor([-0.5110], requires_grad=True)], Cost : 1.374\n",
      "Epoch : 4000, Model : [Parameter containing:\n",
      "tensor([[0.8812]], requires_grad=True), Parameter containing:\n",
      "tensor([-0.4827], requires_grad=True)], Cost : 1.373\n",
      "Epoch : 5000, Model : [Parameter containing:\n",
      "tensor([[0.8803]], requires_grad=True), Parameter containing:\n",
      "tensor([-0.4650], requires_grad=True)], Cost : 1.372\n",
      "Epoch : 6000, Model : [Parameter containing:\n",
      "tensor([[0.8798]], requires_grad=True), Parameter containing:\n",
      "tensor([-0.4540], requires_grad=True)], Cost : 1.372\n",
      "Epoch : 7000, Model : [Parameter containing:\n",
      "tensor([[0.8795]], requires_grad=True), Parameter containing:\n",
      "tensor([-0.4472], requires_grad=True)], Cost : 1.372\n",
      "Epoch : 8000, Model : [Parameter containing:\n",
      "tensor([[0.8792]], requires_grad=True), Parameter containing:\n",
      "tensor([-0.4429], requires_grad=True)], Cost : 1.372\n",
      "Epoch : 9000, Model : [Parameter containing:\n",
      "tensor([[0.8791]], requires_grad=True), Parameter containing:\n",
      "tensor([-0.4403], requires_grad=True)], Cost : 1.372\n",
      "Epoch : 10000, Model : [Parameter containing:\n",
      "tensor([[0.8790]], requires_grad=True), Parameter containing:\n",
      "tensor([-0.4386], requires_grad=True)], Cost : 1.372\n"
     ]
    }
   ],
   "source": [
    "for epoch in range(10000):\n",
    "    output = model(x)\n",
    "    cost = criterion(output, y)\n",
    "\n",
    "    optimizer.zero_grad()\n",
    "    cost.backward()\n",
    "    optimizer.step()\n",
    "\n",
    "    if (epoch + 1) % 1000 == 0:\n",
    "        print(f\"Epoch : {epoch+1:4d}, Model : {list(model.parameters())}, Cost : {cost:.3f}\")"
   ]
  },
  {
   "cell_type": "markdown",
   "id": "90ac9c83",
   "metadata": {},
   "source": [
    "# 다중 선형 모델"
   ]
  },
  {
   "cell_type": "code",
   "execution_count": 120,
   "id": "72ba421a",
   "metadata": {},
   "outputs": [],
   "source": [
    "import torch\n",
    "from torch import nn\n",
    "from torch import optim\n",
    "from torch.utils.data import TensorDataset, DataLoader \n",
    "\n",
    "\n",
    "train_x = torch.FloatTensor([\n",
    "    [1, 2], [2, 3], [3, 4], [4, 5], [5, 6], [6, 7]\n",
    "])\n",
    "train_y = torch.FloatTensor([\n",
    "    [0.1, 1.5], [1, 2.8], [1.9, 4.1], [2.8, 5.4], [3.7, 6.7], [4.6, 8]\n",
    "])"
   ]
  },
  {
   "cell_type": "code",
   "execution_count": 124,
   "id": "7620f6e7",
   "metadata": {},
   "outputs": [],
   "source": [
    "train_dataset = TensorDataset(train_x, train_y)\n",
    "\n",
    "# 난수 고정\n",
    "generator = torch.Generator()\n",
    "generator.manual_seed(42)\n",
    "\n",
    "train_dataloader = DataLoader(train_dataset, batch_size=2,\n",
    "                              shuffle=True, drop_last=True) # drop_last : batch 사이즈 맞추고 남은 값 버림?"
   ]
  },
  {
   "attachments": {
    "image.png": {
     "image/png": "[encoded data removed]"
    }
   },
   "cell_type": "markdown",
   "id": "bd426f07",
   "metadata": {},
   "source": [
    "![image.png](attachment:image.png)"
   ]
  },
  {
   "cell_type": "code",
   "execution_count": 125,
   "id": "df0b0c68",
   "metadata": {},
   "outputs": [],
   "source": [
    "model = nn.Linear(2, 2, bias=True)\n",
    "criterion = nn.MSELoss()\n",
    "optimizer = optim.SGD(model.parameters(), lr=0.001)"
   ]
  },
  {
   "cell_type": "code",
   "execution_count": 126,
   "id": "ea0d72b5",
   "metadata": {},
   "outputs": [
    {
     "name": "stdout",
     "output_type": "stream",
     "text": [
      "Epoch : 1000, Model : [Parameter containing:\n",
      "tensor([[0.5995, 0.0906],\n",
      "        [0.8860, 0.3098]], requires_grad=True), Parameter containing:\n",
      "tensor([-0.0080,  0.3287], requires_grad=True)], Cost : 0.095\n",
      "Epoch : 2000, Model : [Parameter containing:\n",
      "tensor([[ 0.8124, -0.0194],\n",
      "        [ 0.9917,  0.2551]], requires_grad=True), Parameter containing:\n",
      "tensor([-0.3310,  0.1683], requires_grad=True)], Cost : 0.025\n",
      "Epoch : 3000, Model : [Parameter containing:\n",
      "tensor([[ 0.9210, -0.0753],\n",
      "        [ 1.0457,  0.2273]], requires_grad=True), Parameter containing:\n",
      "tensor([-0.4955,  0.0865], requires_grad=True)], Cost : 0.006\n",
      "Epoch : 4000, Model : [Parameter containing:\n",
      "tensor([[ 0.9762, -0.1040],\n",
      "        [ 1.0731,  0.2131]], requires_grad=True), Parameter containing:\n",
      "tensor([-0.5793,  0.0449], requires_grad=True)], Cost : 0.002\n",
      "Epoch : 5000, Model : [Parameter containing:\n",
      "tensor([[ 1.0044, -0.1185],\n",
      "        [ 1.0871,  0.2059]], requires_grad=True), Parameter containing:\n",
      "tensor([-0.6220,  0.0237], requires_grad=True)], Cost : 0.000\n",
      "Epoch : 6000, Model : [Parameter containing:\n",
      "tensor([[ 1.0187, -0.1259],\n",
      "        [ 1.0942,  0.2022]], requires_grad=True), Parameter containing:\n",
      "tensor([-0.6438,  0.0129], requires_grad=True)], Cost : 0.000\n",
      "Epoch : 7000, Model : [Parameter containing:\n",
      "tensor([[ 1.0260, -0.1297],\n",
      "        [ 1.0979,  0.2003]], requires_grad=True), Parameter containing:\n",
      "tensor([-0.6549,  0.0074], requires_grad=True)], Cost : 0.000\n",
      "Epoch : 8000, Model : [Parameter containing:\n",
      "tensor([[ 1.0297, -0.1316],\n",
      "        [ 1.0997,  0.1994]], requires_grad=True), Parameter containing:\n",
      "tensor([-0.6605,  0.0046], requires_grad=True)], Cost : 0.000\n",
      "Epoch : 9000, Model : [Parameter containing:\n",
      "tensor([[ 1.0316, -0.1326],\n",
      "        [ 1.1007,  0.1989]], requires_grad=True), Parameter containing:\n",
      "tensor([-0.6634,  0.0031], requires_grad=True)], Cost : 0.000\n",
      "Epoch : 10000, Model : [Parameter containing:\n",
      "tensor([[ 1.0326, -0.1331],\n",
      "        [ 1.1011,  0.1986]], requires_grad=True), Parameter containing:\n",
      "tensor([-0.6649,  0.0024], requires_grad=True)], Cost : 0.000\n",
      "Epoch : 11000, Model : [Parameter containing:\n",
      "tensor([[ 1.0331, -0.1333],\n",
      "        [ 1.1014,  0.1985]], requires_grad=True), Parameter containing:\n",
      "tensor([-0.6656,  0.0020], requires_grad=True)], Cost : 0.000\n",
      "Epoch : 12000, Model : [Parameter containing:\n",
      "tensor([[ 1.0333, -0.1335],\n",
      "        [ 1.1015,  0.1984]], requires_grad=True), Parameter containing:\n",
      "tensor([-0.6660,  0.0018], requires_grad=True)], Cost : 0.000\n",
      "Epoch : 13000, Model : [Parameter containing:\n",
      "tensor([[ 1.0335, -0.1335],\n",
      "        [ 1.1016,  0.1984]], requires_grad=True), Parameter containing:\n",
      "tensor([-0.6662,  0.0017], requires_grad=True)], Cost : 0.000\n",
      "Epoch : 14000, Model : [Parameter containing:\n",
      "tensor([[ 1.0335, -0.1336],\n",
      "        [ 1.1016,  0.1984]], requires_grad=True), Parameter containing:\n",
      "tensor([-0.6663,  0.0017], requires_grad=True)], Cost : 0.000\n",
      "Epoch : 15000, Model : [Parameter containing:\n",
      "tensor([[ 1.0336, -0.1336],\n",
      "        [ 1.1016,  0.1984]], requires_grad=True), Parameter containing:\n",
      "tensor([-0.6663,  0.0017], requires_grad=True)], Cost : 0.000\n",
      "Epoch : 16000, Model : [Parameter containing:\n",
      "tensor([[ 1.0336, -0.1336],\n",
      "        [ 1.1016,  0.1984]], requires_grad=True), Parameter containing:\n",
      "tensor([-0.6664,  0.0016], requires_grad=True)], Cost : 0.000\n",
      "Epoch : 17000, Model : [Parameter containing:\n",
      "tensor([[ 1.0336, -0.1336],\n",
      "        [ 1.1016,  0.1984]], requires_grad=True), Parameter containing:\n",
      "tensor([-0.6664,  0.0016], requires_grad=True)], Cost : 0.000\n",
      "Epoch : 18000, Model : [Parameter containing:\n",
      "tensor([[ 1.0336, -0.1336],\n",
      "        [ 1.1016,  0.1984]], requires_grad=True), Parameter containing:\n",
      "tensor([-0.6664,  0.0016], requires_grad=True)], Cost : 0.000\n",
      "Epoch : 19000, Model : [Parameter containing:\n",
      "tensor([[ 1.0336, -0.1336],\n",
      "        [ 1.1016,  0.1984]], requires_grad=True), Parameter containing:\n",
      "tensor([-0.6664,  0.0016], requires_grad=True)], Cost : 0.000\n",
      "Epoch : 20000, Model : [Parameter containing:\n",
      "tensor([[ 1.0336, -0.1336],\n",
      "        [ 1.1016,  0.1984]], requires_grad=True), Parameter containing:\n",
      "tensor([-0.6664,  0.0016], requires_grad=True)], Cost : 0.000\n"
     ]
    }
   ],
   "source": [
    "for epoch in range(20000):\n",
    "    cost = 0.0\n",
    "    \n",
    "    for batch in train_dataloader:\n",
    "        x, y = batch\n",
    "        output = model(x)\n",
    "        \n",
    "        loss = criterion(output, y)\n",
    "        \n",
    "        optimizer.zero_grad()\n",
    "        loss.backward()\n",
    "        optimizer.step()\n",
    "        \n",
    "        cost += loss\n",
    "\n",
    "    cost = cost / len(train_dataloader)\n",
    "    \n",
    "    if (epoch + 1) % 1000 == 0:\n",
    "        print(f\"Epoch : {epoch+1:4d}, Model : {list(model.parameters())}, Cost : {cost:.3f}\")"
   ]
  },
  {
   "cell_type": "markdown",
   "id": "4757f6b5",
   "metadata": {},
   "source": [
    "# 편향을 제거한 학습"
   ]
  },
  {
   "cell_type": "code",
   "execution_count": 116,
   "id": "e3e7242c",
   "metadata": {},
   "outputs": [],
   "source": [
    "import torch\n",
    "from torch import nn\n",
    "from torch import optim\n",
    "from torch.utils.data import TensorDataset, DataLoader \n",
    "\n",
    "\n",
    "train_x = torch.FloatTensor([\n",
    "    [1, 2], [2, 3], [3, 4], [4, 5], [5, 6], [6, 7]\n",
    "])\n",
    "train_y = torch.FloatTensor([\n",
    "    [0.1, 1.5], [1, 2.8], [1.9, 4.1], [2.8, 5.4], [3.7, 6.7], [4.6, 8]\n",
    "])"
   ]
  },
  {
   "cell_type": "code",
   "execution_count": 117,
   "id": "46537c52",
   "metadata": {},
   "outputs": [],
   "source": [
    "train_dataset = TensorDataset(train_x, train_y)\n",
    "train_dataloader = DataLoader(train_dataset, batch_size=2, shuffle=True, drop_last=True)"
   ]
  },
  {
   "cell_type": "code",
   "execution_count": 118,
   "id": "25cf5f40",
   "metadata": {},
   "outputs": [],
   "source": [
    "model = nn.Linear(2, 2, bias=False) # bias = False를 통해 편향을 제거\n",
    "criterion = nn.MSELoss()\n",
    "optimizer = optim.SGD(model.parameters(), lr=0.001)"
   ]
  },
  {
   "cell_type": "code",
   "execution_count": 119,
   "id": "aa02a78a",
   "metadata": {},
   "outputs": [
    {
     "name": "stdout",
     "output_type": "stream",
     "text": [
      "Epoch : 1000, Model : [Parameter containing:\n",
      "tensor([[ 0.8220, -0.0899],\n",
      "        [ 0.4895,  0.6938]], requires_grad=True)], Cost : 0.074\n",
      "Epoch : 2000, Model : [Parameter containing:\n",
      "tensor([[ 1.0022, -0.2358],\n",
      "        [ 0.6148,  0.5924]], requires_grad=True)], Cost : 0.046\n",
      "Epoch : 3000, Model : [Parameter containing:\n",
      "tensor([[ 1.1454, -0.3516],\n",
      "        [ 0.7143,  0.5118]], requires_grad=True)], Cost : 0.029\n",
      "Epoch : 4000, Model : [Parameter containing:\n",
      "tensor([[ 1.2593, -0.4436],\n",
      "        [ 0.7935,  0.4478]], requires_grad=True)], Cost : 0.019\n",
      "Epoch : 5000, Model : [Parameter containing:\n",
      "tensor([[ 1.3498, -0.5167],\n",
      "        [ 0.8564,  0.3970]], requires_grad=True)], Cost : 0.012\n",
      "Epoch : 6000, Model : [Parameter containing:\n",
      "tensor([[ 1.4216, -0.5749],\n",
      "        [ 0.9064,  0.3565]], requires_grad=True)], Cost : 0.007\n",
      "Epoch : 7000, Model : [Parameter containing:\n",
      "tensor([[ 1.4788, -0.6211],\n",
      "        [ 0.9462,  0.3244]], requires_grad=True)], Cost : 0.005\n",
      "Epoch : 8000, Model : [Parameter containing:\n",
      "tensor([[ 1.5242, -0.6578],\n",
      "        [ 0.9778,  0.2989]], requires_grad=True)], Cost : 0.003\n",
      "Epoch : 9000, Model : [Parameter containing:\n",
      "tensor([[ 1.5603, -0.6870],\n",
      "        [ 1.0028,  0.2786]], requires_grad=True)], Cost : 0.002\n",
      "Epoch : 10000, Model : [Parameter containing:\n",
      "tensor([[ 1.5889, -0.7102],\n",
      "        [ 1.0228,  0.2624]], requires_grad=True)], Cost : 0.001\n",
      "Epoch : 11000, Model : [Parameter containing:\n",
      "tensor([[ 1.6117, -0.7286],\n",
      "        [ 1.0386,  0.2496]], requires_grad=True)], Cost : 0.001\n",
      "Epoch : 12000, Model : [Parameter containing:\n",
      "tensor([[ 1.6299, -0.7433],\n",
      "        [ 1.0512,  0.2394]], requires_grad=True)], Cost : 0.000\n",
      "Epoch : 13000, Model : [Parameter containing:\n",
      "tensor([[ 1.6442, -0.7549],\n",
      "        [ 1.0612,  0.2313]], requires_grad=True)], Cost : 0.000\n",
      "Epoch : 14000, Model : [Parameter containing:\n",
      "tensor([[ 1.6557, -0.7642],\n",
      "        [ 1.0692,  0.2249]], requires_grad=True)], Cost : 0.000\n",
      "Epoch : 15000, Model : [Parameter containing:\n",
      "tensor([[ 1.6648, -0.7715],\n",
      "        [ 1.0755,  0.2198]], requires_grad=True)], Cost : 0.000\n",
      "Epoch : 16000, Model : [Parameter containing:\n",
      "tensor([[ 1.6720, -0.7774],\n",
      "        [ 1.0805,  0.2157]], requires_grad=True)], Cost : 0.000\n",
      "Epoch : 17000, Model : [Parameter containing:\n",
      "tensor([[ 1.6778, -0.7820],\n",
      "        [ 1.0845,  0.2125]], requires_grad=True)], Cost : 0.000\n",
      "Epoch : 18000, Model : [Parameter containing:\n",
      "tensor([[ 1.6823, -0.7857],\n",
      "        [ 1.0877,  0.2099]], requires_grad=True)], Cost : 0.000\n",
      "Epoch : 19000, Model : [Parameter containing:\n",
      "tensor([[ 1.6860, -0.7886],\n",
      "        [ 1.0902,  0.2079]], requires_grad=True)], Cost : 0.000\n",
      "Epoch : 20000, Model : [Parameter containing:\n",
      "tensor([[ 1.6888, -0.7910],\n",
      "        [ 1.0922,  0.2063]], requires_grad=True)], Cost : 0.000\n"
     ]
    }
   ],
   "source": [
    "for epoch in range(20000):\n",
    "    cost = 0.0\n",
    "    \n",
    "    for batch in train_dataloader:\n",
    "        x, y = batch\n",
    "        output = model(x)\n",
    "        \n",
    "        loss = criterion(output, y)\n",
    "        \n",
    "        optimizer.zero_grad()\n",
    "        loss.backward()\n",
    "        optimizer.step()\n",
    "        \n",
    "        cost += loss\n",
    "\n",
    "    cost = cost / len(train_dataloader)\n",
    "    \n",
    "    if (epoch + 1) % 1000 == 0:\n",
    "        print(f\"Epoch : {epoch+1:4d}, Model : {list(model.parameters())}, Cost : {cost:.3f}\")"
   ]
  },
  {
   "cell_type": "code",
   "execution_count": 115,
   "id": "9003a515",
   "metadata": {},
   "outputs": [
    {
     "data": {
      "text/plain": [
       "{'weight': Parameter containing:\n",
       " tensor([[ 1.6999, -0.7999],\n",
       "         [ 1.0999,  0.2001]], requires_grad=True),\n",
       " 'bias': None}"
      ]
     },
     "execution_count": 115,
     "metadata": {},
     "output_type": "execute_result"
    }
   ],
   "source": [
    "model._parameters"
   ]
  },
  {
   "cell_type": "markdown",
   "id": "204eedbe",
   "metadata": {},
   "source": [
    "# 비선형 회귀"
   ]
  },
  {
   "cell_type": "code",
   "execution_count": 136,
   "id": "4bdc7499",
   "metadata": {},
   "outputs": [],
   "source": [
    "import torch\n",
    "import pandas as pd\n",
    "from torch import nn\n",
    "from torch import optim\n",
    "from torch.utils.data import Dataset, DataLoader"
   ]
  },
  {
   "cell_type": "code",
   "execution_count": 137,
   "id": "91a86f6a",
   "metadata": {},
   "outputs": [],
   "source": [
    "class CustomDataset(Dataset):\n",
    "    def __init__(self, file_path):\n",
    "        df = pd.read_csv(file_path)\n",
    "        self.x = df.iloc[:, 0].values\n",
    "        self.y = df.iloc[:, 1].values\n",
    "        self.length = len(df)\n",
    "\n",
    "    def __getitem__(self, index):\n",
    "        x = torch.FloatTensor([self.x[index] ** 2, self.x[index]])\n",
    "        y = torch.FloatTensor([self.y[index]])\n",
    "        return x, y\n",
    "\n",
    "    def __len__(self):\n",
    "        return self.length"
   ]
  },
  {
   "cell_type": "code",
   "execution_count": 138,
   "id": "62e7ec4b",
   "metadata": {},
   "outputs": [],
   "source": [
    "class CustomModel(nn.Module):\n",
    "    def __init__(self):\n",
    "        super().__init__()\n",
    "        self.layer = nn.Linear(2, 1)\n",
    "\n",
    "    def forward(self, x):\n",
    "        x = self.layer(x)\n",
    "        return x"
   ]
  },
  {
   "cell_type": "markdown",
   "id": "8aba2445",
   "metadata": {},
   "source": [
    "### 초기화 메서드에서 super() 함수로 부모 클래스를 초기화 했으므로 역방향 연산은 정의하지 않아도 됨\n",
    "### Auto Grad 토치의 자동 기울기/변화도 계산"
   ]
  },
  {
   "cell_type": "markdown",
   "id": "207db89a",
   "metadata": {},
   "source": [
    "# 비선형 회귀"
   ]
  },
  {
   "cell_type": "code",
   "execution_count": 143,
   "id": "6c2ce81e",
   "metadata": {},
   "outputs": [],
   "source": [
    "train_dataset = CustomDataset(\"datasets/non_linear.csv\")\n",
    "train_dataloader = DataLoader(train_dataset, batch_size=128, shuffle=True, drop_last=True)"
   ]
  },
  {
   "cell_type": "code",
   "execution_count": 147,
   "id": "be34ddb7",
   "metadata": {},
   "outputs": [
    {
     "data": {
      "text/plain": [
       "<generator object Module.parameters at 0x000001BDD90FEA40>"
      ]
     },
     "execution_count": 147,
     "metadata": {},
     "output_type": "execute_result"
    }
   ],
   "source": [
    "device = \"cuda\" if torch.cuda.is_available() else \"cpu\"\n",
    "model = CustomModel().to(device)\n",
    "model.parameters()"
   ]
  },
  {
   "cell_type": "code",
   "execution_count": 148,
   "id": "f35dbb31",
   "metadata": {},
   "outputs": [],
   "source": [
    "criterion = nn.MSELoss().to(device)\n",
    "optimizer = optim.SGD(model.parameters(), lr=0.0001)"
   ]
  },
  {
   "cell_type": "code",
   "execution_count": 145,
   "id": "886b2dfe",
   "metadata": {},
   "outputs": [
    {
     "name": "stdout",
     "output_type": "stream",
     "text": [
      "Epoch : 1000, Model : [Parameter containing:\n",
      "tensor([[ 3.1155, -1.7008]], device='cuda:0', requires_grad=True), Parameter containing:\n",
      "tensor([-0.4267], device='cuda:0', requires_grad=True)], Cost : 0.443\n",
      "Epoch : 2000, Model : [Parameter containing:\n",
      "tensor([[ 3.1142, -1.7024]], device='cuda:0', requires_grad=True), Parameter containing:\n",
      "tensor([-0.3482], device='cuda:0', requires_grad=True)], Cost : 0.403\n",
      "Epoch : 3000, Model : [Parameter containing:\n",
      "tensor([[ 3.1126, -1.7023]], device='cuda:0', requires_grad=True), Parameter containing:\n",
      "tensor([-0.2764], device='cuda:0', requires_grad=True)], Cost : 0.323\n",
      "Epoch : 4000, Model : [Parameter containing:\n",
      "tensor([[ 3.1121, -1.7024]], device='cuda:0', requires_grad=True), Parameter containing:\n",
      "tensor([-0.2109], device='cuda:0', requires_grad=True)], Cost : 0.269\n",
      "Epoch : 5000, Model : [Parameter containing:\n",
      "tensor([[ 3.1103, -1.7028]], device='cuda:0', requires_grad=True), Parameter containing:\n",
      "tensor([-0.1509], device='cuda:0', requires_grad=True)], Cost : 0.281\n",
      "Epoch : 6000, Model : [Parameter containing:\n",
      "tensor([[ 3.1097, -1.7026]], device='cuda:0', requires_grad=True), Parameter containing:\n",
      "tensor([-0.0960], device='cuda:0', requires_grad=True)], Cost : 0.231\n",
      "Epoch : 7000, Model : [Parameter containing:\n",
      "tensor([[ 3.1089, -1.7024]], device='cuda:0', requires_grad=True), Parameter containing:\n",
      "tensor([-0.0460], device='cuda:0', requires_grad=True)], Cost : 0.206\n",
      "Epoch : 8000, Model : [Parameter containing:\n",
      "tensor([[ 3.1085, -1.7027]], device='cuda:0', requires_grad=True), Parameter containing:\n",
      "tensor([-5.7969e-05], device='cuda:0', requires_grad=True)], Cost : 0.203\n",
      "Epoch : 9000, Model : [Parameter containing:\n",
      "tensor([[ 3.1076, -1.7029]], device='cuda:0', requires_grad=True), Parameter containing:\n",
      "tensor([0.0420], device='cuda:0', requires_grad=True)], Cost : 0.159\n",
      "Epoch : 10000, Model : [Parameter containing:\n",
      "tensor([[ 3.1068, -1.7030]], device='cuda:0', requires_grad=True), Parameter containing:\n",
      "tensor([0.0805], device='cuda:0', requires_grad=True)], Cost : 0.162\n"
     ]
    }
   ],
   "source": [
    "for epoch in range(10000):\n",
    "    cost = 0.0\n",
    "\n",
    "    for x, y in train_dataloader:\n",
    "        x = x.to(device)\n",
    "        y = y.to(device)\n",
    "\n",
    "        output = model(x)\n",
    "        loss = criterion(output, y)\n",
    "\n",
    "        optimizer.zero_grad()\n",
    "        loss.backward()\n",
    "        optimizer.step()\n",
    "\n",
    "        cost += loss\n",
    "\n",
    "    cost = cost / len(train_dataloader)\n",
    "\n",
    "    if (epoch + 1) % 1000 == 0:\n",
    "        print(f\"Epoch : {epoch+1:4d}, Model : {list(model.parameters())}, Cost : {cost:.3f}\")"
   ]
  },
  {
   "cell_type": "code",
   "execution_count": 146,
   "id": "4ec5b0e4",
   "metadata": {},
   "outputs": [
    {
     "name": "stdout",
     "output_type": "stream",
     "text": [
      "tensor([[  1.4843],\n",
      "        [ 69.2352],\n",
      "        [357.2686]], device='cuda:0')\n"
     ]
    }
   ],
   "source": [
    "with torch.no_grad():\n",
    "    model.eval()\n",
    "    inputs = torch.FloatTensor(\n",
    "        [\n",
    "            [1 ** 2, 1],\n",
    "            [5 ** 2, 5],\n",
    "            [11 ** 2, 11]\n",
    "        ]\n",
    "    ).to(device)\n",
    "    outputs = model(inputs)\n",
    "    print(outputs)"
   ]
  },
  {
   "cell_type": "code",
   "execution_count": 149,
   "id": "596a4ba6",
   "metadata": {},
   "outputs": [],
   "source": [
    "torch.save(\n",
    "    model,\n",
    "    \"./models/model.pt\"\n",
    ")"
   ]
  },
  {
   "cell_type": "code",
   "execution_count": 150,
   "id": "38243787",
   "metadata": {},
   "outputs": [],
   "source": [
    "torch.save(\n",
    "    model.state_dict(),\n",
    "    \"./models/model_state_dict.pt\"\n",
    ")"
   ]
  },
  {
   "cell_type": "code",
   "execution_count": null,
   "id": "bd8ef5c5",
   "metadata": {},
   "outputs": [],
   "source": []
  }
 ],
 "metadata": {
  "kernelspec": {
   "display_name": "dl",
   "language": "python",
   "name": "python3"
  },
  "language_info": {
   "codemirror_mode": {
    "name": "ipython",
    "version": 3
   },
   "file_extension": ".py",
   "mimetype": "text/x-python",
   "name": "python",
   "nbconvert_exporter": "python",
   "pygments_lexer": "ipython3",
   "version": "3.12.11"
  }
 },
 "nbformat": 4,
 "nbformat_minor": 5
}
