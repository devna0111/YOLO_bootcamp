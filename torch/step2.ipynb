{
 "cells": [
  {
   "cell_type": "markdown",
   "id": "829095c1",
   "metadata": {},
   "source": [
    "# torchmetrics를 통해 모델 평가하기"
   ]
  },
  {
   "cell_type": "code",
   "execution_count": 13,
   "id": "2beb02ef",
   "metadata": {},
   "outputs": [],
   "source": [
    "# !pip install torchmetrics"
   ]
  },
  {
   "cell_type": "code",
   "execution_count": 22,
   "id": "a4941ddf",
   "metadata": {},
   "outputs": [],
   "source": [
    "import torch\n",
    "from sklearn.metrics import accuracy_score"
   ]
  },
  {
   "cell_type": "code",
   "execution_count": 23,
   "id": "bf5af22a",
   "metadata": {},
   "outputs": [
    {
     "data": {
      "text/plain": [
       "tensor([3, 1, 3, 1, 4, 0, 0, 1, 2, 3])"
      ]
     },
     "execution_count": 23,
     "metadata": {},
     "output_type": "execute_result"
    }
   ],
   "source": [
    "import numpy as np\n",
    "preds = torch.randn(10,5).softmax(dim=-1)\n",
    "preds\n",
    "preds.argmax(axis=1)"
   ]
  },
  {
   "cell_type": "code",
   "execution_count": 24,
   "id": "4f43a983",
   "metadata": {},
   "outputs": [],
   "source": [
    "target = torch.randint(5,(10,))"
   ]
  },
  {
   "cell_type": "code",
   "execution_count": 25,
   "id": "9067b5b8",
   "metadata": {},
   "outputs": [
    {
     "data": {
      "text/plain": [
       "0.1"
      ]
     },
     "execution_count": 25,
     "metadata": {},
     "output_type": "execute_result"
    }
   ],
   "source": [
    "accuracy_score(preds.argmax(axis=1), target)"
   ]
  },
  {
   "cell_type": "markdown",
   "id": "4b0d521b",
   "metadata": {},
   "source": [
    "# tensorboard로 시각화하기"
   ]
  },
  {
   "cell_type": "code",
   "execution_count": 3,
   "id": "285ce6a5",
   "metadata": {},
   "outputs": [
    {
     "name": "stdout",
     "output_type": "stream",
     "text": [
      "Epoch [20/100], Loss: 0.7256, Accuracy: 0.5100\n",
      "Epoch [40/100], Loss: 0.7193, Accuracy: 0.4800\n",
      "Epoch [60/100], Loss: 0.7141, Accuracy: 0.4800\n",
      "Epoch [80/100], Loss: 0.7097, Accuracy: 0.4900\n",
      "Epoch [100/100], Loss: 0.7061, Accuracy: 0.4900\n"
     ]
    }
   ],
   "source": [
    "import torch\n",
    "import torch.nn as nn\n",
    "import torch.optim as optim\n",
    "from torchmetrics.functional import accuracy\n",
    "from torch.utils.tensorboard import SummaryWriter\n",
    "import numpy as np\n",
    "\n",
    "# 1. TensorBoard SummaryWriter 초기화\n",
    "writer = SummaryWriter('runs/experiment_1')\n",
    "\n",
    "# 2. 간단한 모델 정의\n",
    "class SimpleModel(nn.Module):\n",
    "    def __init__(self):\n",
    "        super(SimpleModel, self).__init__()\n",
    "        self.fc1 = nn.Linear(10, 5)\n",
    "        self.fc2 = nn.Linear(5, 2)\n",
    "\n",
    "    def forward(self, x):\n",
    "        x = torch.relu(self.fc1(x))\n",
    "        x = self.fc2(x)\n",
    "        return x\n",
    "\n",
    "# 3. 데이터, 모델, 손실 함수, 옵티마이저 설정\n",
    "device = torch.device(\"cuda\" if torch.cuda.is_available() else \"cpu\")\n",
    "model = SimpleModel().to(device)\n",
    "criterion = nn.CrossEntropyLoss()\n",
    "optimizer = optim.SGD(model.parameters(), lr=0.01)\n",
    "\n",
    "# 4. 임의의 학습 데이터 생성\n",
    "X_train = torch.randn(100, 10).to(device)  # 100개의 샘플, 입력 차원 10\n",
    "y_train = torch.randint(0, 2, (100,)).to(device)  # 0 또는 1 레이블\n",
    "\n",
    "# 5. 학습 루프\n",
    "num_epochs = 100\n",
    "for epoch in range(num_epochs):\n",
    "    # Forward pass\n",
    "    outputs = model(X_train)\n",
    "    loss = criterion(outputs, y_train)\n",
    "\n",
    "    # Accuracy 계산\n",
    "    preds = outputs.softmax(dim=-1)\n",
    "    acc = accuracy(preds, y_train, task=\"multiclass\", num_classes=2)\n",
    "\n",
    "    # Backward pass 및 최적화\n",
    "    optimizer.zero_grad()\n",
    "    loss.backward()\n",
    "    optimizer.step()\n",
    "\n",
    "    # TensorBoard에 손실과 정확도 기록\n",
    "    writer.add_scalar('Loss/train', loss.item(), epoch)\n",
    "    writer.add_scalar('Accuracy/train', acc.item(), epoch)\n",
    "\n",
    "    # 진행 상황 출력\n",
    "    if (epoch + 1) % 20 == 0:\n",
    "        print(f'Epoch [{epoch+1}/{num_epochs}], Loss: {loss.item():.4f}, Accuracy: {acc.item():.4f}')\n",
    "\n",
    "# 6. TensorBoard에 모델 그래프 추가 (선택 사항)\n",
    "dummy_input = torch.randn(1, 10).to(device)\n",
    "writer.add_graph(model, dummy_input)\n",
    "\n",
    "# 7. SummaryWriter 종료\n",
    "writer.close()"
   ]
  },
  {
   "cell_type": "code",
   "execution_count": 12,
   "id": "1587e4ac",
   "metadata": {},
   "outputs": [
    {
     "data": {
      "text/plain": [
       "array([1, 1, 1, 1, 1, 1, 1, 0, 1, 1, 1, 1, 1, 1, 1, 1, 1, 1, 1, 1, 1, 1,\n",
       "       1, 1, 1, 0, 1, 1, 1, 1, 1, 1, 1, 1, 1, 1, 1, 1, 1, 1, 1, 1, 0, 1,\n",
       "       1, 1, 1, 0, 1, 1, 1, 1, 1, 1, 1, 0, 1, 1, 1, 1, 1, 1, 1, 1, 1, 0,\n",
       "       1, 1, 1, 1, 1, 1, 1, 1, 0, 1, 1, 1, 1, 1, 1, 1, 1, 1, 1, 1, 1, 1,\n",
       "       1, 1, 1, 1, 0, 1, 1, 1, 1, 1, 1, 1])"
      ]
     },
     "execution_count": 12,
     "metadata": {},
     "output_type": "execute_result"
    }
   ],
   "source": [
    "model(X_train).to('cpu').detach().numpy().argmax(axis=1)"
   ]
  },
  {
   "cell_type": "markdown",
   "id": "822057b4",
   "metadata": {},
   "source": [
    "# 검증용 데이터 세트를 통한 평가"
   ]
  },
  {
   "cell_type": "code",
   "execution_count": 14,
   "id": "8c8b72a0",
   "metadata": {},
   "outputs": [],
   "source": [
    "import torch\n",
    "import pandas as pd\n",
    "from torch import nn\n",
    "from torch import optim\n",
    "from torch.utils.data import Dataset, DataLoader, random_split"
   ]
  },
  {
   "cell_type": "code",
   "execution_count": 15,
   "id": "e97f86b6",
   "metadata": {},
   "outputs": [],
   "source": [
    "class CustomDataset(Dataset):\n",
    "    def __init__(self, file_path):\n",
    "        df = pd.read_csv(file_path)\n",
    "        self.x = df.iloc[:, 0].values\n",
    "        self.y = df.iloc[:, 1].values\n",
    "        self.length = len(df)\n",
    "\n",
    "    def __getitem__(self, index):\n",
    "        x = torch.FloatTensor([self.x[index] ** 2, self.x[index]])\n",
    "        y = torch.FloatTensor([self.y[index]])\n",
    "        return x, y\n",
    "\n",
    "    def __len__(self):\n",
    "        return self.length"
   ]
  },
  {
   "cell_type": "code",
   "execution_count": 16,
   "id": "9c3b4069",
   "metadata": {},
   "outputs": [],
   "source": [
    "class CustomModel(nn.Module):\n",
    "    def __init__(self):\n",
    "        super().__init__()\n",
    "        self.layer = nn.Linear(2, 1)\n",
    "\n",
    "    def forward(self, x):\n",
    "        x = self.layer(x)\n",
    "        return x"
   ]
  },
  {
   "cell_type": "code",
   "execution_count": 18,
   "id": "6e790137",
   "metadata": {},
   "outputs": [
    {
     "name": "stdout",
     "output_type": "stream",
     "text": [
      "Training Data Size : 160\n",
      "Validation Data Size : 20\n",
      "Testing Data Size : 20\n"
     ]
    }
   ],
   "source": [
    "dataset = CustomDataset(\"./datasets/non_linear.csv\")\n",
    "dataset_size = len(dataset)\n",
    "train_size = int(dataset_size * 0.8)\n",
    "validation_size = int(dataset_size * 0.1)\n",
    "test_size = dataset_size - train_size - validation_size\n",
    "\n",
    "train_dataset, validation_dataset, test_dataset = random_split(dataset, [train_size, validation_size, test_size])\n",
    "print(f\"Training Data Size : {len(train_dataset)}\")\n",
    "print(f\"Validation Data Size : {len(validation_dataset)}\")\n",
    "print(f\"Testing Data Size : {len(test_dataset)}\")\n",
    "\n",
    "train_dataloader = DataLoader(train_dataset, batch_size=16, shuffle=True, drop_last=True)\n",
    "validation_dataloader = DataLoader(validation_dataset, batch_size=4, shuffle=True, drop_last=True)\n",
    "test_dataloader = DataLoader(test_dataset, batch_size=4, shuffle=True, drop_last=True)"
   ]
  },
  {
   "cell_type": "code",
   "execution_count": 19,
   "id": "6a75d91c",
   "metadata": {},
   "outputs": [],
   "source": [
    "device = \"cuda\" if torch.cuda.is_available() else \"cpu\"\n",
    "model = CustomModel().to(device)\n",
    "criterion = nn.MSELoss().to(device)\n",
    "optimizer = optim.SGD(model.parameters(), lr=0.0001)"
   ]
  },
  {
   "cell_type": "code",
   "execution_count": 20,
   "id": "5edbe4bf",
   "metadata": {},
   "outputs": [
    {
     "name": "stdout",
     "output_type": "stream",
     "text": [
      "Epoch : 1000, Model : [Parameter containing:\n",
      "tensor([[ 3.1028, -1.7019]], device='cuda:0', requires_grad=True), Parameter containing:\n",
      "tensor([0.2816], device='cuda:0', requires_grad=True)], Cost : 0.096\n",
      "Epoch : 2000, Model : [Parameter containing:\n",
      "tensor([[ 3.1013, -1.7025]], device='cuda:0', requires_grad=True), Parameter containing:\n",
      "tensor([0.4050], device='cuda:0', requires_grad=True)], Cost : 0.078\n",
      "Epoch : 3000, Model : [Parameter containing:\n",
      "tensor([[ 3.1007, -1.7027]], device='cuda:0', requires_grad=True), Parameter containing:\n",
      "tensor([0.4559], device='cuda:0', requires_grad=True)], Cost : 0.076\n",
      "Epoch : 4000, Model : [Parameter containing:\n",
      "tensor([[ 3.1002, -1.7028]], device='cuda:0', requires_grad=True), Parameter containing:\n",
      "tensor([0.4769], device='cuda:0', requires_grad=True)], Cost : 0.076\n",
      "Epoch : 5000, Model : [Parameter containing:\n",
      "tensor([[ 3.1002, -1.7030]], device='cuda:0', requires_grad=True), Parameter containing:\n",
      "tensor([0.4855], device='cuda:0', requires_grad=True)], Cost : 0.077\n",
      "Epoch : 6000, Model : [Parameter containing:\n",
      "tensor([[ 3.0998, -1.7028]], device='cuda:0', requires_grad=True), Parameter containing:\n",
      "tensor([0.4890], device='cuda:0', requires_grad=True)], Cost : 0.078\n",
      "Epoch : 7000, Model : [Parameter containing:\n",
      "tensor([[ 3.1008, -1.7031]], device='cuda:0', requires_grad=True), Parameter containing:\n",
      "tensor([0.4904], device='cuda:0', requires_grad=True)], Cost : 0.078\n",
      "Epoch : 8000, Model : [Parameter containing:\n",
      "tensor([[ 3.1000, -1.7029]], device='cuda:0', requires_grad=True), Parameter containing:\n",
      "tensor([0.4910], device='cuda:0', requires_grad=True)], Cost : 0.076\n",
      "Epoch : 9000, Model : [Parameter containing:\n",
      "tensor([[ 3.1005, -1.7030]], device='cuda:0', requires_grad=True), Parameter containing:\n",
      "tensor([0.4914], device='cuda:0', requires_grad=True)], Cost : 0.078\n",
      "Epoch : 10000, Model : [Parameter containing:\n",
      "tensor([[ 3.0998, -1.7028]], device='cuda:0', requires_grad=True), Parameter containing:\n",
      "tensor([0.4914], device='cuda:0', requires_grad=True)], Cost : 0.076\n"
     ]
    }
   ],
   "source": [
    "for epoch in range(10000):\n",
    "    cost = 0.0\n",
    "\n",
    "    for x, y in train_dataloader:\n",
    "        x = x.to(device)\n",
    "        y = y.to(device)\n",
    "\n",
    "        output = model(x)\n",
    "        loss = criterion(output, y)\n",
    "\n",
    "        optimizer.zero_grad()\n",
    "        loss.backward()\n",
    "        optimizer.step()\n",
    "\n",
    "        cost += loss\n",
    "\n",
    "    cost = cost / len(train_dataloader)\n",
    "\n",
    "    if (epoch + 1) % 1000 == 0:\n",
    "        print(f\"Epoch : {epoch+1:4d}, Model : {list(model.parameters())}, Cost : {cost:.3f}\")"
   ]
  },
  {
   "cell_type": "code",
   "execution_count": null,
   "id": "c1502fb5",
   "metadata": {},
   "outputs": [
    {
     "name": "stdout",
     "output_type": "stream",
     "text": [
      "X : tensor([[27.0400,  5.2000],\n",
      "        [82.8100,  9.1000],\n",
      "        [62.4100, -7.9000],\n",
      "        [ 7.8400, -2.8000]], device='cuda:0')\n",
      "Y : tensor([[ 75.1200],\n",
      "        [242.1900],\n",
      "        [207.5900],\n",
      "        [ 29.2000]], device='cuda:0')\n",
      "Outputs : tensor([[ 75.4539],\n",
      "        [241.6859],\n",
      "        [207.3993],\n",
      "        [ 29.5614]], device='cuda:0')\n",
      "--------------------\n",
      "X : tensor([[18.4900,  4.3000],\n",
      "        [ 2.8900, -1.7000],\n",
      "        [33.6400,  5.8000],\n",
      "        [ 4.8400, -2.2000]], device='cuda:0')\n",
      "Y : tensor([[50.0800],\n",
      "        [12.7900],\n",
      "        [95.0500],\n",
      "        [19.0800]], device='cuda:0')\n",
      "Outputs : tensor([[50.4836],\n",
      "        [12.3445],\n",
      "        [94.8905],\n",
      "        [19.2405]], device='cuda:0')\n",
      "--------------------\n",
      "X : tensor([[18.4900, -4.3000],\n",
      "        [59.2900,  7.7000],\n",
      "        [94.0900,  9.7000],\n",
      "        [46.2400,  6.8000]], device='cuda:0')\n",
      "Y : tensor([[ 65.2300],\n",
      "        [171.2600],\n",
      "        [275.3100],\n",
      "        [132.0400]], device='cuda:0')\n",
      "Outputs : tensor([[ 65.1280],\n",
      "        [171.1637],\n",
      "        [275.6294],\n",
      "        [132.2446]], device='cuda:0')\n",
      "--------------------\n",
      "X : tensor([[39.6900, -6.3000],\n",
      "        [ 4.0000, -2.0000],\n",
      "        [98.0100,  9.9000],\n",
      "        [23.0400, -4.8000]], device='cuda:0')\n",
      "Y : tensor([[133.8000],\n",
      "        [ 16.5200],\n",
      "        [287.1300],\n",
      "        [ 80.1700]], device='cuda:0')\n",
      "Outputs : tensor([[134.2484],\n",
      "        [ 16.2961],\n",
      "        [287.4398],\n",
      "        [ 80.0833]], device='cuda:0')\n",
      "--------------------\n",
      "X : tensor([[26.0100, -5.1000],\n",
      "        [ 0.3600, -0.6000],\n",
      "        [96.0400,  9.8000],\n",
      "        [12.9600, -3.6000]], device='cuda:0')\n",
      "Y : tensor([[ 89.4000],\n",
      "        [  2.4800],\n",
      "        [281.4000],\n",
      "        [ 47.1500]], device='cuda:0')\n",
      "Outputs : tensor([[ 89.8004],\n",
      "        [  2.6290],\n",
      "        [281.5036],\n",
      "        [ 46.7944]], device='cuda:0')\n",
      "--------------------\n"
     ]
    }
   ],
   "source": [
    "with torch.no_grad(): # 평가용 => grad 수정이 있어선 안되기 때문에 .no_grad 메서드 활용\n",
    "    model.eval()\n",
    "    for x, y in validation_dataloader:\n",
    "        x = x.to(device)\n",
    "        y = y.to(device)\n",
    "        \n",
    "        outputs = model(x)\n",
    "        print(f\"X : {x}\")\n",
    "        print(f\"Y : {y}\")\n",
    "        print(f\"Outputs : {outputs}\")\n",
    "        print(\"--------------------\")"
   ]
  },
  {
   "cell_type": "markdown",
   "id": "98736856",
   "metadata": {},
   "source": [
    "# 모델 불러오기"
   ]
  },
  {
   "cell_type": "code",
   "execution_count": 22,
   "id": "9af209aa",
   "metadata": {},
   "outputs": [],
   "source": [
    "import torch\n",
    "from torch import nn\n",
    "\n",
    "\n",
    "class CustomModel(nn.Module):\n",
    "    def __init__(self):\n",
    "        super().__init__()\n",
    "        self.layer = nn.Linear(2, 1)\n",
    "\n",
    "    def forward(self, x):\n",
    "        x = self.layer(x)\n",
    "        return x"
   ]
  },
  {
   "cell_type": "code",
   "execution_count": 25,
   "id": "0acf3fc2",
   "metadata": {},
   "outputs": [
    {
     "name": "stdout",
     "output_type": "stream",
     "text": [
      "CustomModel(\n",
      "  (layer): Linear(in_features=2, out_features=1, bias=True)\n",
      ")\n"
     ]
    }
   ],
   "source": [
    "device = \"cuda\" if torch.cuda.is_available() else \"cpu\"\n",
    "# CustomModel 클래스 -> pytorch에서 안전하지 않은 객체로 간주\n",
    "# model = torch.load('주소', map_location = \"cuda\" or \"cpu\")\n",
    "# weight_only = False\n",
    "model = torch.load(\"models/model.pt\", map_location=device, weights_only=False)\n",
    "print(model)"
   ]
  },
  {
   "cell_type": "code",
   "execution_count": 26,
   "id": "cf621dca",
   "metadata": {},
   "outputs": [
    {
     "name": "stdout",
     "output_type": "stream",
     "text": [
      "tensor([[-0.1281],\n",
      "        [14.5276],\n",
      "        [76.9096]], device='cuda:0')\n"
     ]
    }
   ],
   "source": [
    "with torch.no_grad():\n",
    "    model.eval()\n",
    "    inputs = torch.FloatTensor(\n",
    "        [\n",
    "            [1 ** 2, 1],\n",
    "            [5 ** 2, 5],\n",
    "            [11 ** 2, 11]\n",
    "        ]\n",
    "    ).to(device)\n",
    "    outputs = model(inputs)\n",
    "    print(outputs)"
   ]
  },
  {
   "cell_type": "markdown",
   "id": "375516d6",
   "metadata": {},
   "source": [
    "# 모델 전체를 저장하고 불러오는 방법이 아닌, 모델의 상태값만 저장하고 불러옴. 모델의 매개변수만 저장하여 활용"
   ]
  },
  {
   "cell_type": "code",
   "execution_count": 27,
   "id": "3813e61d",
   "metadata": {},
   "outputs": [],
   "source": [
    "import torch\n",
    "from torch import nn\n",
    "\n",
    "\n",
    "class CustomModel(nn.Module):\n",
    "    def __init__(self):\n",
    "        super().__init__()\n",
    "        self.layer = nn.Linear(2, 1)\n",
    "\n",
    "    def forward(self, x):\n",
    "        x = self.layer(x)\n",
    "        return x"
   ]
  },
  {
   "cell_type": "code",
   "execution_count": null,
   "id": "09643c47",
   "metadata": {},
   "outputs": [
    {
     "data": {
      "text/plain": [
       "<All keys matched successfully>"
      ]
     },
     "execution_count": 29,
     "metadata": {},
     "output_type": "execute_result"
    }
   ],
   "source": [
    "device = \"cuda\" if torch.cuda.is_available() else \"cpu\"\n",
    "model = CustomModel().to(device)\n",
    "\n",
    "model_state_dict = torch.load(\"./models/model_state_dict.pt\", map_location=device) # 상태 값만 가져오기\n",
    "model.load_state_dict(model_state_dict)"
   ]
  },
  {
   "cell_type": "code",
   "execution_count": 30,
   "id": "1342fa53",
   "metadata": {},
   "outputs": [],
   "source": [
    "with torch.no_grad():\n",
    "    model.eval()\n",
    "    inputs = torch.FloatTensor(\n",
    "        [\n",
    "            [1 ** 2, 1],\n",
    "            [5 ** 2, 5],\n",
    "            [11 ** 2, 11]\n",
    "        ]\n",
    "    ).to(device)\n",
    "    outputs = model(inputs)"
   ]
  },
  {
   "cell_type": "code",
   "execution_count": 31,
   "id": "c5e920f9",
   "metadata": {},
   "outputs": [
    {
     "name": "stdout",
     "output_type": "stream",
     "text": [
      "tensor([[-0.1281],\n",
      "        [14.5276],\n",
      "        [76.9096]], device='cuda:0')\n"
     ]
    }
   ],
   "source": [
    "print(outputs)"
   ]
  },
  {
   "cell_type": "markdown",
   "id": "5d5ccdc8",
   "metadata": {},
   "source": [
    "# 체크포인트 저장"
   ]
  },
  {
   "cell_type": "code",
   "execution_count": 32,
   "id": "bef9e48e",
   "metadata": {},
   "outputs": [],
   "source": [
    "import torch\n",
    "import pandas as pd\n",
    "from torch import nn\n",
    "from torch import optim\n",
    "from torch.utils.data import Dataset, DataLoader\n",
    "\n",
    "\n",
    "class CustomDataset(Dataset):\n",
    "    def __init__(self, file_path):\n",
    "        df = pd.read_csv(file_path)\n",
    "        self.x = df.iloc[:, 0].values\n",
    "        self.y = df.iloc[:, 1].values\n",
    "        self.length = len(df)\n",
    "\n",
    "    def __getitem__(self, index):\n",
    "        x = torch.FloatTensor([self.x[index] ** 2, self.x[index]])\n",
    "        y = torch.FloatTensor([self.y[index]])\n",
    "        return x, y\n",
    "\n",
    "    def __len__(self):\n",
    "        return self.length\n",
    "\n",
    "class CustomModel(nn.Module):\n",
    "    def __init__(self):\n",
    "        super().__init__()\n",
    "        self.layer = nn.Linear(2, 1)\n",
    "\n",
    "    def forward(self, x):\n",
    "        x = self.layer(x)\n",
    "        return x"
   ]
  },
  {
   "cell_type": "code",
   "execution_count": 34,
   "id": "5fad69f9",
   "metadata": {},
   "outputs": [],
   "source": [
    "\n",
    "train_dataset = CustomDataset(\"datasets/non_linear.csv\")\n",
    "train_dataloader = DataLoader(train_dataset, batch_size=128, shuffle=True, drop_last=True)\n",
    "\n",
    "device = \"cuda\" if torch.cuda.is_available() else \"cpu\"\n",
    "model = CustomModel().to(device)\n",
    "criterion = nn.MSELoss().to(device)\n",
    "optimizer = optim.SGD(model.parameters(), lr=0.0001)"
   ]
  },
  {
   "cell_type": "code",
   "execution_count": 36,
   "id": "b1665877",
   "metadata": {},
   "outputs": [],
   "source": [
    "checkpoint = 1\n",
    "for epoch in range(10000):\n",
    "    cost = 0.0\n",
    "\n",
    "    for x, y in train_dataloader:\n",
    "        x = x.to(device)\n",
    "        y = y.to(device)\n",
    "\n",
    "        output = model(x)\n",
    "        loss = criterion(output, y)\n",
    "\n",
    "        optimizer.zero_grad()\n",
    "        loss.backward()\n",
    "        optimizer.step()\n",
    "\n",
    "        cost += loss\n",
    "\n",
    "    cost = cost / len(train_dataloader)\n",
    "\n",
    "    if (epoch + 1) % 1000 == 0:\n",
    "        torch.save(\n",
    "            {\n",
    "                \"model\": \"CustomModel\",\n",
    "                \"epoch\": epoch,\n",
    "                \"model_state_dict\": model.state_dict(),\n",
    "                \"optimizer_state_dict\": optimizer.state_dict(),\n",
    "                \"cost\": cost,\n",
    "                \"description\": f\"CustomModel 체크포인트-{checkpoint}\",\n",
    "            },\n",
    "            f\"models/checkpoint-{checkpoint}.pt\",\n",
    "        )\n",
    "        checkpoint += 1"
   ]
  },
  {
   "cell_type": "code",
   "execution_count": 37,
   "id": "cf0af142",
   "metadata": {},
   "outputs": [
    {
     "name": "stdout",
     "output_type": "stream",
     "text": [
      "tensor([[  1.9256],\n",
      "        [ 69.4991],\n",
      "        [356.8264]], device='cuda:0')\n"
     ]
    }
   ],
   "source": [
    "with torch.no_grad():\n",
    "    model.eval()\n",
    "    inputs = torch.FloatTensor(\n",
    "        [\n",
    "            [1 ** 2, 1],\n",
    "            [5 ** 2, 5],\n",
    "            [11 ** 2, 11]\n",
    "        ]\n",
    "    ).to(device)\n",
    "    outputs = model(inputs)\n",
    "    print(outputs)"
   ]
  },
  {
   "cell_type": "markdown",
   "id": "60b59842",
   "metadata": {},
   "source": [
    "# 저장한 체크포인트에서 모델 불러오기"
   ]
  },
  {
   "cell_type": "code",
   "execution_count": 38,
   "id": "98f162a9",
   "metadata": {},
   "outputs": [],
   "source": [
    "import torch\n",
    "import pandas as pd\n",
    "from torch import nn\n",
    "from torch import optim\n",
    "from torch.utils.data import Dataset, DataLoader\n",
    "\n",
    "\n",
    "class CustomDataset(Dataset):\n",
    "    def __init__(self, file_path):\n",
    "        df = pd.read_csv(file_path)\n",
    "        self.x = df.iloc[:, 0].values\n",
    "        self.y = df.iloc[:, 1].values\n",
    "        self.length = len(df)\n",
    "\n",
    "    def __getitem__(self, index):\n",
    "        x = torch.FloatTensor([self.x[index] ** 2, self.x[index]])\n",
    "        y = torch.FloatTensor([self.y[index]])\n",
    "        return x, y\n",
    "\n",
    "    def __len__(self):\n",
    "        return self.length\n",
    "\n",
    "class CustomModel(nn.Module):\n",
    "    def __init__(self):\n",
    "        super().__init__()\n",
    "        self.layer = nn.Linear(2, 1)\n",
    "\n",
    "    def forward(self, x):\n",
    "        x = self.layer(x)\n",
    "        return x"
   ]
  },
  {
   "cell_type": "code",
   "execution_count": 39,
   "id": "8bfd3b0f",
   "metadata": {},
   "outputs": [],
   "source": [
    "train_dataset = CustomDataset(\"./datasets/non_linear.csv\")\n",
    "train_dataloader = DataLoader(train_dataset, batch_size=128, shuffle=True, drop_last=True)"
   ]
  },
  {
   "cell_type": "code",
   "execution_count": 40,
   "id": "97d9fd9b",
   "metadata": {},
   "outputs": [],
   "source": [
    "device = \"cuda\" if torch.cuda.is_available() else \"cpu\"\n",
    "model = CustomModel().to(device)\n",
    "criterion = nn.MSELoss().to(device)\n",
    "optimizer = optim.SGD(model.parameters(), lr=0.0001)"
   ]
  },
  {
   "cell_type": "code",
   "execution_count": 41,
   "id": "8accffa3",
   "metadata": {},
   "outputs": [
    {
     "name": "stdout",
     "output_type": "stream",
     "text": [
      "CustomModel 체크포인트-6\n"
     ]
    }
   ],
   "source": [
    "checkpoint = torch.load(\"./models/checkpoint-6.pt\")\n",
    "model.load_state_dict(checkpoint[\"model_state_dict\"])\n",
    "optimizer.load_state_dict(checkpoint[\"optimizer_state_dict\"])\n",
    "checkpoint_epoch = checkpoint[\"epoch\"]\n",
    "checkpoint_description = checkpoint[\"description\"]\n",
    "print(checkpoint_description)"
   ]
  },
  {
   "cell_type": "code",
   "execution_count": 42,
   "id": "68d1fbc4",
   "metadata": {},
   "outputs": [
    {
     "name": "stdout",
     "output_type": "stream",
     "text": [
      "{'model': 'CustomModel', 'epoch': 5999, 'model_state_dict': OrderedDict({'layer.weight': tensor([[ 3.0992, -1.7032]], device='cuda:0'), 'layer.bias': tensor([0.5448], device='cuda:0')}), 'optimizer_state_dict': {'state': {}, 'param_groups': [{'lr': 0.0001, 'momentum': 0, 'dampening': 0, 'weight_decay': 0, 'nesterov': False, 'maximize': False, 'foreach': None, 'differentiable': False, 'fused': None, 'params': [0, 1]}]}, 'cost': tensor(0.0792, device='cuda:0', requires_grad=True), 'description': 'CustomModel 체크포인트-6'}\n"
     ]
    }
   ],
   "source": [
    "print(checkpoint)"
   ]
  },
  {
   "cell_type": "code",
   "execution_count": 43,
   "id": "6dc5f554",
   "metadata": {},
   "outputs": [
    {
     "name": "stdout",
     "output_type": "stream",
     "text": [
      "Epoch : 7000, Model : [Parameter containing:\n",
      "tensor([[ 3.0992, -1.7032]], device='cuda:0', requires_grad=True), Parameter containing:\n",
      "tensor([0.5405], device='cuda:0', requires_grad=True)], Cost : 0.079\n",
      "Epoch : 8000, Model : [Parameter containing:\n",
      "tensor([[ 3.0994, -1.7035]], device='cuda:0', requires_grad=True), Parameter containing:\n",
      "tensor([0.5365], device='cuda:0', requires_grad=True)], Cost : 0.085\n",
      "Epoch : 9000, Model : [Parameter containing:\n",
      "tensor([[ 3.0990, -1.7033]], device='cuda:0', requires_grad=True), Parameter containing:\n",
      "tensor([0.5329], device='cuda:0', requires_grad=True)], Cost : 0.071\n",
      "Epoch : 10000, Model : [Parameter containing:\n",
      "tensor([[ 3.0992, -1.7032]], device='cuda:0', requires_grad=True), Parameter containing:\n",
      "tensor([0.5295], device='cuda:0', requires_grad=True)], Cost : 0.077\n"
     ]
    }
   ],
   "source": [
    "for epoch in range(checkpoint_epoch + 1, 10000):\n",
    "    cost = 0.0\n",
    "\n",
    "    for x, y in train_dataloader:\n",
    "        x = x.to(device)\n",
    "        y = y.to(device)\n",
    "\n",
    "        output = model(x)\n",
    "        loss = criterion(output, y)\n",
    "\n",
    "        optimizer.zero_grad()\n",
    "        loss.backward()\n",
    "        optimizer.step()\n",
    "\n",
    "        cost += loss\n",
    "        if (epoch + 1) % 1000 == 0:\n",
    "            print(f\"Epoch : {epoch+1:4d}, Model : {list(model.parameters())}, Cost : {cost:.3f}\")"
   ]
  },
  {
   "cell_type": "markdown",
   "id": "12a5b99f",
   "metadata": {},
   "source": [
    "### 텐서플로우랑 다르게 중간 체크포인트를 통해 모델의 학습 내용을 이어서 진행이 가능(텐서플로우도 가능하려나?)"
   ]
  },
  {
   "cell_type": "markdown",
   "id": "3b388bf7",
   "metadata": {},
   "source": [
    "# 이진 분류 예시"
   ]
  },
  {
   "cell_type": "code",
   "execution_count": 44,
   "id": "b97b9898",
   "metadata": {},
   "outputs": [],
   "source": [
    "import torch\n",
    "import pandas as pd\n",
    "from torch import nn\n",
    "from torch import optim\n",
    "from torch.utils.data import Dataset, DataLoader, random_split"
   ]
  },
  {
   "cell_type": "code",
   "execution_count": 45,
   "id": "852f42fc",
   "metadata": {},
   "outputs": [],
   "source": [
    "class CustomDataset(Dataset):\n",
    "    def __init__(self, file_path):\n",
    "        df = pd.read_csv(file_path)\n",
    "        self.x1 = df.iloc[:, 0].values\n",
    "        self.x2 = df.iloc[:, 1].values\n",
    "        self.x3 = df.iloc[:, 2].values\n",
    "        self.y = df.iloc[:, 3].values\n",
    "        self.length = len(df)\n",
    "\n",
    "    def __getitem__(self, index):\n",
    "        x = torch.FloatTensor([self.x1[index], self.x2[index], self.x3[index]])\n",
    "        y = torch.FloatTensor([int(self.y[index])])\n",
    "        return x, y\n",
    "\n",
    "    def __len__(self):\n",
    "        return self.length"
   ]
  },
  {
   "cell_type": "code",
   "execution_count": 46,
   "id": "f89d6b61",
   "metadata": {},
   "outputs": [],
   "source": [
    "class CustomModel(nn.Module):\n",
    "    def __init__(self):\n",
    "        super().__init__()\n",
    "        self.layer = nn.Sequential(\n",
    "          nn.Linear(3, 1),\n",
    "          nn.Sigmoid()\n",
    "        )\n",
    "\n",
    "    def forward(self, x):\n",
    "        x = self.layer(x)\n",
    "        return x"
   ]
  },
  {
   "cell_type": "code",
   "execution_count": 47,
   "id": "d9fbfa85",
   "metadata": {},
   "outputs": [],
   "source": [
    "dataset = CustomDataset(\"./datasets/binary.csv\")\n",
    "dataset_size = len(dataset)\n",
    "train_size = int(dataset_size * 0.8)\n",
    "validation_size = int(dataset_size * 0.1)\n",
    "test_size = dataset_size - train_size - validation_size\n",
    "\n",
    "train_dataset, validation_dataset, test_dataset = random_split(dataset, [train_size, validation_size, test_size], torch.manual_seed(4))\n",
    "train_dataloader = DataLoader(train_dataset, batch_size=64, shuffle=True, drop_last=True)\n",
    "validation_dataloader = DataLoader(validation_dataset, batch_size=4, shuffle=True, drop_last=True)\n",
    "test_dataloader = DataLoader(test_dataset, batch_size=4, shuffle=True, drop_last=True)"
   ]
  },
  {
   "cell_type": "code",
   "execution_count": null,
   "id": "f8b08771",
   "metadata": {},
   "outputs": [],
   "source": [
    "device = \"cuda\" if torch.cuda.is_available() else \"cpu\"\n",
    "model = CustomModel().to(device)\n",
    "criterion = nn.BCELoss().to(device) # 이진분류로 BinaryCrossEntropyLoss 활용\n",
    "optimizer = optim.SGD(model.parameters(), lr=0.0001)"
   ]
  },
  {
   "cell_type": "code",
   "execution_count": 50,
   "id": "554e0dac",
   "metadata": {},
   "outputs": [
    {
     "name": "stdout",
     "output_type": "stream",
     "text": [
      "Epoch : 1000, Model : [Parameter containing:\n",
      "tensor([[0.0035, 0.0004, 0.0043]], device='cuda:0', requires_grad=True), Parameter containing:\n",
      "tensor([-0.0974], device='cuda:0', requires_grad=True)], Cost : 0.657\n",
      "Epoch : 2000, Model : [Parameter containing:\n",
      "tensor([[0.0046, 0.0021, 0.0056]], device='cuda:0', requires_grad=True), Parameter containing:\n",
      "tensor([-0.2223], device='cuda:0', requires_grad=True)], Cost : 0.646\n",
      "Epoch : 3000, Model : [Parameter containing:\n",
      "tensor([[0.0041, 0.0016, 0.0048]], device='cuda:0', requires_grad=True), Parameter containing:\n",
      "tensor([-0.3441], device='cuda:0', requires_grad=True)], Cost : 0.633\n",
      "Epoch : 4000, Model : [Parameter containing:\n",
      "tensor([[0.0054, 0.0025, 0.0056]], device='cuda:0', requires_grad=True), Parameter containing:\n",
      "tensor([-0.4630], device='cuda:0', requires_grad=True)], Cost : 0.622\n",
      "Epoch : 5000, Model : [Parameter containing:\n",
      "tensor([[0.0059, 0.0036, 0.0065]], device='cuda:0', requires_grad=True), Parameter containing:\n",
      "tensor([-0.5791], device='cuda:0', requires_grad=True)], Cost : 0.611\n",
      "Epoch : 6000, Model : [Parameter containing:\n",
      "tensor([[0.0070, 0.0040, 0.0072]], device='cuda:0', requires_grad=True), Parameter containing:\n",
      "tensor([-0.6923], device='cuda:0', requires_grad=True)], Cost : 0.599\n",
      "Epoch : 7000, Model : [Parameter containing:\n",
      "tensor([[0.0077, 0.0053, 0.0084]], device='cuda:0', requires_grad=True), Parameter containing:\n",
      "tensor([-0.8028], device='cuda:0', requires_grad=True)], Cost : 0.589\n",
      "Epoch : 8000, Model : [Parameter containing:\n",
      "tensor([[0.0074, 0.0052, 0.0083]], device='cuda:0', requires_grad=True), Parameter containing:\n",
      "tensor([-0.9108], device='cuda:0', requires_grad=True)], Cost : 0.576\n",
      "Epoch : 9000, Model : [Parameter containing:\n",
      "tensor([[0.0083, 0.0068, 0.0090]], device='cuda:0', requires_grad=True), Parameter containing:\n",
      "tensor([-1.0162], device='cuda:0', requires_grad=True)], Cost : 0.568\n",
      "Epoch : 10000, Model : [Parameter containing:\n",
      "tensor([[0.0088, 0.0069, 0.0094]], device='cuda:0', requires_grad=True), Parameter containing:\n",
      "tensor([-1.1192], device='cuda:0', requires_grad=True)], Cost : 0.562\n"
     ]
    }
   ],
   "source": [
    "for epoch in range(10000):\n",
    "    cost = 0.0\n",
    "\n",
    "    for x, y in train_dataloader:\n",
    "        x = x.to(device)\n",
    "        y = y.to(device)\n",
    "\n",
    "        output = model(x)\n",
    "        loss = criterion(output, y)\n",
    "\n",
    "        optimizer.zero_grad()\n",
    "        loss.backward()\n",
    "        optimizer.step()\n",
    "\n",
    "        cost += loss\n",
    "\n",
    "    cost = cost / len(train_dataloader)\n",
    "\n",
    "    if (epoch + 1) % 1000 == 0:\n",
    "        print(f\"Epoch : {epoch+1:4d}, Model : {list(model.parameters())}, Cost : {cost:.3f}\")"
   ]
  },
  {
   "cell_type": "code",
   "execution_count": 51,
   "id": "70dfd7ed",
   "metadata": {},
   "outputs": [
    {
     "name": "stdout",
     "output_type": "stream",
     "text": [
      "tensor([[0.4688],\n",
      "        [0.6419],\n",
      "        [0.3297],\n",
      "        [0.6899]], device='cuda:0')\n",
      "tensor([[False],\n",
      "        [ True],\n",
      "        [False],\n",
      "        [ True]], device='cuda:0')\n",
      "--------------------\n",
      "tensor([[0.6414],\n",
      "        [0.5337],\n",
      "        [0.3580],\n",
      "        [0.3272]], device='cuda:0')\n",
      "tensor([[ True],\n",
      "        [ True],\n",
      "        [False],\n",
      "        [False]], device='cuda:0')\n",
      "--------------------\n",
      "tensor([[0.6265],\n",
      "        [0.6919],\n",
      "        [0.7350],\n",
      "        [0.6624]], device='cuda:0')\n",
      "tensor([[True],\n",
      "        [True],\n",
      "        [True],\n",
      "        [True]], device='cuda:0')\n",
      "--------------------\n",
      "tensor([[0.5144],\n",
      "        [0.3994],\n",
      "        [0.6239],\n",
      "        [0.6858]], device='cuda:0')\n",
      "tensor([[ True],\n",
      "        [False],\n",
      "        [ True],\n",
      "        [ True]], device='cuda:0')\n",
      "--------------------\n",
      "tensor([[0.6241],\n",
      "        [0.7101],\n",
      "        [0.6372],\n",
      "        [0.5948]], device='cuda:0')\n",
      "tensor([[True],\n",
      "        [True],\n",
      "        [True],\n",
      "        [True]], device='cuda:0')\n",
      "--------------------\n",
      "tensor([[0.5948],\n",
      "        [0.6759],\n",
      "        [0.6039],\n",
      "        [0.5307]], device='cuda:0')\n",
      "tensor([[True],\n",
      "        [True],\n",
      "        [True],\n",
      "        [True]], device='cuda:0')\n",
      "--------------------\n",
      "tensor([[0.4528],\n",
      "        [0.6365],\n",
      "        [0.6018],\n",
      "        [0.4217]], device='cuda:0')\n",
      "tensor([[False],\n",
      "        [ True],\n",
      "        [ True],\n",
      "        [False]], device='cuda:0')\n",
      "--------------------\n",
      "tensor([[0.6025],\n",
      "        [0.5859],\n",
      "        [0.5350],\n",
      "        [0.5174]], device='cuda:0')\n",
      "tensor([[True],\n",
      "        [True],\n",
      "        [True],\n",
      "        [True]], device='cuda:0')\n",
      "--------------------\n",
      "tensor([[0.6949],\n",
      "        [0.7013],\n",
      "        [0.4340],\n",
      "        [0.5107]], device='cuda:0')\n",
      "tensor([[ True],\n",
      "        [ True],\n",
      "        [False],\n",
      "        [ True]], device='cuda:0')\n",
      "--------------------\n",
      "tensor([[0.7000],\n",
      "        [0.6070],\n",
      "        [0.6686],\n",
      "        [0.6561]], device='cuda:0')\n",
      "tensor([[True],\n",
      "        [True],\n",
      "        [True],\n",
      "        [True]], device='cuda:0')\n",
      "--------------------\n",
      "tensor([[0.7755],\n",
      "        [0.5110],\n",
      "        [0.7390],\n",
      "        [0.6727]], device='cuda:0')\n",
      "tensor([[True],\n",
      "        [True],\n",
      "        [True],\n",
      "        [True]], device='cuda:0')\n",
      "--------------------\n",
      "tensor([[0.5357],\n",
      "        [0.4087],\n",
      "        [0.7194],\n",
      "        [0.6849]], device='cuda:0')\n",
      "tensor([[ True],\n",
      "        [False],\n",
      "        [ True],\n",
      "        [ True]], device='cuda:0')\n",
      "--------------------\n",
      "tensor([[0.5386],\n",
      "        [0.6603],\n",
      "        [0.6904],\n",
      "        [0.6728]], device='cuda:0')\n",
      "tensor([[True],\n",
      "        [True],\n",
      "        [True],\n",
      "        [True]], device='cuda:0')\n",
      "--------------------\n",
      "tensor([[0.5707],\n",
      "        [0.5293],\n",
      "        [0.4719],\n",
      "        [0.6786]], device='cuda:0')\n",
      "tensor([[ True],\n",
      "        [ True],\n",
      "        [False],\n",
      "        [ True]], device='cuda:0')\n",
      "--------------------\n",
      "tensor([[0.4305],\n",
      "        [0.5798],\n",
      "        [0.5047],\n",
      "        [0.7504]], device='cuda:0')\n",
      "tensor([[False],\n",
      "        [ True],\n",
      "        [ True],\n",
      "        [ True]], device='cuda:0')\n",
      "--------------------\n",
      "tensor([[0.4696],\n",
      "        [0.6832],\n",
      "        [0.7201],\n",
      "        [0.3845]], device='cuda:0')\n",
      "tensor([[False],\n",
      "        [ True],\n",
      "        [ True],\n",
      "        [False]], device='cuda:0')\n",
      "--------------------\n",
      "tensor([[0.6285],\n",
      "        [0.3608],\n",
      "        [0.5136],\n",
      "        [0.3287]], device='cuda:0')\n",
      "tensor([[ True],\n",
      "        [False],\n",
      "        [ True],\n",
      "        [False]], device='cuda:0')\n",
      "--------------------\n",
      "tensor([[0.5441],\n",
      "        [0.5821],\n",
      "        [0.4878],\n",
      "        [0.4252]], device='cuda:0')\n",
      "tensor([[ True],\n",
      "        [ True],\n",
      "        [False],\n",
      "        [False]], device='cuda:0')\n",
      "--------------------\n",
      "tensor([[0.6968],\n",
      "        [0.6338],\n",
      "        [0.6079],\n",
      "        [0.3500]], device='cuda:0')\n",
      "tensor([[ True],\n",
      "        [ True],\n",
      "        [ True],\n",
      "        [False]], device='cuda:0')\n",
      "--------------------\n",
      "tensor([[0.5615],\n",
      "        [0.5344],\n",
      "        [0.5353],\n",
      "        [0.5486]], device='cuda:0')\n",
      "tensor([[True],\n",
      "        [True],\n",
      "        [True],\n",
      "        [True]], device='cuda:0')\n",
      "--------------------\n",
      "tensor([[0.4546],\n",
      "        [0.7464],\n",
      "        [0.5887],\n",
      "        [0.3726]], device='cuda:0')\n",
      "tensor([[False],\n",
      "        [ True],\n",
      "        [ True],\n",
      "        [False]], device='cuda:0')\n",
      "--------------------\n",
      "tensor([[0.6576],\n",
      "        [0.7205],\n",
      "        [0.6861],\n",
      "        [0.6335]], device='cuda:0')\n",
      "tensor([[True],\n",
      "        [True],\n",
      "        [True],\n",
      "        [True]], device='cuda:0')\n",
      "--------------------\n",
      "tensor([[0.6808],\n",
      "        [0.7458],\n",
      "        [0.5888],\n",
      "        [0.7458]], device='cuda:0')\n",
      "tensor([[True],\n",
      "        [True],\n",
      "        [True],\n",
      "        [True]], device='cuda:0')\n",
      "--------------------\n",
      "tensor([[0.6529],\n",
      "        [0.6196],\n",
      "        [0.3334],\n",
      "        [0.7008]], device='cuda:0')\n",
      "tensor([[ True],\n",
      "        [ True],\n",
      "        [False],\n",
      "        [ True]], device='cuda:0')\n",
      "--------------------\n",
      "tensor([[0.4211],\n",
      "        [0.5309],\n",
      "        [0.6103],\n",
      "        [0.3470]], device='cuda:0')\n",
      "tensor([[False],\n",
      "        [ True],\n",
      "        [ True],\n",
      "        [False]], device='cuda:0')\n",
      "--------------------\n"
     ]
    }
   ],
   "source": [
    "with torch.no_grad():\n",
    "    model.eval()\n",
    "    for x, y in validation_dataloader:\n",
    "        x = x.to(device)\n",
    "        y = y.to(device)\n",
    "        \n",
    "        outputs = model(x)\n",
    "\n",
    "        print(outputs)\n",
    "        print(outputs >= torch.FloatTensor([0.5]).to(device))\n",
    "        print(\"--------------------\")"
   ]
  },
  {
   "cell_type": "markdown",
   "id": "a4cf64ba",
   "metadata": {},
   "source": [
    "# 단층 퍼셉트론 구조"
   ]
  },
  {
   "cell_type": "code",
   "execution_count": 52,
   "id": "eb3cb8fe",
   "metadata": {},
   "outputs": [],
   "source": [
    "import torch\n",
    "import pandas as pd\n",
    "from torch import nn\n",
    "from torch import optim\n",
    "from torch.utils.data import Dataset, DataLoader\n",
    "\n",
    "\n",
    "class CustomDataset(Dataset):\n",
    "    def __init__(self, file_path):\n",
    "        df = pd.read_csv(file_path)\n",
    "        self.x1 = df.iloc[:, 0].values\n",
    "        self.x2 = df.iloc[:, 1].values\n",
    "        self.y = df.iloc[:, 2].values\n",
    "        self.length = len(df)\n",
    "\n",
    "    def __getitem__(self, index):\n",
    "        x = torch.FloatTensor([self.x1[index], self.x2[index]])\n",
    "        y = torch.FloatTensor([self.y[index]])\n",
    "        return x, y\n",
    "\n",
    "    def __len__(self):\n",
    "        return self.length\n",
    "\n",
    "class CustomModel(nn.Module):\n",
    "    def __init__(self):\n",
    "        super().__init__()\n",
    "\n",
    "        self.layer = nn.Sequential(\n",
    "            nn.Linear(2, 1),\n",
    "            nn.Sigmoid()\n",
    "        )\n",
    "\n",
    "    def forward(self, x):\n",
    "        x = self.layer(x)\n",
    "        return x"
   ]
  },
  {
   "cell_type": "code",
   "execution_count": 53,
   "id": "602751a1",
   "metadata": {},
   "outputs": [],
   "source": [
    "train_dataset = CustomDataset(\"./datasets/perceptron.csv\")\n",
    "train_dataloader = DataLoader(train_dataset, batch_size=64, shuffle=True, drop_last=True)"
   ]
  },
  {
   "cell_type": "code",
   "execution_count": 54,
   "id": "e1783fa5",
   "metadata": {},
   "outputs": [],
   "source": [
    "device = \"cuda\" if torch.cuda.is_available() else \"cpu\"\n",
    "model = CustomModel().to(device)\n",
    "criterion = nn.BCELoss().to(device)\n",
    "optimizer = optim.SGD(model.parameters(), lr=0.01)"
   ]
  },
  {
   "cell_type": "code",
   "execution_count": 55,
   "id": "ac12ab49",
   "metadata": {},
   "outputs": [
    {
     "name": "stderr",
     "output_type": "stream",
     "text": [
      "C:\\Users\\601\\AppData\\Local\\Temp\\ipykernel_1044\\999614697.py:17: DeprecationWarning: In future, it will be an error for 'np.bool' scalars to be interpreted as an index\n",
      "  x = torch.FloatTensor([self.x1[index], self.x2[index]])\n",
      "C:\\Users\\601\\AppData\\Local\\Temp\\ipykernel_1044\\999614697.py:18: DeprecationWarning: In future, it will be an error for 'np.bool' scalars to be interpreted as an index\n",
      "  y = torch.FloatTensor([self.y[index]])\n"
     ]
    },
    {
     "name": "stdout",
     "output_type": "stream",
     "text": [
      "Epoch : 1000, Cost : 0.692\n",
      "Epoch : 2000, Cost : 0.692\n",
      "Epoch : 3000, Cost : 0.692\n",
      "Epoch : 4000, Cost : 0.692\n",
      "Epoch : 5000, Cost : 0.692\n",
      "Epoch : 6000, Cost : 0.692\n",
      "Epoch : 7000, Cost : 0.692\n",
      "Epoch : 8000, Cost : 0.691\n",
      "Epoch : 9000, Cost : 0.692\n",
      "Epoch : 10000, Cost : 0.692\n"
     ]
    }
   ],
   "source": [
    "for epoch in range(10000):\n",
    "    cost = 0.0\n",
    "\n",
    "    for x, y in train_dataloader:\n",
    "        x = x.to(device)\n",
    "        y = y.to(device)\n",
    "\n",
    "        output = model(x)\n",
    "        loss = criterion(output, y)\n",
    "\n",
    "        optimizer.zero_grad()\n",
    "        loss.backward()\n",
    "        optimizer.step()\n",
    "\n",
    "        cost += loss\n",
    "\n",
    "    cost = cost / len(train_dataloader)\n",
    "\n",
    "    if (epoch + 1) % 1000 == 0:\n",
    "        print(f\"Epoch : {epoch+1:4d}, Cost : {cost:.3f}\")"
   ]
  },
  {
   "cell_type": "code",
   "execution_count": 56,
   "id": "78d5945f",
   "metadata": {},
   "outputs": [
    {
     "name": "stdout",
     "output_type": "stream",
     "text": [
      "---------\n",
      "tensor([[0.4663],\n",
      "        [0.4983],\n",
      "        [0.5019],\n",
      "        [0.5339]], device='cuda:0')\n",
      "tensor([[ True],\n",
      "        [ True],\n",
      "        [False],\n",
      "        [False]], device='cuda:0')\n"
     ]
    }
   ],
   "source": [
    "with torch.no_grad():\n",
    "    model.eval()\n",
    "    inputs = torch.FloatTensor([\n",
    "        [0, 0],\n",
    "        [0, 1],\n",
    "        [1, 0],\n",
    "        [1, 1]\n",
    "    ]).to(device)\n",
    "    outputs = model(inputs)\n",
    "    \n",
    "    print(\"---------\")\n",
    "    print(outputs)\n",
    "    print(outputs <= 0.5)"
   ]
  },
  {
   "cell_type": "markdown",
   "id": "928f088d",
   "metadata": {},
   "source": [
    "# 다층 퍼셉트론 구조"
   ]
  },
  {
   "cell_type": "code",
   "execution_count": 57,
   "id": "ec446272",
   "metadata": {},
   "outputs": [],
   "source": [
    "import torch\n",
    "import pandas as pd\n",
    "from torch import nn\n",
    "from torch import optim\n",
    "from torch.utils.data import Dataset, DataLoader"
   ]
  },
  {
   "cell_type": "code",
   "execution_count": 58,
   "id": "93399ada",
   "metadata": {},
   "outputs": [],
   "source": [
    "class CustomDataset(Dataset):\n",
    "    def __init__(self, file_path):\n",
    "        df = pd.read_csv(file_path)\n",
    "        self.x1 = df.iloc[:, 0].values\n",
    "        self.x2 = df.iloc[:, 1].values\n",
    "        self.y = df.iloc[:, 2].values\n",
    "        self.length = len(df)\n",
    "\n",
    "    def __getitem__(self, index):\n",
    "        x = torch.FloatTensor([self.x1[index], self.x2[index]])\n",
    "        y = torch.FloatTensor([self.y[index]])\n",
    "        return x, y\n",
    "\n",
    "    def __len__(self):\n",
    "        return self.length\n",
    "\n",
    "class CustomModel(nn.Module):\n",
    "    def __init__(self):\n",
    "        super().__init__()\n",
    "\n",
    "        self.layer1 = nn.Sequential(\n",
    "            nn.Linear(2, 2),\n",
    "            nn.Sigmoid()\n",
    "        )\n",
    "        self.layer2 = nn.Sequential(\n",
    "            nn.Linear(2, 1),\n",
    "            nn.Sigmoid()\n",
    "        )\n",
    "\n",
    "    def forward(self, x):\n",
    "        x = self.layer1(x)\n",
    "        x = self.layer2(x)\n",
    "        return x"
   ]
  },
  {
   "cell_type": "code",
   "execution_count": 59,
   "id": "d3989cb6",
   "metadata": {},
   "outputs": [],
   "source": [
    "train_dataset = CustomDataset(\"./datasets/perceptron.csv\")\n",
    "train_dataloader = DataLoader(train_dataset, batch_size=64, shuffle=True, drop_last=True)"
   ]
  },
  {
   "cell_type": "code",
   "execution_count": 60,
   "id": "b6d6a202",
   "metadata": {},
   "outputs": [],
   "source": [
    "\n",
    "device = \"cuda\" if torch.cuda.is_available() else \"cpu\"\n",
    "model = CustomModel().to(device)\n",
    "criterion = nn.BCELoss().to(device)\n",
    "optimizer = optim.SGD(model.parameters(), lr=0.01)"
   ]
  },
  {
   "cell_type": "code",
   "execution_count": 61,
   "id": "4db192e2",
   "metadata": {},
   "outputs": [
    {
     "name": "stderr",
     "output_type": "stream",
     "text": [
      "C:\\Users\\601\\AppData\\Local\\Temp\\ipykernel_1044\\4096481949.py:10: DeprecationWarning: In future, it will be an error for 'np.bool' scalars to be interpreted as an index\n",
      "  x = torch.FloatTensor([self.x1[index], self.x2[index]])\n",
      "C:\\Users\\601\\AppData\\Local\\Temp\\ipykernel_1044\\4096481949.py:11: DeprecationWarning: In future, it will be an error for 'np.bool' scalars to be interpreted as an index\n",
      "  y = torch.FloatTensor([self.y[index]])\n"
     ]
    },
    {
     "name": "stdout",
     "output_type": "stream",
     "text": [
      "Epoch : 1000, Cost : 0.693\n",
      "Epoch : 2000, Cost : 0.691\n",
      "Epoch : 3000, Cost : 0.665\n",
      "Epoch : 4000, Cost : 0.432\n",
      "Epoch : 5000, Cost : 0.372\n",
      "Epoch : 6000, Cost : 0.356\n",
      "Epoch : 7000, Cost : 0.347\n",
      "Epoch : 8000, Cost : 0.348\n",
      "Epoch : 9000, Cost : 0.345\n",
      "Epoch : 10000, Cost : 0.343\n"
     ]
    }
   ],
   "source": [
    "for epoch in range(10000):\n",
    "    cost = 0.0\n",
    "\n",
    "    for x, y in train_dataloader:\n",
    "        x = x.to(device)\n",
    "        y = y.to(device)\n",
    "\n",
    "        output = model(x)\n",
    "        loss = criterion(output, y)\n",
    "\n",
    "        optimizer.zero_grad()\n",
    "        loss.backward()\n",
    "        optimizer.step()\n",
    "\n",
    "        cost += loss\n",
    "\n",
    "    cost = cost / len(train_dataloader)\n",
    "\n",
    "    if (epoch + 1) % 1000 == 0:\n",
    "        print(f\"Epoch : {epoch+1:4d}, Cost : {cost:.3f}\")"
   ]
  },
  {
   "cell_type": "code",
   "execution_count": 62,
   "id": "27dbb009",
   "metadata": {},
   "outputs": [
    {
     "name": "stdout",
     "output_type": "stream",
     "text": [
      "---------\n",
      "tensor([[0.0073],\n",
      "        [0.9925],\n",
      "        [0.5156],\n",
      "        [0.5217]], device='cuda:0')\n",
      "tensor([[ True],\n",
      "        [False],\n",
      "        [False],\n",
      "        [False]], device='cuda:0')\n"
     ]
    }
   ],
   "source": [
    "with torch.no_grad():\n",
    "    model.eval()\n",
    "    inputs = torch.FloatTensor([\n",
    "        [0, 0],\n",
    "        [0, 1],\n",
    "        [1, 0],\n",
    "        [1, 1]\n",
    "    ]).to(device)\n",
    "    outputs = model(inputs)\n",
    "    \n",
    "    print(\"---------\")\n",
    "    print(outputs)\n",
    "    print(outputs <= 0.5)"
   ]
  },
  {
   "cell_type": "code",
   "execution_count": null,
   "id": "142e8d8f",
   "metadata": {},
   "outputs": [],
   "source": []
  }
 ],
 "metadata": {
  "kernelspec": {
   "display_name": "dl",
   "language": "python",
   "name": "python3"
  },
  "language_info": {
   "codemirror_mode": {
    "name": "ipython",
    "version": 3
   },
   "file_extension": ".py",
   "mimetype": "text/x-python",
   "name": "python",
   "nbconvert_exporter": "python",
   "pygments_lexer": "ipython3",
   "version": "3.12.11"
  }
 },
 "nbformat": 4,
 "nbformat_minor": 5
}
